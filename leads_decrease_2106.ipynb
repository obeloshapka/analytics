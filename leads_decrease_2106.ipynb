{
 "cells": [
  {
   "cell_type": "code",
   "execution_count": 2,
   "metadata": {},
   "outputs": [],
   "source": [
    "import pandas as pd\n",
    "import warnings\n",
    "warnings.filterwarnings('ignore')\n",
    "import matplotlib.pyplot as plt\n",
    "import seaborn as sns\n",
    "from datetime import timedelta"
   ]
  },
  {
   "cell_type": "code",
   "execution_count": 3,
   "metadata": {},
   "outputs": [],
   "source": [
    "df = pd.read_csv('data/inv_listing_1705')\n",
    "\n",
    "df_1 = pd.read_csv('data/inv_listing_17051905')\n",
    "df_2 = pd.read_csv('data/inv_listing_20052305')\n",
    "df_3 = pd.read_csv('data/inv_listing_24052605')\n",
    "df_4 = pd.read_csv('data/inv_listing_27052805')\n",
    "df_5 = pd.read_csv('data/inv_listing_30053105')\n"
   ]
  },
  {
   "cell_type": "code",
   "execution_count": 4,
   "metadata": {},
   "outputs": [],
   "source": [
    "df_sn = pd.read_csv('data/listing_snapshot_marchapril')\n",
    "df_sn_1 = pd.read_csv('data/listing_snapshot_janfeb')\n",
    "df_sn_2 = pd.read_csv('data/listing_snapshot_may')\n",
    "df_sn_3 = pd.read_csv('data/listing_snapshot_novdec')\n",
    "df_sn_4 = pd.read_csv('data/listing_snapshot_sepoct')\n",
    "df_sn_5 = pd.read_csv('data/listing_snapshot_janapr2020')\n",
    "df_sn_6 = pd.read_csv('data/listing_snapshot_mayaug2020')\n",
    "df_sn_7 = pd.read_csv('data/listing_snapshot_sepdec2019')"
   ]
  },
  {
   "cell_type": "code",
   "execution_count": 5,
   "metadata": {},
   "outputs": [],
   "source": [
    "df = pd.concat([df, df_1, df_2, df_3, df_4, df_5], ignore_index=True)"
   ]
  },
  {
   "cell_type": "code",
   "execution_count": 9,
   "metadata": {},
   "outputs": [],
   "source": [
    "df_snn = pd.concat([df_sn_4, df_sn_3, df_sn_1, df_sn, df_sn_2, df_sn_5, df_sn_6], ignore_index=True)"
   ]
  },
  {
   "cell_type": "markdown",
   "metadata": {},
   "source": [
    "Let's take a look at the most popular models in our inventory"
   ]
  },
  {
   "cell_type": "code",
   "execution_count": 53,
   "metadata": {},
   "outputs": [
    {
     "data": {
      "text/html": [
       "<div>\n",
       "<style scoped>\n",
       "    .dataframe tbody tr th:only-of-type {\n",
       "        vertical-align: middle;\n",
       "    }\n",
       "\n",
       "    .dataframe tbody tr th {\n",
       "        vertical-align: top;\n",
       "    }\n",
       "\n",
       "    .dataframe thead th {\n",
       "        text-align: right;\n",
       "    }\n",
       "</style>\n",
       "<table border=\"1\" class=\"dataframe\">\n",
       "  <thead>\n",
       "    <tr style=\"text-align: right;\">\n",
       "      <th></th>\n",
       "      <th>model_key</th>\n",
       "      <th>id</th>\n",
       "    </tr>\n",
       "  </thead>\n",
       "  <tbody>\n",
       "    <tr>\n",
       "      <th>620</th>\n",
       "      <td>golf</td>\n",
       "      <td>69585</td>\n",
       "    </tr>\n",
       "    <tr>\n",
       "      <th>98</th>\n",
       "      <td>3er</td>\n",
       "      <td>42120</td>\n",
       "    </tr>\n",
       "    <tr>\n",
       "      <th>880</th>\n",
       "      <td>octavia</td>\n",
       "      <td>33171</td>\n",
       "    </tr>\n",
       "    <tr>\n",
       "      <th>310</th>\n",
       "      <td>c-klasse</td>\n",
       "      <td>27973</td>\n",
       "    </tr>\n",
       "    <tr>\n",
       "      <th>920</th>\n",
       "      <td>polo</td>\n",
       "      <td>27065</td>\n",
       "    </tr>\n",
       "    <tr>\n",
       "      <th>139</th>\n",
       "      <td>5er</td>\n",
       "      <td>24204</td>\n",
       "    </tr>\n",
       "    <tr>\n",
       "      <th>198</th>\n",
       "      <td>a4</td>\n",
       "      <td>23681</td>\n",
       "    </tr>\n",
       "    <tr>\n",
       "      <th>905</th>\n",
       "      <td>passat</td>\n",
       "      <td>22454</td>\n",
       "    </tr>\n",
       "    <tr>\n",
       "      <th>124</th>\n",
       "      <td>500</td>\n",
       "      <td>21704</td>\n",
       "    </tr>\n",
       "    <tr>\n",
       "      <th>191</th>\n",
       "      <td>a-klasse</td>\n",
       "      <td>21259</td>\n",
       "    </tr>\n",
       "    <tr>\n",
       "      <th>196</th>\n",
       "      <td>a3</td>\n",
       "      <td>20396</td>\n",
       "    </tr>\n",
       "    <tr>\n",
       "      <th>495</th>\n",
       "      <td>e-klasse</td>\n",
       "      <td>20114</td>\n",
       "    </tr>\n",
       "    <tr>\n",
       "      <th>38</th>\n",
       "      <td>1er</td>\n",
       "      <td>19976</td>\n",
       "    </tr>\n",
       "    <tr>\n",
       "      <th>412</th>\n",
       "      <td>corsa</td>\n",
       "      <td>18596</td>\n",
       "    </tr>\n",
       "    <tr>\n",
       "      <th>244</th>\n",
       "      <td>astra</td>\n",
       "      <td>18492</td>\n",
       "    </tr>\n",
       "    <tr>\n",
       "      <th>578</th>\n",
       "      <td>focus</td>\n",
       "      <td>16950</td>\n",
       "    </tr>\n",
       "    <tr>\n",
       "      <th>1208</th>\n",
       "      <td>tiguan</td>\n",
       "      <td>16609</td>\n",
       "    </tr>\n",
       "    <tr>\n",
       "      <th>384</th>\n",
       "      <td>clio</td>\n",
       "      <td>15691</td>\n",
       "    </tr>\n",
       "    <tr>\n",
       "      <th>756</th>\n",
       "      <td>leon</td>\n",
       "      <td>15638</td>\n",
       "    </tr>\n",
       "    <tr>\n",
       "      <th>812</th>\n",
       "      <td>mini</td>\n",
       "      <td>14952</td>\n",
       "    </tr>\n",
       "  </tbody>\n",
       "</table>\n",
       "</div>"
      ],
      "text/plain": [
       "     model_key     id\n",
       "620       golf  69585\n",
       "98         3er  42120\n",
       "880    octavia  33171\n",
       "310   c-klasse  27973\n",
       "920       polo  27065\n",
       "139        5er  24204\n",
       "198         a4  23681\n",
       "905     passat  22454\n",
       "124        500  21704\n",
       "191   a-klasse  21259\n",
       "196         a3  20396\n",
       "495   e-klasse  20114\n",
       "38         1er  19976\n",
       "412      corsa  18596\n",
       "244      astra  18492\n",
       "578      focus  16950\n",
       "1208    tiguan  16609\n",
       "384       clio  15691\n",
       "756       leon  15638\n",
       "812       mini  14952"
      ]
     },
     "execution_count": 53,
     "metadata": {},
     "output_type": "execute_result"
    }
   ],
   "source": [
    "df.groupby(['model_key'])['id'].count().reset_index().sort_values(by='id', ascending = False).head(20)"
   ]
  },
  {
   "cell_type": "code",
   "execution_count": 5,
   "metadata": {},
   "outputs": [],
   "source": [
    "df_s = pd.read_csv('searches')"
   ]
  },
  {
   "cell_type": "code",
   "execution_count": 13,
   "metadata": {},
   "outputs": [],
   "source": [
    "df_snn = pd.concat([df_sn_4, df_sn_3, df_sn_1, df_sn, df_sn_2], ignore_index=True)"
   ]
  },
  {
   "cell_type": "code",
   "execution_count": 17,
   "metadata": {},
   "outputs": [],
   "source": [
    "df_snn['leads_total'] = df_snn['no_of_message_leads'] + df_snn['no_of_ga_call_leads'] "
   ]
  },
  {
   "cell_type": "code",
   "execution_count": 6,
   "metadata": {},
   "outputs": [],
   "source": [
    "df_ = df[pd.to_datetime(df.created_date)>=pd.to_datetime('2019-09-01')][['id', 'make_key', 'model_key','source',\n",
    "                                                                         'inv_dealer_id','created_date', 'deactivation_date', \n",
    "                                                                         'mileage', 'horse_power', 'price', 'fuel_type']]"
   ]
  },
  {
   "cell_type": "code",
   "execution_count": 10,
   "metadata": {},
   "outputs": [],
   "source": [
    "df_mm = pd.merge(df_, df_snn, left_on='id', right_on = 'original_listing_id')"
   ]
  },
  {
   "cell_type": "code",
   "execution_count": 8,
   "metadata": {},
   "outputs": [
    {
     "data": {
      "text/plain": [
       "id                   1686619\n",
       "make_key             1651398\n",
       "model_key            1651398\n",
       "source               1686619\n",
       "inv_dealer_id        1686619\n",
       "created_date         1686619\n",
       "deactivation_date    1457154\n",
       "mileage              1685614\n",
       "horse_power          1658230\n",
       "price                1685943\n",
       "fuel_type            1660318\n",
       "dtype: int64"
      ]
     },
     "execution_count": 8,
     "metadata": {},
     "output_type": "execute_result"
    }
   ],
   "source": [
    "df_.count()"
   ]
  },
  {
   "cell_type": "code",
   "execution_count": 18,
   "metadata": {},
   "outputs": [],
   "source": [
    "df_m = pd.merge(df_, df_snn, left_on='id', right_on='original_listing_id')"
   ]
  },
  {
   "cell_type": "markdown",
   "metadata": {},
   "source": [
    "Plots for all golfs, golfs with less than 50000 mileage, <100000 mileage, <200000 mileage"
   ]
  },
  {
   "cell_type": "code",
   "execution_count": 48,
   "metadata": {},
   "outputs": [],
   "source": [
    "dates = ['2020-09-01','2020-10-01','2020-11-01','2020-12-01','2021-01-01','2021-02-01','2021-03-01',\n",
    "         '2021-04-01', '2021-05-01']\n",
    "leads_golf = []\n",
    "leads_golf_50000 = []\n",
    "leads_golf_100000 = []\n",
    "leads_golf_200000 = []\n",
    "for date in dates:\n",
    "    h = df_m[(pd.to_datetime(df_m.created_date)>=pd.to_datetime(date))&(pd.to_datetime(df_m.created_date)<=pd.to_datetime(date)+timedelta(days=30))&\n",
    "            (pd.to_datetime(df_m.date)<=pd.to_datetime(date)+timedelta(days=30))]\n",
    "    leads_golf.append(h[(h.model_key=='golf')].leads_total.sum())\n",
    "    leads_golf_50000.append(h[(h.model_key=='golf')&(h.mileage<50000)].leads_total.sum())\n",
    "    leads_golf_100000.append(h[(h.model_key=='golf')&(h.mileage>=50000)&(h.mileage<100000)].leads_total.sum())\n",
    "    leads_golf_200000.append(h[(h.model_key=='golf')&(h.mileage>=100000)&(h.mileage<200000)].leads_total.sum())\n",
    "df_av = pd.DataFrame({'date':dates,'leads_golf':leads_golf, \n",
    "                     'leads_golf_50000': leads_golf_50000, 'leads_golf_100000': leads_golf_100000, \n",
    "                      'leads_golf_200000':leads_golf_200000})\n"
   ]
  },
  {
   "cell_type": "code",
   "execution_count": 49,
   "metadata": {},
   "outputs": [
    {
     "data": {
      "image/png": "[encoded data removed]",
      "text/plain": [
       "<Figure size 489.25x360 with 1 Axes>"
      ]
     },
     "metadata": {
      "needs_background": "light"
     },
     "output_type": "display_data"
    },
    {
     "data": {
      "image/png": "[encoded data removed]",
      "text/plain": [
       "<Figure size 446.625x360 with 1 Axes>"
      ]
     },
     "metadata": {
      "needs_background": "light"
     },
     "output_type": "display_data"
    }
   ],
   "source": [
    "sns.catplot(data =pd.melt(df_av[['date', 'leads_golf_50000', 'leads_golf_100000', 'leads_golf_200000']], ['date']), x = 'date', y='value', hue = 'variable', kind = 'bar').set_xticklabels(rotation=30);\n",
    "sns.catplot(data =pd.melt(df_av[['date', 'leads_golf']], ['date']), x = 'date', y='value', hue = 'variable', kind = 'bar').set_xticklabels(rotation=30);"
   ]
  },
  {
   "cell_type": "markdown",
   "metadata": {},
   "source": [
    "the same plots for octavias"
   ]
  },
  {
   "cell_type": "code",
   "execution_count": 50,
   "metadata": {},
   "outputs": [],
   "source": [
    "dates = ['2020-09-01','2020-10-01','2020-11-01','2020-12-01','2021-01-01','2021-02-01','2021-03-01',\n",
    "         '2021-04-01', '2021-05-01']\n",
    "leads_oct = []\n",
    "leads_oct_50000 = []\n",
    "leads_oct_100000 = []\n",
    "leads_oct_200000 = []\n",
    "for date in dates:\n",
    "    h = df_m[(pd.to_datetime(df_m.created_date)>=pd.to_datetime(date))&(pd.to_datetime(df_m.created_date)<=pd.to_datetime(date)+timedelta(days=30))&\n",
    "            (pd.to_datetime(df_m.date)<=pd.to_datetime(date)+timedelta(days=30))]\n",
    "    leads_oct.append(h[(h.model_key=='octavia')].leads_total.sum())\n",
    "    leads_oct_50000.append(h[(h.model_key=='octavia')&(h.mileage<50000)].leads_total.sum())\n",
    "    leads_oct_100000.append(h[(h.model_key=='octavia')&(h.mileage>=50000)&(h.mileage<100000)].leads_total.sum())\n",
    "    leads_oct_200000.append(h[(h.model_key=='octavia')&(h.mileage>=100000)&(h.mileage<200000)].leads_total.sum())\n",
    "df_av = pd.DataFrame({'date':dates, 'leads_oct': leads_oct,\n",
    "                     'leads_oct_50000': leads_oct_50000, 'leads_oct_100000': leads_oct_100000, \n",
    "                      'leads_oct_200000':leads_oct_200000})"
   ]
  },
  {
   "cell_type": "code",
   "execution_count": 51,
   "metadata": {},
   "outputs": [
    {
     "data": {
      "image/png": "[encoded data removed]",
      "text/plain": [
       "<Figure size 485.75x360 with 1 Axes>"
      ]
     },
     "metadata": {
      "needs_background": "light"
     },
     "output_type": "display_data"
    },
    {
     "data": {
      "image/png": "[encoded data removed]",
      "text/plain": [
       "<Figure size 443.125x360 with 1 Axes>"
      ]
     },
     "metadata": {
      "needs_background": "light"
     },
     "output_type": "display_data"
    }
   ],
   "source": [
    "sns.catplot(data =pd.melt(df_av[['date', 'leads_oct_50000', 'leads_oct_100000', 'leads_oct_200000']], ['date']), x = 'date', y='value', hue = 'variable', kind = 'bar').set_xticklabels(rotation=30);\n",
    "sns.catplot(data =pd.melt(df_av[['date', 'leads_oct']], ['date']), x = 'date', y='value', hue = 'variable', kind = 'bar').set_xticklabels(rotation=30);"
   ]
  },
  {
   "cell_type": "markdown",
   "metadata": {},
   "source": [
    "the same plots for bmw 3er"
   ]
  },
  {
   "cell_type": "code",
   "execution_count": 54,
   "metadata": {},
   "outputs": [],
   "source": [
    "dates = ['2020-09-01','2020-10-01','2020-11-01','2020-12-01','2021-01-01','2021-02-01','2021-03-01',\n",
    "         '2021-04-01', '2021-05-01']\n",
    "leads_3er = []\n",
    "leads_3er_50000 = []\n",
    "leads_3er_100000 = []\n",
    "leads_3er_200000 = []\n",
    "for date in dates:\n",
    "    h = df_m[(pd.to_datetime(df_m.created_date)>=pd.to_datetime(date))&(pd.to_datetime(df_m.created_date)<=pd.to_datetime(date)+timedelta(days=30))&\n",
    "            (pd.to_datetime(df_m.date)<=pd.to_datetime(date)+timedelta(days=30))]\n",
    "    leads_3er.append(h[(h.model_key=='3er')].leads_total.sum())\n",
    "    leads_3er_50000.append(h[(h.model_key=='3er')&(h.mileage<50000)].leads_total.sum())\n",
    "    leads_3er_100000.append(h[(h.model_key=='3er')&(h.mileage>=50000)&(h.mileage<100000)].leads_total.sum())\n",
    "    leads_3er_200000.append(h[(h.model_key=='3er')&(h.mileage>=100000)&(h.mileage<200000)].leads_total.sum())\n",
    "df_av = pd.DataFrame({'date':dates, 'leads_3er': leads_3er,\n",
    "                     'leads_3er_50000': leads_3er_50000, 'leads_3er_100000': leads_3er_100000, \n",
    "                      'leads_3er_200000':leads_3er_200000})"
   ]
  },
  {
   "cell_type": "code",
   "execution_count": 55,
   "metadata": {},
   "outputs": [
    {
     "data": {
      "image/png": "[encoded data removed]",
      "text/plain": [
       "<Figure size 486.875x360 with 1 Axes>"
      ]
     },
     "metadata": {
      "needs_background": "light"
     },
     "output_type": "display_data"
    },
    {
     "data": {
      "image/png": "[encoded data removed]",
      "text/plain": [
       "<Figure size 444.25x360 with 1 Axes>"
      ]
     },
     "metadata": {
      "needs_background": "light"
     },
     "output_type": "display_data"
    }
   ],
   "source": [
    "sns.catplot(data =pd.melt(df_av[['date', 'leads_3er_50000', 'leads_3er_100000', 'leads_3er_200000']], ['date']), x = 'date', y='value', hue = 'variable', kind = 'bar').set_xticklabels(rotation=30);\n",
    "sns.catplot(data =pd.melt(df_av[['date', 'leads_3er']], ['date']), x = 'date', y='value', hue = 'variable', kind = 'bar').set_xticklabels(rotation=30);"
   ]
  },
  {
   "cell_type": "markdown",
   "metadata": {},
   "source": [
    "the same plots for vw polo"
   ]
  },
  {
   "cell_type": "code",
   "execution_count": 56,
   "metadata": {},
   "outputs": [],
   "source": [
    "dates = ['2020-09-01','2020-10-01','2020-11-01','2020-12-01','2021-01-01','2021-02-01','2021-03-01',\n",
    "         '2021-04-01', '2021-05-01']\n",
    "leads_polo = []\n",
    "leads_polo_50000 = []\n",
    "leads_polo_100000 = []\n",
    "leads_polo_200000 = []\n",
    "for date in dates:\n",
    "    h = df_m[(pd.to_datetime(df_m.created_date)>=pd.to_datetime(date))&(pd.to_datetime(df_m.created_date)<=pd.to_datetime(date)+timedelta(days=30))&\n",
    "            (pd.to_datetime(df_m.date)<=pd.to_datetime(date)+timedelta(days=30))]\n",
    "    leads_polo.append(h[(h.model_key=='polo')].leads_total.sum())\n",
    "    leads_polo_50000.append(h[(h.model_key=='polo')&(h.mileage<50000)].leads_total.sum())\n",
    "    leads_polo_100000.append(h[(h.model_key=='polo')&(h.mileage>=50000)&(h.mileage<100000)].leads_total.sum())\n",
    "    leads_polo_200000.append(h[(h.model_key=='polo')&(h.mileage>=100000)&(h.mileage<200000)].leads_total.sum())\n",
    "df_av = pd.DataFrame({'date':dates, 'leads_polo': leads_polo,\n",
    "                     'leads_polo_50000': leads_polo_50000, 'leads_polo_100000': leads_polo_100000, \n",
    "                      'leads_polo_200000':leads_polo_200000})"
   ]
  },
  {
   "cell_type": "code",
   "execution_count": 57,
   "metadata": {},
   "outputs": [
    {
     "data": {
      "image/png": "[encoded data removed]",
      "text/plain": [
       "<Figure size 491.5x360 with 1 Axes>"
      ]
     },
     "metadata": {
      "needs_background": "light"
     },
     "output_type": "display_data"
    },
    {
     "data": {
      "image/png": "[encoded data removed]",
      "text/plain": [
       "<Figure size 448.875x360 with 1 Axes>"
      ]
     },
     "metadata": {
      "needs_background": "light"
     },
     "output_type": "display_data"
    }
   ],
   "source": [
    "sns.catplot(data =pd.melt(df_av[['date', 'leads_polo_50000', 'leads_polo_100000', 'leads_polo_200000']], ['date']), x = 'date', y='value', hue = 'variable', kind = 'bar').set_xticklabels(rotation=30);\n",
    "sns.catplot(data =pd.melt(df_av[['date', 'leads_polo']], ['date']), x = 'date', y='value', hue = 'variable', kind = 'bar').set_xticklabels(rotation=30);"
   ]
  },
  {
   "cell_type": "markdown",
   "metadata": {},
   "source": [
    "mercedes-benz c-klasse"
   ]
  },
  {
   "cell_type": "code",
   "execution_count": 58,
   "metadata": {},
   "outputs": [],
   "source": [
    "dates = ['2020-09-01','2020-10-01','2020-11-01','2020-12-01','2021-01-01','2021-02-01','2021-03-01',\n",
    "         '2021-04-01', '2021-05-01']\n",
    "leads_ckl = []\n",
    "leads_ckl_50000 = []\n",
    "leads_ckl_100000 = []\n",
    "leads_ckl_200000 = []\n",
    "for date in dates:\n",
    "    h = df_m[(pd.to_datetime(df_m.created_date)>=pd.to_datetime(date))&(pd.to_datetime(df_m.created_date)<=pd.to_datetime(date)+timedelta(days=30))&\n",
    "            (pd.to_datetime(df_m.date)<=pd.to_datetime(date)+timedelta(days=30))]\n",
    "    leads_ckl.append(h[(h.model_key=='c-klasse')].leads_total.sum())\n",
    "    leads_ckl_50000.append(h[(h.model_key=='c-klasse')&(h.mileage<50000)].leads_total.sum())\n",
    "    leads_ckl_100000.append(h[(h.model_key=='c-klasse')&(h.mileage>=50000)&(h.mileage<100000)].leads_total.sum())\n",
    "    leads_ckl_200000.append(h[(h.model_key=='c-klasse')&(h.mileage>=100000)&(h.mileage<200000)].leads_total.sum())\n",
    "df_av = pd.DataFrame({'date':dates, 'leads_ckl': leads_ckl,\n",
    "                     'leads_ckl_50000': leads_ckl_50000, 'leads_ckl_100000': leads_ckl_100000, \n",
    "                      'leads_ckl_200000':leads_ckl_200000})"
   ]
  },
  {
   "cell_type": "code",
   "execution_count": 59,
   "metadata": {},
   "outputs": [
    {
     "data": {
      "image/png": "[encoded data removed]",
      "text/plain": [
       "<Figure size 484.5x360 with 1 Axes>"
      ]
     },
     "metadata": {
      "needs_background": "light"
     },
     "output_type": "display_data"
    },
    {
     "data": {
      "image/png": "[encoded data removed]",
      "text/plain": [
       "<Figure size 441.875x360 with 1 Axes>"
      ]
     },
     "metadata": {
      "needs_background": "light"
     },
     "output_type": "display_data"
    }
   ],
   "source": [
    "sns.catplot(data =pd.melt(df_av[['date', 'leads_ckl_50000', 'leads_ckl_100000', 'leads_ckl_200000']], ['date']), x = 'date', y='value', hue = 'variable', kind = 'bar').set_xticklabels(rotation=30);\n",
    "sns.catplot(data =pd.melt(df_av[['date', 'leads_ckl']], ['date']), x = 'date', y='value', hue = 'variable', kind = 'bar').set_xticklabels(rotation=30);"
   ]
  },
  {
   "cell_type": "markdown",
   "metadata": {},
   "source": [
    "fiat 500"
   ]
  },
  {
   "cell_type": "code",
   "execution_count": 60,
   "metadata": {},
   "outputs": [],
   "source": [
    "dates = ['2020-09-01','2020-10-01','2020-11-01','2020-12-01','2021-01-01','2021-02-01','2021-03-01',\n",
    "         '2021-04-01', '2021-05-01']\n",
    "leads_f500 = []\n",
    "leads_f500_50000 = []\n",
    "leads_f500_100000 = []\n",
    "leads_f500_200000 = []\n",
    "for date in dates:\n",
    "    h = df_m[(pd.to_datetime(df_m.created_date)>=pd.to_datetime(date))&(pd.to_datetime(df_m.created_date)<=pd.to_datetime(date)+timedelta(days=30))&\n",
    "            (pd.to_datetime(df_m.date)<=pd.to_datetime(date)+timedelta(days=30))]\n",
    "    leads_f500.append(h[(h.model_key=='500')].leads_total.sum())\n",
    "    leads_f500_50000.append(h[(h.model_key=='500')&(h.mileage<50000)].leads_total.sum())\n",
    "    leads_f500_100000.append(h[(h.model_key=='500')&(h.mileage>=50000)&(h.mileage<100000)].leads_total.sum())\n",
    "    leads_f500_200000.append(h[(h.model_key=='500')&(h.mileage>=100000)&(h.mileage<200000)].leads_total.sum())\n",
    "df_av = pd.DataFrame({'date':dates, 'leads_f500': leads_f500,\n",
    "                     'leads_f500_50000': leads_f500_50000, 'leads_f500_100000': leads_f500_100000, \n",
    "                      'leads_f500_200000':leads_f500_200000})"
   ]
  },
  {
   "cell_type": "code",
   "execution_count": 61,
   "metadata": {},
   "outputs": [
    {
     "data": {
      "image/png": "[encoded data removed]",
      "text/plain": [
       "<Figure size 492.875x360 with 1 Axes>"
      ]
     },
     "metadata": {
      "needs_background": "light"
     },
     "output_type": "display_data"
    },
    {
     "data": {
      "image/png": "[encoded data removed]",
      "text/plain": [
       "<Figure size 450.25x360 with 1 Axes>"
      ]
     },
     "metadata": {
      "needs_background": "light"
     },
     "output_type": "display_data"
    }
   ],
   "source": [
    "sns.catplot(data =pd.melt(df_av[['date', 'leads_f500_50000', 'leads_f500_100000', 'leads_f500_200000']], ['date']), x = 'date', y='value', hue = 'variable', kind = 'bar').set_xticklabels(rotation=30);\n",
    "sns.catplot(data =pd.melt(df_av[['date', 'leads_f500']], ['date']), x = 'date', y='value', hue = 'variable', kind = 'bar').set_xticklabels(rotation=30);"
   ]
  },
  {
   "cell_type": "markdown",
   "metadata": {},
   "source": [
    "on the make level - for vw"
   ]
  },
  {
   "cell_type": "code",
   "execution_count": 62,
   "metadata": {},
   "outputs": [],
   "source": [
    "dates = ['2020-09-01','2020-10-01','2020-11-01','2020-12-01','2021-01-01','2021-02-01','2021-03-01',\n",
    "         '2021-04-01', '2021-05-01']\n",
    "leads_vw = []\n",
    "leads_vw_50000 = []\n",
    "leads_vw_100000 = []\n",
    "leads_vw_200000 = []\n",
    "for date in dates:\n",
    "    h = df_m[(pd.to_datetime(df_m.created_date)>=pd.to_datetime(date))&(pd.to_datetime(df_m.created_date)<=pd.to_datetime(date)+timedelta(days=30))&\n",
    "            (pd.to_datetime(df_m.date)<=pd.to_datetime(date)+timedelta(days=30))]\n",
    "    leads_vw.append(h[(h.make_key=='vw')].leads_total.sum())\n",
    "    leads_vw_50000.append(h[(h.make_key=='vw')&(h.mileage<50000)].leads_total.sum())\n",
    "    leads_vw_100000.append(h[(h.make_key=='vw')&(h.mileage>=50000)&(h.mileage<100000)].leads_total.sum())\n",
    "    leads_vw_200000.append(h[(h.make_key=='vw')&(h.mileage>=100000)&(h.mileage<200000)].leads_total.sum())\n",
    "df_av = pd.DataFrame({'date':dates, 'leads_vw': leads_vw,\n",
    "                     'leads_vw_50000': leads_vw_50000, 'leads_vw_100000': leads_vw_100000, \n",
    "                      'leads_vw_200000':leads_vw_200000})"
   ]
  },
  {
   "cell_type": "code",
   "execution_count": 63,
   "metadata": {},
   "outputs": [
    {
     "data": {
      "image/png": "[encoded data removed]",
      "text/plain": [
       "<Figure size 484.375x360 with 1 Axes>"
      ]
     },
     "metadata": {
      "needs_background": "light"
     },
     "output_type": "display_data"
    },
    {
     "data": {
      "image/png": "[encoded data removed]",
      "text/plain": [
       "<Figure size 441.75x360 with 1 Axes>"
      ]
     },
     "metadata": {
      "needs_background": "light"
     },
     "output_type": "display_data"
    }
   ],
   "source": [
    "sns.catplot(data =pd.melt(df_av[['date', 'leads_vw_50000', 'leads_vw_100000', 'leads_vw_200000']], ['date']), x = 'date', y='value', hue = 'variable', kind = 'bar').set_xticklabels(rotation=30);\n",
    "sns.catplot(data =pd.melt(df_av[['date', 'leads_vw']], ['date']), x = 'date', y='value', hue = 'variable', kind = 'bar').set_xticklabels(rotation=30);"
   ]
  },
  {
   "cell_type": "markdown",
   "metadata": {},
   "source": [
    "for bmw"
   ]
  },
  {
   "cell_type": "code",
   "execution_count": 64,
   "metadata": {},
   "outputs": [],
   "source": [
    "dates = ['2020-09-01','2020-10-01','2020-11-01','2020-12-01','2021-01-01','2021-02-01','2021-03-01',\n",
    "         '2021-04-01', '2021-05-01']\n",
    "leads_bmw = []\n",
    "leads_bmw_50000 = []\n",
    "leads_bmw_100000 = []\n",
    "leads_bmw_200000 = []\n",
    "for date in dates:\n",
    "    h = df_m[(pd.to_datetime(df_m.created_date)>=pd.to_datetime(date))&(pd.to_datetime(df_m.created_date)<=pd.to_datetime(date)+timedelta(days=30))&\n",
    "            (pd.to_datetime(df_m.date)<=pd.to_datetime(date)+timedelta(days=30))]\n",
    "    leads_bmw.append(h[(h.make_key=='bmw')].leads_total.sum())\n",
    "    leads_bmw_50000.append(h[(h.make_key=='bmw')&(h.mileage<50000)].leads_total.sum())\n",
    "    leads_bmw_100000.append(h[(h.make_key=='bmw')&(h.mileage>=50000)&(h.mileage<100000)].leads_total.sum())\n",
    "    leads_bmw_200000.append(h[(h.make_key=='bmw')&(h.mileage>=100000)&(h.mileage<200000)].leads_total.sum())\n",
    "df_av = pd.DataFrame({'date':dates, 'leads_bmw': leads_bmw,\n",
    "                     'leads_bmw_50000': leads_bmw_50000, 'leads_bmw_100000': leads_bmw_100000, \n",
    "                      'leads_bmw_200000':leads_bmw_200000})"
   ]
  },
  {
   "cell_type": "code",
   "execution_count": 65,
   "metadata": {},
   "outputs": [
    {
     "data": {
      "image/png": "[encoded data removed]",
      "text/plain": [
       "<Figure size 494.375x360 with 1 Axes>"
      ]
     },
     "metadata": {
      "needs_background": "light"
     },
     "output_type": "display_data"
    },
    {
     "data": {
      "image/png": "[encoded data removed]",
      "text/plain": [
       "<Figure size 451.75x360 with 1 Axes>"
      ]
     },
     "metadata": {
      "needs_background": "light"
     },
     "output_type": "display_data"
    }
   ],
   "source": [
    "sns.catplot(data =pd.melt(df_av[['date', 'leads_bmw_50000', 'leads_bmw_100000', 'leads_bmw_200000']], ['date']), x = 'date', y='value', hue = 'variable', kind = 'bar').set_xticklabels(rotation=30);\n",
    "sns.catplot(data =pd.melt(df_av[['date', 'leads_bmw']], ['date']), x = 'date', y='value', hue = 'variable', kind = 'bar').set_xticklabels(rotation=30);"
   ]
  },
  {
   "cell_type": "markdown",
   "metadata": {},
   "source": [
    "for opel"
   ]
  },
  {
   "cell_type": "code",
   "execution_count": 66,
   "metadata": {},
   "outputs": [],
   "source": [
    "dates = ['2020-09-01','2020-10-01','2020-11-01','2020-12-01','2021-01-01','2021-02-01','2021-03-01',\n",
    "         '2021-04-01', '2021-05-01']\n",
    "leads_opel = []\n",
    "leads_opel_50000 = []\n",
    "leads_opel_100000 = []\n",
    "leads_opel_200000 = []\n",
    "for date in dates:\n",
    "    h = df_m[(pd.to_datetime(df_m.created_date)>=pd.to_datetime(date))&(pd.to_datetime(df_m.created_date)<=pd.to_datetime(date)+timedelta(days=30))&\n",
    "            (pd.to_datetime(df_m.date)<=pd.to_datetime(date)+timedelta(days=30))]\n",
    "    leads_opel.append(h[(h.make_key=='opel')].leads_total.sum())\n",
    "    leads_opel_50000.append(h[(h.make_key=='opel')&(h.mileage<50000)].leads_total.sum())\n",
    "    leads_opel_100000.append(h[(h.make_key=='opel')&(h.mileage>=50000)&(h.mileage<100000)].leads_total.sum())\n",
    "    leads_opel_200000.append(h[(h.make_key=='opel')&(h.mileage>=100000)&(h.mileage<200000)].leads_total.sum())\n",
    "df_av = pd.DataFrame({'date':dates, 'leads_opel': leads_opel,\n",
    "                     'leads_opel_50000': leads_opel_50000, 'leads_opel_100000': leads_opel_100000, \n",
    "                      'leads_opel_200000':leads_opel_200000})"
   ]
  },
  {
   "cell_type": "code",
   "execution_count": 67,
   "metadata": {},
   "outputs": [
    {
     "data": {
      "image/png": "[encoded data removed]",
      "text/plain": [
       "<Figure size 491.625x360 with 1 Axes>"
      ]
     },
     "metadata": {
      "needs_background": "light"
     },
     "output_type": "display_data"
    },
    {
     "data": {
      "image/png": "[encoded data removed]",
      "text/plain": [
       "<Figure size 449x360 with 1 Axes>"
      ]
     },
     "metadata": {
      "needs_background": "light"
     },
     "output_type": "display_data"
    }
   ],
   "source": [
    "sns.catplot(data =pd.melt(df_av[['date', 'leads_opel_50000', 'leads_opel_100000', 'leads_opel_200000']], ['date']), x = 'date', y='value', hue = 'variable', kind = 'bar').set_xticklabels(rotation=30);\n",
    "sns.catplot(data =pd.melt(df_av[['date', 'leads_opel']], ['date']), x = 'date', y='value', hue = 'variable', kind = 'bar').set_xticklabels(rotation=30);"
   ]
  },
  {
   "cell_type": "markdown",
   "metadata": {},
   "source": [
    "porsche"
   ]
  },
  {
   "cell_type": "code",
   "execution_count": 68,
   "metadata": {},
   "outputs": [],
   "source": [
    "dates = ['2020-09-01','2020-10-01','2020-11-01','2020-12-01','2021-01-01','2021-02-01','2021-03-01',\n",
    "         '2021-04-01', '2021-05-01']\n",
    "leads_porsche = []\n",
    "leads_porsche_50000 = []\n",
    "leads_porsche_100000 = []\n",
    "leads_porsche_200000 = []\n",
    "for date in dates:\n",
    "    h = df_m[(pd.to_datetime(df_m.created_date)>=pd.to_datetime(date))&(pd.to_datetime(df_m.created_date)<=pd.to_datetime(date)+timedelta(days=30))&\n",
    "            (pd.to_datetime(df_m.date)<=pd.to_datetime(date)+timedelta(days=30))]\n",
    "    leads_porsche.append(h[(h.make_key=='porsche')].leads_total.sum())\n",
    "    leads_porsche_50000.append(h[(h.make_key=='porsche')&(h.mileage<50000)].leads_total.sum())\n",
    "    leads_porsche_100000.append(h[(h.make_key=='porsche')&(h.mileage>=50000)&(h.mileage<100000)].leads_total.sum())\n",
    "    leads_porsche_200000.append(h[(h.make_key=='porsche')&(h.mileage>=100000)&(h.mileage<200000)].leads_total.sum())\n",
    "df_av = pd.DataFrame({'date':dates, 'leads_porsche': leads_porsche,\n",
    "                     'leads_porsche_50000': leads_porsche_50000, 'leads_porsche_100000': leads_porsche_100000, \n",
    "                      'leads_porsche_200000':leads_porsche_200000})"
   ]
  },
  {
   "cell_type": "code",
   "execution_count": 69,
   "metadata": {},
   "outputs": [
    {
     "data": {
      "image/png": "[encoded data removed]",
      "text/plain": [
       "<Figure size 510x360 with 1 Axes>"
      ]
     },
     "metadata": {
      "needs_background": "light"
     },
     "output_type": "display_data"
    },
    {
     "data": {
      "image/png": "[encoded data removed]",
      "text/plain": [
       "<Figure size 467.375x360 with 1 Axes>"
      ]
     },
     "metadata": {
      "needs_background": "light"
     },
     "output_type": "display_data"
    }
   ],
   "source": [
    "sns.catplot(data =pd.melt(df_av[['date', 'leads_porsche_50000', 'leads_porsche_100000', 'leads_porsche_200000']], ['date']), x = 'date', y='value', hue = 'variable', kind = 'bar').set_xticklabels(rotation=30);\n",
    "sns.catplot(data =pd.melt(df_av[['date', 'leads_porsche']], ['date']), x = 'date', y='value', hue = 'variable', kind = 'bar').set_xticklabels(rotation=30);"
   ]
  },
  {
   "cell_type": "markdown",
   "metadata": {},
   "source": [
    "split by fuel_type"
   ]
  },
  {
   "cell_type": "code",
   "execution_count": 141,
   "metadata": {},
   "outputs": [],
   "source": [
    "dates = ['2020-09-01','2020-10-01','2020-11-01','2020-12-01','2021-01-01','2021-02-01','2021-03-01',\n",
    "         '2021-04-01', '2021-05-01']\n",
    "leads_electric = []\n",
    "leads_petrol = []\n",
    "leads_diesel = []\n",
    "\n",
    "for date in dates:\n",
    "    h = df_m[(pd.to_datetime(df_m.created_date)>=pd.to_datetime(date))&(pd.to_datetime(df_m.created_date)<=pd.to_datetime(date)+timedelta(days=30))&\n",
    "            (pd.to_datetime(df_m.date)<=pd.to_datetime(date)+timedelta(days=30))]\n",
    "    leads_electric.append(h[(h.fuel_type=='electric')].leads_total.sum())\n",
    "    leads_petrol.append(h[(h.fuel_type=='petrol')].leads_total.sum())\n",
    "    leads_diesel.append(h[(h.fuel_type=='diesel')].leads_total.sum())\n",
    "df_av = pd.DataFrame({'date':dates, 'leads_electric': leads_electric,\n",
    "                     'leads_petrol': leads_petrol, \n",
    "                      'leads_diesel':leads_diesel})"
   ]
  },
  {
   "cell_type": "code",
   "execution_count": 142,
   "metadata": {},
   "outputs": [
    {
     "data": {
      "image/png": "[encoded data removed]",
      "text/plain": [
       "<Figure size 457.375x360 with 1 Axes>"
      ]
     },
     "metadata": {
      "needs_background": "light"
     },
     "output_type": "display_data"
    },
    {
     "data": {
      "image/png": "[encoded data removed]",
      "text/plain": [
       "<Figure size 464.75x360 with 1 Axes>"
      ]
     },
     "metadata": {
      "needs_background": "light"
     },
     "output_type": "display_data"
    }
   ],
   "source": [
    "sns.catplot(data =pd.melt(df_av[['date', 'leads_petrol', 'leads_diesel']], ['date']), x = 'date', y='value', hue = 'variable', kind = 'bar').set_xticklabels(rotation=30);\n",
    "sns.catplot(data =pd.melt(df_av[['date', 'leads_electric']], ['date']), x = 'date', y='value', hue = 'variable', kind = 'bar').set_xticklabels(rotation=30);\n"
   ]
  },
  {
   "cell_type": "markdown",
   "metadata": {},
   "source": [
    "split by horse_power (<100ps, 100 to 150, 150 to 200, more than 200)"
   ]
  },
  {
   "cell_type": "code",
   "execution_count": 82,
   "metadata": {},
   "outputs": [],
   "source": [
    "dates = ['2020-09-01','2020-10-01','2020-11-01','2020-12-01','2021-01-01','2021-02-01','2021-03-01',\n",
    "         '2021-04-01', '2021-05-01']\n",
    "leads_hp100 = []\n",
    "leads_hp150 = []\n",
    "leads_hp200 = []\n",
    "leads_hpm200 = []\n",
    "\n",
    "for date in dates:\n",
    "    h = df_m[(pd.to_datetime(df_m.created_date)>=pd.to_datetime(date))&(pd.to_datetime(df_m.created_date)<=pd.to_datetime(date)+timedelta(days=30))&\n",
    "            (pd.to_datetime(df_m.date)<=pd.to_datetime(date)+timedelta(days=30))]\n",
    "    leads_hp100.append(h[(h.horse_power<100)].leads_total.sum())\n",
    "    leads_hp150.append(h[(h.horse_power>=100)&(h.horse_power<150)].leads_total.sum())\n",
    "    leads_hp200.append(h[(h.horse_power>=150)&(h.horse_power<200)].leads_total.sum())\n",
    "    leads_hpm200.append(h[(h.horse_power>=200)].leads_total.sum())\n",
    "df_av = pd.DataFrame({'date':dates, 'leads_hp100': leads_hp100,\n",
    "                     'leads_hp150': leads_hp150, \n",
    "                      'leads_hp200':leads_hp200, \n",
    "                     'leads_hpm200': leads_hpm200})"
   ]
  },
  {
   "cell_type": "code",
   "execution_count": 83,
   "metadata": {},
   "outputs": [
    {
     "data": {
      "image/png": "[encoded data removed]",
      "text/plain": [
       "<Figure size 468.875x360 with 1 Axes>"
      ]
     },
     "metadata": {
      "needs_background": "light"
     },
     "output_type": "display_data"
    }
   ],
   "source": [
    "sns.catplot(data =pd.melt(df_av, ['date']), x = 'date', y='value', hue = 'variable', kind = 'bar').set_xticklabels(rotation=30);\n"
   ]
  },
  {
   "cell_type": "markdown",
   "metadata": {},
   "source": [
    "Let's take a look at the list of dealers who published more listings as of September 2020 and then we'll look at the following months/amount of published inventory by those dealers"
   ]
  },
  {
   "cell_type": "code",
   "execution_count": 9,
   "metadata": {},
   "outputs": [
    {
     "data": {
      "text/plain": [
       "{1019, 1056, 1123, 1581, 1622, 1963, 1996, 100947, 101912, 102905}"
      ]
     },
     "execution_count": 9,
     "metadata": {},
     "output_type": "execute_result"
    }
   ],
   "source": [
    "date = '2019-09-01'\n",
    "h = df_[(pd.to_datetime(df_.created_date)>=pd.to_datetime(date))&(pd.to_datetime(df_.created_date)<=pd.to_datetime(date)+timedelta(days=30))]\n",
    "d_lst = set(h[h.source.isin(['MANUAL', 'DEALER_PLATFORM'])].groupby(['inv_dealer_id'])['id'].count().reset_index().sort_values(by='id', ascending = False).head(10).inv_dealer_id)\n",
    "d_lst"
   ]
  },
  {
   "cell_type": "code",
   "execution_count": 101,
   "metadata": {},
   "outputs": [],
   "source": [
    "dates = ['2020-09-01','2020-10-01','2020-11-01','2020-12-01','2021-01-01','2021-02-01','2021-03-01',\n",
    "         '2021-04-01', '2021-05-01']\n",
    "inv_1015 = []\n",
    "inv_1056 = []\n",
    "inv_1123 = []\n",
    "inv_1134 = []\n",
    "inv_1581 = []\n",
    "inv_1582 = []\n",
    "inv_100430 = []\n",
    "inv_101620 = []\n",
    "inv_102724 = []\n",
    "inv_102905 = []\n",
    "\n",
    "\n",
    "for date in dates:\n",
    "    #h = df_m[(pd.to_datetime(df_m.created_date)>=pd.to_datetime(date))&(pd.to_datetime(df_m.created_date)<=pd.to_datetime(date)+timedelta(days=30))&\n",
    "     #       (pd.to_datetime(df_m.date)<=pd.to_datetime(date)+timedelta(days=30))]\n",
    "    h = df_[(pd.to_datetime(df_.created_date)>=pd.to_datetime(date))&(pd.to_datetime(df_.created_date)<=pd.to_datetime(date)+timedelta(days=30))]\n",
    "    inv_1015.append(h[h.inv_dealer_id==1015].id.count())\n",
    "    inv_1056.append(h[h.inv_dealer_id==1056].id.count())\n",
    "    inv_1123.append(h[h.inv_dealer_id==1123].id.count())\n",
    "    inv_1134.append(h[h.inv_dealer_id==1134].id.count())\n",
    "    inv_1581.append(h[h.inv_dealer_id==1581].id.count())\n",
    "    inv_1582.append(h[h.inv_dealer_id==1582].id.count())\n",
    "    inv_100430.append(h[h.inv_dealer_id==100430].id.count())\n",
    "    inv_101620.append(h[h.inv_dealer_id==101620].id.count())\n",
    "    inv_102724.append(h[h.inv_dealer_id==102724].id.count())\n",
    "    inv_102905.append(h[h.inv_dealer_id==102905].id.count())\n",
    "\n",
    "df_d = pd.DataFrame({'date':dates, 'inv_1015':inv_1015,\n",
    "                     'inv_1056':inv_1056, \n",
    "                     'inv_1123':inv_1123, \n",
    "                     'inv_1134':inv_1134, \n",
    "                        'inv_1581':inv_1581, \n",
    "                     'inv_1582':inv_1582, \n",
    "                     'inv_100430':inv_100430, \n",
    "                     'inv_101620':inv_101620,\n",
    "                    'inv_102724':inv_102724, \n",
    "                     'inv_102905':inv_102905})"
   ]
  },
  {
   "cell_type": "code",
   "execution_count": 102,
   "metadata": {},
   "outputs": [
    {
     "data": {
      "image/png": "[encoded data removed]",
      "text/plain": [
       "<Figure size 454.125x360 with 1 Axes>"
      ]
     },
     "metadata": {
      "needs_background": "light"
     },
     "output_type": "display_data"
    }
   ],
   "source": [
    "sns.catplot(data =pd.melt(df_d, ['date']), x = 'date', y='value', hue = 'variable', kind = 'bar').set_xticklabels(rotation=30);\n"
   ]
  },
  {
   "cell_type": "markdown",
   "metadata": {},
   "source": [
    "Let's compare the top-10 make/models, average mileage and price for the inventory from this dealers list as of Sep 20 vs May 21"
   ]
  },
  {
   "cell_type": "code",
   "execution_count": 146,
   "metadata": {},
   "outputs": [
    {
     "data": {
      "text/html": [
       "<div>\n",
       "<style scoped>\n",
       "    .dataframe tbody tr th:only-of-type {\n",
       "        vertical-align: middle;\n",
       "    }\n",
       "\n",
       "    .dataframe tbody tr th {\n",
       "        vertical-align: top;\n",
       "    }\n",
       "\n",
       "    .dataframe thead th {\n",
       "        text-align: right;\n",
       "    }\n",
       "</style>\n",
       "<table border=\"1\" class=\"dataframe\">\n",
       "  <thead>\n",
       "    <tr style=\"text-align: right;\">\n",
       "      <th></th>\n",
       "      <th>model_key</th>\n",
       "      <th>id</th>\n",
       "    </tr>\n",
       "  </thead>\n",
       "  <tbody>\n",
       "    <tr>\n",
       "      <th>34</th>\n",
       "      <td>alhambra</td>\n",
       "      <td>76</td>\n",
       "    </tr>\n",
       "    <tr>\n",
       "      <th>181</th>\n",
       "      <td>octavia</td>\n",
       "      <td>76</td>\n",
       "    </tr>\n",
       "    <tr>\n",
       "      <th>159</th>\n",
       "      <td>leon</td>\n",
       "      <td>63</td>\n",
       "    </tr>\n",
       "    <tr>\n",
       "      <th>118</th>\n",
       "      <td>golf</td>\n",
       "      <td>63</td>\n",
       "    </tr>\n",
       "    <tr>\n",
       "      <th>11</th>\n",
       "      <td>3er</td>\n",
       "      <td>47</td>\n",
       "    </tr>\n",
       "    <tr>\n",
       "      <th>121</th>\n",
       "      <td>grand-cherokee</td>\n",
       "      <td>45</td>\n",
       "    </tr>\n",
       "    <tr>\n",
       "      <th>14</th>\n",
       "      <td>500</td>\n",
       "      <td>44</td>\n",
       "    </tr>\n",
       "    <tr>\n",
       "      <th>18</th>\n",
       "      <td>5er</td>\n",
       "      <td>43</td>\n",
       "    </tr>\n",
       "    <tr>\n",
       "      <th>257</th>\n",
       "      <td>touran</td>\n",
       "      <td>41</td>\n",
       "    </tr>\n",
       "    <tr>\n",
       "      <th>253</th>\n",
       "      <td>tiguan</td>\n",
       "      <td>40</td>\n",
       "    </tr>\n",
       "  </tbody>\n",
       "</table>\n",
       "</div>"
      ],
      "text/plain": [
       "          model_key  id\n",
       "34         alhambra  76\n",
       "181         octavia  76\n",
       "159            leon  63\n",
       "118            golf  63\n",
       "11              3er  47\n",
       "121  grand-cherokee  45\n",
       "14              500  44\n",
       "18              5er  43\n",
       "257          touran  41\n",
       "253          tiguan  40"
      ]
     },
     "execution_count": 146,
     "metadata": {},
     "output_type": "execute_result"
    }
   ],
   "source": [
    "date = '2020-09-01'\n",
    "df_[df_.inv_dealer_id.isin(d_lst)&\n",
    " (pd.to_datetime(df_.created_date)>=pd.to_datetime(date))&(pd.to_datetime(df_.created_date)<=pd.to_datetime(date)+timedelta(days=30))].groupby(['model_key'])['id'].count().reset_index().sort_values(by='id', ascending = False).head(10)"
   ]
  },
  {
   "cell_type": "code",
   "execution_count": 147,
   "metadata": {},
   "outputs": [
    {
     "data": {
      "text/plain": [
       "11000.0"
      ]
     },
     "execution_count": 147,
     "metadata": {},
     "output_type": "execute_result"
    }
   ],
   "source": [
    "df_[df_.inv_dealer_id.isin(d_lst)&\n",
    " (pd.to_datetime(df_.created_date)>=pd.to_datetime(date))&(pd.to_datetime(df_.created_date)<=pd.to_datetime(date)+timedelta(days=30))].mileage.median()\n"
   ]
  },
  {
   "cell_type": "code",
   "execution_count": 148,
   "metadata": {},
   "outputs": [
    {
     "data": {
      "text/plain": [
       "27690.0"
      ]
     },
     "execution_count": 148,
     "metadata": {},
     "output_type": "execute_result"
    }
   ],
   "source": [
    "df_[df_.inv_dealer_id.isin(d_lst)&\n",
    " (pd.to_datetime(df_.created_date)>=pd.to_datetime(date))&(pd.to_datetime(df_.created_date)<=pd.to_datetime(date)+timedelta(days=30))].price.median()"
   ]
  },
  {
   "cell_type": "code",
   "execution_count": 150,
   "metadata": {},
   "outputs": [
    {
     "data": {
      "text/html": [
       "<div>\n",
       "<style scoped>\n",
       "    .dataframe tbody tr th:only-of-type {\n",
       "        vertical-align: middle;\n",
       "    }\n",
       "\n",
       "    .dataframe tbody tr th {\n",
       "        vertical-align: top;\n",
       "    }\n",
       "\n",
       "    .dataframe thead th {\n",
       "        text-align: right;\n",
       "    }\n",
       "</style>\n",
       "<table border=\"1\" class=\"dataframe\">\n",
       "  <thead>\n",
       "    <tr style=\"text-align: right;\">\n",
       "      <th></th>\n",
       "      <th>model_key</th>\n",
       "      <th>id</th>\n",
       "    </tr>\n",
       "  </thead>\n",
       "  <tbody>\n",
       "    <tr>\n",
       "      <th>141</th>\n",
       "      <td>octavia</td>\n",
       "      <td>36</td>\n",
       "    </tr>\n",
       "    <tr>\n",
       "      <th>103</th>\n",
       "      <td>i30</td>\n",
       "      <td>27</td>\n",
       "    </tr>\n",
       "    <tr>\n",
       "      <th>145</th>\n",
       "      <td>passat</td>\n",
       "      <td>24</td>\n",
       "    </tr>\n",
       "    <tr>\n",
       "      <th>115</th>\n",
       "      <td>kamiq</td>\n",
       "      <td>23</td>\n",
       "    </tr>\n",
       "    <tr>\n",
       "      <th>125</th>\n",
       "      <td>leon</td>\n",
       "      <td>22</td>\n",
       "    </tr>\n",
       "    <tr>\n",
       "      <th>92</th>\n",
       "      <td>golf</td>\n",
       "      <td>19</td>\n",
       "    </tr>\n",
       "    <tr>\n",
       "      <th>21</th>\n",
       "      <td>a4</td>\n",
       "      <td>18</td>\n",
       "    </tr>\n",
       "    <tr>\n",
       "      <th>185</th>\n",
       "      <td>sx4</td>\n",
       "      <td>18</td>\n",
       "    </tr>\n",
       "    <tr>\n",
       "      <th>80</th>\n",
       "      <td>fabia</td>\n",
       "      <td>17</td>\n",
       "    </tr>\n",
       "    <tr>\n",
       "      <th>16</th>\n",
       "      <td>5er</td>\n",
       "      <td>16</td>\n",
       "    </tr>\n",
       "  </tbody>\n",
       "</table>\n",
       "</div>"
      ],
      "text/plain": [
       "    model_key  id\n",
       "141   octavia  36\n",
       "103       i30  27\n",
       "145    passat  24\n",
       "115     kamiq  23\n",
       "125      leon  22\n",
       "92       golf  19\n",
       "21         a4  18\n",
       "185       sx4  18\n",
       "80      fabia  17\n",
       "16        5er  16"
      ]
     },
     "execution_count": 150,
     "metadata": {},
     "output_type": "execute_result"
    }
   ],
   "source": [
    "date = '2021-05-01'\n",
    "df_[df_.inv_dealer_id.isin(d_lst)&\n",
    " (pd.to_datetime(df_.created_date)>=pd.to_datetime(date))&(pd.to_datetime(df_.created_date)<=pd.to_datetime(date)+timedelta(days=30))].groupby(['model_key'])['id'].count().reset_index().sort_values(by='id', ascending = False).head(10)"
   ]
  },
  {
   "cell_type": "code",
   "execution_count": 151,
   "metadata": {},
   "outputs": [
    {
     "data": {
      "text/plain": [
       "27000.0"
      ]
     },
     "execution_count": 151,
     "metadata": {},
     "output_type": "execute_result"
    }
   ],
   "source": [
    "df_[df_.inv_dealer_id.isin(d_lst)&\n",
    " (pd.to_datetime(df_.created_date)>=pd.to_datetime(date))&(pd.to_datetime(df_.created_date)<=pd.to_datetime(date)+timedelta(days=30))].mileage.median()\n"
   ]
  },
  {
   "cell_type": "code",
   "execution_count": 152,
   "metadata": {},
   "outputs": [
    {
     "data": {
      "text/plain": [
       "24550.0"
      ]
     },
     "execution_count": 152,
     "metadata": {},
     "output_type": "execute_result"
    }
   ],
   "source": [
    "df_[df_.inv_dealer_id.isin(d_lst)&\n",
    " (pd.to_datetime(df_.created_date)>=pd.to_datetime(date))&(pd.to_datetime(df_.created_date)<=pd.to_datetime(date)+timedelta(days=30))].price.median()"
   ]
  },
  {
   "cell_type": "markdown",
   "metadata": {},
   "source": [
    "Let's make the same analysis for leads: \n",
    "top-10 dealers generating more leads as of Sep 2020 and the trend for the following months"
   ]
  },
  {
   "cell_type": "code",
   "execution_count": 19,
   "metadata": {},
   "outputs": [
    {
     "data": {
      "text/plain": [
       "set()"
      ]
     },
     "execution_count": 19,
     "metadata": {},
     "output_type": "execute_result"
    }
   ],
   "source": [
    "date = '2019-09-01'\n",
    "h = df_m[(pd.to_datetime(df_m.created_date)>=pd.to_datetime(date))&(pd.to_datetime(df_m.created_date)<=pd.to_datetime(date)+timedelta(days=30))&\n",
    "         (pd.to_datetime(df_m.date)<=pd.to_datetime(date)+timedelta(days=30))]\n",
    "d_lstl = set(h[h.source.isin(['MANUAL', 'DEALER_PLATFORM'])].groupby(['inv_dealer_id'])['leads_total'].sum().reset_index().sort_values(by='leads_total', ascending = False).head(10).inv_dealer_id)\n",
    "d_lstl"
   ]
  },
  {
   "cell_type": "code",
   "execution_count": 154,
   "metadata": {},
   "outputs": [],
   "source": [
    "dates = ['2020-09-01','2020-10-01','2020-11-01','2020-12-01','2021-01-01','2021-02-01','2021-03-01',\n",
    "         '2021-04-01', '2021-05-01']\n",
    "leads_1056 = []\n",
    "leads_1058 = []\n",
    "leads_1123 = []\n",
    "leads_1134 = []\n",
    "leads_1960 = []\n",
    "leads_100013 = []\n",
    "leads_102232 = []\n",
    "leads_103053 = []\n",
    "leads_107686 = []\n",
    "leads_246417 = []\n",
    "\n",
    "\n",
    "for date in dates:\n",
    "    h = df_m[(pd.to_datetime(df_m.created_date)>=pd.to_datetime(date))&(pd.to_datetime(df_m.created_date)<=pd.to_datetime(date)+timedelta(days=30))&\n",
    "            (pd.to_datetime(df_m.date)<=pd.to_datetime(date)+timedelta(days=30))]\n",
    "    #h = df_[(pd.to_datetime(df_.created_date)>=pd.to_datetime(date))&(pd.to_datetime(df_.created_date)<=pd.to_datetime(date)+timedelta(days=30))]\n",
    "    leads_1056.append(h[h.inv_dealer_id==1056].leads_total.sum())\n",
    "    leads_1058.append(h[h.inv_dealer_id==1058].leads_total.sum())\n",
    "    leads_1123.append(h[h.inv_dealer_id==1123].leads_total.sum())\n",
    "    leads_1134.append(h[h.inv_dealer_id==1134].leads_total.sum())\n",
    "    leads_1960.append(h[h.inv_dealer_id==1960].leads_total.sum())\n",
    "    leads_100013.append(h[h.inv_dealer_id==100013].leads_total.sum())\n",
    "    leads_102232.append(h[h.inv_dealer_id==102232].leads_total.sum())\n",
    "    leads_103053.append(h[h.inv_dealer_id==103053].leads_total.sum())\n",
    "    leads_107686.append(h[h.inv_dealer_id==107686].leads_total.sum())\n",
    "    leads_246417.append(h[h.inv_dealer_id==246417].leads_total.sum())\n",
    "\n",
    "df_d = pd.DataFrame({'date':dates, \n",
    "                     'leads_1056':leads_1056, \n",
    "                     'leads_1058':leads_1058, \n",
    "                     'leads_1123':leads_1123, \n",
    "                     'leads_1134':leads_1134, \n",
    "                        'leads_1960':leads_1960, \n",
    "                     'leads_100013':leads_100013, \n",
    "                     'leads_102232':leads_102232, \n",
    "                     'leads_103053':leads_103053,\n",
    "                    'leads_107686':leads_107686, \n",
    "                     'leads_246417':leads_246417})"
   ]
  },
  {
   "cell_type": "code",
   "execution_count": 155,
   "metadata": {},
   "outputs": [
    {
     "data": {
      "image/png": "[encoded data removed]",
      "text/plain": [
       "<Figure size 465.75x360 with 1 Axes>"
      ]
     },
     "metadata": {
      "needs_background": "light"
     },
     "output_type": "display_data"
    }
   ],
   "source": [
    "sns.catplot(data =pd.melt(df_d, ['date']), x = 'date', y='value', hue = 'variable', kind = 'bar').set_xticklabels(rotation=30);\n"
   ]
  },
  {
   "cell_type": "code",
   "execution_count": 132,
   "metadata": {},
   "outputs": [
    {
     "data": {
      "text/html": [
       "<div>\n",
       "<style scoped>\n",
       "    .dataframe tbody tr th:only-of-type {\n",
       "        vertical-align: middle;\n",
       "    }\n",
       "\n",
       "    .dataframe tbody tr th {\n",
       "        vertical-align: top;\n",
       "    }\n",
       "\n",
       "    .dataframe thead th {\n",
       "        text-align: right;\n",
       "    }\n",
       "</style>\n",
       "<table border=\"1\" class=\"dataframe\">\n",
       "  <thead>\n",
       "    <tr style=\"text-align: right;\">\n",
       "      <th></th>\n",
       "      <th>model_key</th>\n",
       "      <th>id</th>\n",
       "    </tr>\n",
       "  </thead>\n",
       "  <tbody>\n",
       "    <tr>\n",
       "      <th>153</th>\n",
       "      <td>octavia</td>\n",
       "      <td>62</td>\n",
       "    </tr>\n",
       "    <tr>\n",
       "      <th>11</th>\n",
       "      <td>3er</td>\n",
       "      <td>51</td>\n",
       "    </tr>\n",
       "    <tr>\n",
       "      <th>106</th>\n",
       "      <td>golf</td>\n",
       "      <td>50</td>\n",
       "    </tr>\n",
       "    <tr>\n",
       "      <th>18</th>\n",
       "      <td>5er</td>\n",
       "      <td>40</td>\n",
       "    </tr>\n",
       "    <tr>\n",
       "      <th>27</th>\n",
       "      <td>a4</td>\n",
       "      <td>31</td>\n",
       "    </tr>\n",
       "    <tr>\n",
       "      <th>108</th>\n",
       "      <td>grand-cherokee</td>\n",
       "      <td>30</td>\n",
       "    </tr>\n",
       "    <tr>\n",
       "      <th>159</th>\n",
       "      <td>passat</td>\n",
       "      <td>25</td>\n",
       "    </tr>\n",
       "    <tr>\n",
       "      <th>209</th>\n",
       "      <td>touran</td>\n",
       "      <td>24</td>\n",
       "    </tr>\n",
       "    <tr>\n",
       "      <th>234</th>\n",
       "      <td>x5</td>\n",
       "      <td>24</td>\n",
       "    </tr>\n",
       "    <tr>\n",
       "      <th>236</th>\n",
       "      <td>xc60</td>\n",
       "      <td>23</td>\n",
       "    </tr>\n",
       "  </tbody>\n",
       "</table>\n",
       "</div>"
      ],
      "text/plain": [
       "          model_key  id\n",
       "153         octavia  62\n",
       "11              3er  51\n",
       "106            golf  50\n",
       "18              5er  40\n",
       "27               a4  31\n",
       "108  grand-cherokee  30\n",
       "159          passat  25\n",
       "209          touran  24\n",
       "234              x5  24\n",
       "236            xc60  23"
      ]
     },
     "execution_count": 132,
     "metadata": {},
     "output_type": "execute_result"
    }
   ],
   "source": [
    "date = '2020-09-01'\n",
    "df_[df_.inv_dealer_id.isin(d_lstl)&\n",
    " (pd.to_datetime(df_.created_date)>=pd.to_datetime(date))&(pd.to_datetime(df_.created_date)<=pd.to_datetime(date)+timedelta(days=30))].groupby(['model_key'])['id'].count().reset_index().sort_values(by='id', ascending = False).head(10)"
   ]
  },
  {
   "cell_type": "code",
   "execution_count": 133,
   "metadata": {},
   "outputs": [
    {
     "data": {
      "text/plain": [
       "124000.0"
      ]
     },
     "execution_count": 133,
     "metadata": {},
     "output_type": "execute_result"
    }
   ],
   "source": [
    "df_[df_.inv_dealer_id.isin(d_lstl)&\n",
    " (pd.to_datetime(df_.created_date)>=pd.to_datetime(date))&(pd.to_datetime(df_.created_date)<=pd.to_datetime(date)+timedelta(days=30))].mileage.median()"
   ]
  },
  {
   "cell_type": "code",
   "execution_count": 134,
   "metadata": {},
   "outputs": [
    {
     "data": {
      "text/plain": [
       "14500.0"
      ]
     },
     "execution_count": 134,
     "metadata": {},
     "output_type": "execute_result"
    }
   ],
   "source": [
    "df_[df_.inv_dealer_id.isin(d_lstl)&\n",
    " (pd.to_datetime(df_.created_date)>=pd.to_datetime(date))&(pd.to_datetime(df_.created_date)<=pd.to_datetime(date)+timedelta(days=30))].price.median()"
   ]
  },
  {
   "cell_type": "code",
   "execution_count": 136,
   "metadata": {},
   "outputs": [
    {
     "data": {
      "text/html": [
       "<div>\n",
       "<style scoped>\n",
       "    .dataframe tbody tr th:only-of-type {\n",
       "        vertical-align: middle;\n",
       "    }\n",
       "\n",
       "    .dataframe tbody tr th {\n",
       "        vertical-align: top;\n",
       "    }\n",
       "\n",
       "    .dataframe thead th {\n",
       "        text-align: right;\n",
       "    }\n",
       "</style>\n",
       "<table border=\"1\" class=\"dataframe\">\n",
       "  <thead>\n",
       "    <tr style=\"text-align: right;\">\n",
       "      <th></th>\n",
       "      <th>model_key</th>\n",
       "      <th>id</th>\n",
       "    </tr>\n",
       "  </thead>\n",
       "  <tbody>\n",
       "    <tr>\n",
       "      <th>73</th>\n",
       "      <td>golf</td>\n",
       "      <td>17</td>\n",
       "    </tr>\n",
       "    <tr>\n",
       "      <th>112</th>\n",
       "      <td>passat</td>\n",
       "      <td>16</td>\n",
       "    </tr>\n",
       "    <tr>\n",
       "      <th>108</th>\n",
       "      <td>octavia</td>\n",
       "      <td>15</td>\n",
       "    </tr>\n",
       "    <tr>\n",
       "      <th>16</th>\n",
       "      <td>5er</td>\n",
       "      <td>14</td>\n",
       "    </tr>\n",
       "    <tr>\n",
       "      <th>11</th>\n",
       "      <td>3er</td>\n",
       "      <td>13</td>\n",
       "    </tr>\n",
       "    <tr>\n",
       "      <th>21</th>\n",
       "      <td>a4</td>\n",
       "      <td>12</td>\n",
       "    </tr>\n",
       "    <tr>\n",
       "      <th>144</th>\n",
       "      <td>touran</td>\n",
       "      <td>11</td>\n",
       "    </tr>\n",
       "    <tr>\n",
       "      <th>77</th>\n",
       "      <td>grand-cherokee</td>\n",
       "      <td>11</td>\n",
       "    </tr>\n",
       "    <tr>\n",
       "      <th>53</th>\n",
       "      <td>crafter</td>\n",
       "      <td>9</td>\n",
       "    </tr>\n",
       "    <tr>\n",
       "      <th>130</th>\n",
       "      <td>sharan</td>\n",
       "      <td>8</td>\n",
       "    </tr>\n",
       "  </tbody>\n",
       "</table>\n",
       "</div>"
      ],
      "text/plain": [
       "          model_key  id\n",
       "73             golf  17\n",
       "112          passat  16\n",
       "108         octavia  15\n",
       "16              5er  14\n",
       "11              3er  13\n",
       "21               a4  12\n",
       "144          touran  11\n",
       "77   grand-cherokee  11\n",
       "53          crafter   9\n",
       "130          sharan   8"
      ]
     },
     "execution_count": 136,
     "metadata": {},
     "output_type": "execute_result"
    }
   ],
   "source": [
    "date = '2021-05-01'\n",
    "df_[df_.inv_dealer_id.isin(d_lstl)&\n",
    " (pd.to_datetime(df_.created_date)>=pd.to_datetime(date))&(pd.to_datetime(df_.created_date)<=pd.to_datetime(date)+timedelta(days=30))].groupby(['model_key'])['id'].count().reset_index().sort_values(by='id', ascending = False).head(10)"
   ]
  },
  {
   "cell_type": "code",
   "execution_count": 22,
   "metadata": {},
   "outputs": [
    {
     "data": {
      "text/plain": [
       "96300.0"
      ]
     },
     "execution_count": 22,
     "metadata": {},
     "output_type": "execute_result"
    }
   ],
   "source": [
    "date = '2021-04-30'\n",
    "df_[\n",
    " (pd.to_datetime(df_.created_date)>=pd.to_datetime(date))&(pd.to_datetime(df_.created_date)<=pd.to_datetime(date)+timedelta(days=30))].mileage.median()"
   ]
  },
  {
   "cell_type": "code",
   "execution_count": 26,
   "metadata": {},
   "outputs": [
    {
     "data": {
      "text/plain": [
       "<matplotlib.axes._subplots.AxesSubplot at 0x1a8be064d0>"
      ]
     },
     "execution_count": 26,
     "metadata": {},
     "output_type": "execute_result"
    },
    {
     "data": {
      "image/png": "[encoded data removed]",
      "text/plain": [
       "<Figure size 432x288 with 1 Axes>"
      ]
     },
     "metadata": {
      "needs_background": "light"
     },
     "output_type": "display_data"
    }
   ],
   "source": [
    "date = '2021-04-30'\n",
    "df_[\n",
    " (pd.to_datetime(df_.created_date)>=pd.to_datetime(date))&(pd.to_datetime(df_.created_date)<=pd.to_datetime(date)+timedelta(days=30))&(df_.mileage<200000)].mileage.hist(bins=10)"
   ]
  },
  {
   "cell_type": "code",
   "execution_count": 29,
   "metadata": {},
   "outputs": [
    {
     "data": {
      "text/plain": [
       "<matplotlib.axes._subplots.AxesSubplot at 0x1a14785a50>"
      ]
     },
     "execution_count": 29,
     "metadata": {},
     "output_type": "execute_result"
    },
    {
     "data": {
      "image/png": "[encoded data removed]",
      "text/plain": [
       "<Figure size 432x288 with 1 Axes>"
      ]
     },
     "metadata": {
      "needs_background": "light"
     },
     "output_type": "display_data"
    }
   ],
   "source": [
    "id_lst = set(df_m[\n",
    " (pd.to_datetime(df_m.created_date)>=pd.to_datetime(date))&(pd.to_datetime(df_m.created_date)<=pd.to_datetime(date)+timedelta(days=30))&(df_m.mileage<200000)].id)\n",
    "\n",
    "df_[df_.id.isin(id_lst)].mileage.hist(bins=10)"
   ]
  },
  {
   "cell_type": "code",
   "execution_count": 37,
   "metadata": {},
   "outputs": [
    {
     "data": {
      "text/plain": [
       "<matplotlib.axes._subplots.AxesSubplot at 0x1a91250e90>"
      ]
     },
     "execution_count": 37,
     "metadata": {},
     "output_type": "execute_result"
    },
    {
     "data": {
      "image/png": "[encoded data removed]",
      "text/plain": [
       "<Figure size 432x288 with 1 Axes>"
      ]
     },
     "metadata": {
      "needs_background": "light"
     },
     "output_type": "display_data"
    }
   ],
   "source": [
    "date = '2021-04-30'\n",
    "df_[\n",
    " (pd.to_datetime(df_.created_date)>=pd.to_datetime(date))&(pd.to_datetime(df_.created_date)<=pd.to_datetime(date)+timedelta(days=30))&(df_.price<100000)].price.hist(bins=10)"
   ]
  },
  {
   "cell_type": "code",
   "execution_count": 38,
   "metadata": {},
   "outputs": [
    {
     "data": {
      "text/plain": [
       "<matplotlib.axes._subplots.AxesSubplot at 0x1a91f092d0>"
      ]
     },
     "execution_count": 38,
     "metadata": {},
     "output_type": "execute_result"
    },
    {
     "data": {
      "image/png": "[encoded data removed]",
      "text/plain": [
       "<Figure size 432x288 with 1 Axes>"
      ]
     },
     "metadata": {
      "needs_background": "light"
     },
     "output_type": "display_data"
    }
   ],
   "source": [
    "id_lst = set(df_m[\n",
    " (pd.to_datetime(df_m.created_date)>=pd.to_datetime(date))\n",
    "    &(pd.to_datetime(df_m.created_date)<=pd.to_datetime(date)+timedelta(days=30))&(df_m.price_x<100000)].id)\n",
    "\n",
    "df_[df_.id.isin(id_lst)].price.hist(bins=10)"
   ]
  },
  {
   "cell_type": "code",
   "execution_count": 34,
   "metadata": {},
   "outputs": [
    {
     "data": {
      "text/plain": [
       "0           34450.0\n",
       "1           34450.0\n",
       "2           34450.0\n",
       "3           23900.0\n",
       "4           23900.0\n",
       "             ...   \n",
       "47371035     9800.0\n",
       "47371036     5400.0\n",
       "47371037     5400.0\n",
       "47371038     2600.0\n",
       "47371039     2600.0\n",
       "Name: price_x, Length: 47371040, dtype: float64"
      ]
     },
     "execution_count": 34,
     "metadata": {},
     "output_type": "execute_result"
    }
   ],
   "source": [
    "df_m.price_x"
   ]
  },
  {
   "cell_type": "code",
   "execution_count": 119,
   "metadata": {},
   "outputs": [],
   "source": [
    "date = '2021-03-01'\n",
    "q = df_mm[\n",
    " (pd.to_datetime(df_mm.created_date)>=pd.to_datetime(date))\n",
    "    &(pd.to_datetime(df_mm.created_date)<=pd.to_datetime(date)+timedelta(days=30))\n",
    "    &(pd.to_datetime(df_mm.date)<pd.to_datetime(date)+timedelta(days=60))\n",
    "&(df_mm.price_x < 200000)]\n",
    "z = q.groupby(['original_listing_id'])['leads_total','no_of_ga_unique_pdp_views'].sum().reset_index()\n",
    "zz = z[z.no_of_ga_unique_pdp_views>=100]\n",
    "zz['conversion_rate'] = zz.leads_total / zz.no_of_ga_unique_pdp_views\n",
    "rr = pd.merge(df_, zz, left_on='id', right_on='original_listing_id')"
   ]
  },
  {
   "cell_type": "code",
   "execution_count": 120,
   "metadata": {},
   "outputs": [
    {
     "data": {
      "text/plain": [
       "(9400.0, 18990.0, 34900.0)"
      ]
     },
     "execution_count": 120,
     "metadata": {},
     "output_type": "execute_result"
    }
   ],
   "source": [
    "rr[rr.conversion_rate>=0.01].price.quantile(0.5), rr[rr.conversion_rate>=0.01].price.quantile(0.75),  rr[rr.conversion_rate>=0.01].price.quantile(0.9)"
   ]
  },
  {
   "cell_type": "code",
   "execution_count": 124,
   "metadata": {},
   "outputs": [],
   "source": [
    "leads_id_lst = set(df_mm[\n",
    " (pd.to_datetime(df_mm.created_date)>=pd.to_datetime(date))\n",
    "    &(pd.to_datetime(df_mm.created_date)<=pd.to_datetime(date)+timedelta(days=30))\n",
    "    &(pd.to_datetime(df_mm.date)<pd.to_datetime(date)+timedelta(days=60))&(df_mm.leads_total>1)\n",
    "&(df_mm.price_x < 200000)].original_listing_id)\n",
    "ddd = df_[df_.id.isin(leads_id_lst)]\n"
   ]
  },
  {
   "cell_type": "code",
   "execution_count": 125,
   "metadata": {},
   "outputs": [
    {
     "data": {
      "text/plain": [
       "(9500.0, 19900.0, 38900.0)"
      ]
     },
     "execution_count": 125,
     "metadata": {},
     "output_type": "execute_result"
    }
   ],
   "source": [
    "ddd.price.quantile(0.5), ddd.price.quantile(0.75), ddd.price.quantile(0.9)"
   ]
  },
  {
   "cell_type": "code",
   "execution_count": 123,
   "metadata": {},
   "outputs": [
    {
     "data": {
      "text/plain": [
       "(13950.0, 30000.0, 49900.0)"
      ]
     },
     "execution_count": 123,
     "metadata": {},
     "output_type": "execute_result"
    }
   ],
   "source": [
    "dd = df_[\n",
    " (pd.to_datetime(df_.created_date)>=pd.to_datetime(date))&(pd.to_datetime(df_.created_date)<=pd.to_datetime(date)+\n",
    "                                                           timedelta(days=30))&(df_.price<200000)]\n",
    "dd.price.quantile(.50), dd.price.quantile(.75), dd.price.quantile(.90) \n"
   ]
  },
  {
   "cell_type": "code",
   "execution_count": 126,
   "metadata": {},
   "outputs": [],
   "source": [
    "date = '2020-09-01'\n",
    "q = df_mm[\n",
    " (pd.to_datetime(df_mm.created_date)>=pd.to_datetime(date))\n",
    "    &(pd.to_datetime(df_mm.created_date)<=pd.to_datetime(date)+timedelta(days=30))\n",
    "    &(pd.to_datetime(df_mm.date)<pd.to_datetime(date)+timedelta(days=60))\n",
    "&(df_mm.price_x < 200000)]\n",
    "z = q.groupby(['original_listing_id'])['leads_total','no_of_ga_unique_pdp_views'].sum().reset_index()\n",
    "zz = z[z.no_of_ga_unique_pdp_views>=100]\n",
    "zz['conversion_rate'] = zz.leads_total / zz.no_of_ga_unique_pdp_views\n",
    "rr = pd.merge(df_, zz, left_on='id', right_on='original_listing_id')"
   ]
  },
  {
   "cell_type": "code",
   "execution_count": 127,
   "metadata": {},
   "outputs": [
    {
     "data": {
      "text/plain": [
       "(8500.0, 17600.0, 28750.0)"
      ]
     },
     "execution_count": 127,
     "metadata": {},
     "output_type": "execute_result"
    }
   ],
   "source": [
    "rr[rr.conversion_rate>=0.01].price.quantile(0.5), rr[rr.conversion_rate>=0.01].price.quantile(0.75),  rr[rr.conversion_rate>=0.01].price.quantile(0.9)"
   ]
  },
  {
   "cell_type": "code",
   "execution_count": 128,
   "metadata": {},
   "outputs": [],
   "source": [
    "leads_id_lst = set(df_mm[\n",
    " (pd.to_datetime(df_mm.created_date)>=pd.to_datetime(date))\n",
    "    &(pd.to_datetime(df_mm.created_date)<=pd.to_datetime(date)+timedelta(days=30))\n",
    "    &(pd.to_datetime(df_mm.date)<pd.to_datetime(date)+timedelta(days=60))&(df_mm.leads_total>1)\n",
    "&(df_mm.price_x < 200000)].original_listing_id)\n",
    "ddd = df_[df_.id.isin(leads_id_lst)]\n"
   ]
  },
  {
   "cell_type": "code",
   "execution_count": 129,
   "metadata": {},
   "outputs": [
    {
     "data": {
      "text/plain": [
       "(9900.0, 20500.0, 37982.0)"
      ]
     },
     "execution_count": 129,
     "metadata": {},
     "output_type": "execute_result"
    }
   ],
   "source": [
    "ddd.price.quantile(0.5), ddd.price.quantile(0.75), ddd.price.quantile(0.9)"
   ]
  },
  {
   "cell_type": "code",
   "execution_count": 8,
   "metadata": {},
   "outputs": [
    {
     "data": {
      "text/plain": [
       "(13500.0, 29900.0, 49900.0)"
      ]
     },
     "execution_count": 8,
     "metadata": {},
     "output_type": "execute_result"
    }
   ],
   "source": [
    "date = '2021-04-30'\n",
    "dd = df_[\n",
    " (pd.to_datetime(df_.created_date)>=pd.to_datetime(date))&(pd.to_datetime(df_.created_date)<=pd.to_datetime(date)+\n",
    "                                                           timedelta(days=30))&(df_.price<200000)]\n",
    "dd.price.quantile(.50), dd.price.quantile(.75), dd.price.quantile(.90) \n"
   ]
  },
  {
   "cell_type": "code",
   "execution_count": 144,
   "metadata": {},
   "outputs": [],
   "source": [
    "df_mm['created_year'] = df_mm.created_date.astype(str).str.slice(0,4)\n",
    "df_mm['created_month'] = df_mm.created_date.astype(str).str.slice(5,7)"
   ]
  },
  {
   "cell_type": "code",
   "execution_count": 160,
   "metadata": {},
   "outputs": [],
   "source": [
    "s = df_mm[df_mm.price_x<200000].groupby(['created_year', 'created_month', 'original_listing_id'])['leads_total','no_of_ga_unique_pdp_views'].sum().reset_index()\n",
    "ss = s[s.no_of_ga_unique_pdp_views>=100]\n",
    "ss['conversion_rate'] = ss.leads_total / ss.no_of_ga_unique_pdp_views\n",
    "sss = pd.merge(df_, ss, left_on='id', right_on='original_listing_id')"
   ]
  },
  {
   "cell_type": "code",
   "execution_count": 196,
   "metadata": {},
   "outputs": [],
   "source": [
    "# 50th Percentile\n",
    "def quantile_50(x):\n",
    "    return x.quantile(0.5)\n",
    "\n",
    "def quantile_75(x):\n",
    "    return x.quantile(0.75)\n",
    "\n",
    "# 90th Percentile\n",
    "def quantile_90(x):\n",
    "    return x.quantile(0.9)"
   ]
  },
  {
   "cell_type": "code",
   "execution_count": 214,
   "metadata": {},
   "outputs": [],
   "source": [
    "ssl = pd.merge(df_.drop(['created_year', 'created_month'], axis=1), s, left_on='id', right_on='original_listing_id')\n"
   ]
  },
  {
   "cell_type": "code",
   "execution_count": 229,
   "metadata": {},
   "outputs": [],
   "source": [
    "\n",
    "sl = ssl[ssl.leads_total>1].groupby(['created_year', 'created_month']).agg({\"price\": [quantile_50, quantile_75, quantile_90]}).reset_index()\n",
    "sl.columns = [' '.join(col).strip() for col in sl.columns.values]"
   ]
  },
  {
   "cell_type": "code",
   "execution_count": 230,
   "metadata": {},
   "outputs": [],
   "source": [
    "sl = sl.rename(columns={'price quantile_50': 'price quantile_50_more1lead', 'price quantile_75': 'price quantile_75_more1lead', 'price quantile_90': 'price quantile_90_more1lead'})"
   ]
  },
  {
   "cell_type": "code",
   "execution_count": 220,
   "metadata": {},
   "outputs": [],
   "source": [
    "sf = sss[sss.conversion_rate>=0.01].groupby(['created_year', 'created_month']).agg({\"price\": [quantile_50, quantile_75, quantile_90]}).reset_index()\n",
    "sf.columns = [' '.join(col).strip() for col in sf.columns.values]"
   ]
  },
  {
   "cell_type": "code",
   "execution_count": 163,
   "metadata": {},
   "outputs": [],
   "source": [
    "df_['created_year'] = df_.created_date.astype(str).str.slice(0,4)\n",
    "df_['created_month'] = df_.created_date.astype(str).str.slice(5,7)"
   ]
  },
  {
   "cell_type": "code",
   "execution_count": 200,
   "metadata": {},
   "outputs": [
    {
     "data": {
      "text/html": [
       "<div>\n",
       "<style scoped>\n",
       "    .dataframe tbody tr th:only-of-type {\n",
       "        vertical-align: middle;\n",
       "    }\n",
       "\n",
       "    .dataframe tbody tr th {\n",
       "        vertical-align: top;\n",
       "    }\n",
       "\n",
       "    .dataframe thead th {\n",
       "        text-align: right;\n",
       "    }\n",
       "</style>\n",
       "<table border=\"1\" class=\"dataframe\">\n",
       "  <thead>\n",
       "    <tr style=\"text-align: right;\">\n",
       "      <th></th>\n",
       "      <th>created_year</th>\n",
       "      <th>created_month</th>\n",
       "      <th>price quantile_50</th>\n",
       "      <th>price quantile_75</th>\n",
       "      <th>price quantile_90</th>\n",
       "    </tr>\n",
       "  </thead>\n",
       "  <tbody>\n",
       "    <tr>\n",
       "      <th>0</th>\n",
       "      <td>2019</td>\n",
       "      <td>09</td>\n",
       "      <td>22700.0</td>\n",
       "      <td>36900.0</td>\n",
       "      <td>56900.0</td>\n",
       "    </tr>\n",
       "    <tr>\n",
       "      <th>1</th>\n",
       "      <td>2019</td>\n",
       "      <td>10</td>\n",
       "      <td>25500.0</td>\n",
       "      <td>40500.0</td>\n",
       "      <td>63290.0</td>\n",
       "    </tr>\n",
       "    <tr>\n",
       "      <th>2</th>\n",
       "      <td>2019</td>\n",
       "      <td>11</td>\n",
       "      <td>21496.0</td>\n",
       "      <td>35800.0</td>\n",
       "      <td>54900.0</td>\n",
       "    </tr>\n",
       "    <tr>\n",
       "      <th>3</th>\n",
       "      <td>2019</td>\n",
       "      <td>12</td>\n",
       "      <td>8500.0</td>\n",
       "      <td>20953.0</td>\n",
       "      <td>38800.0</td>\n",
       "    </tr>\n",
       "    <tr>\n",
       "      <th>4</th>\n",
       "      <td>2020</td>\n",
       "      <td>01</td>\n",
       "      <td>8900.0</td>\n",
       "      <td>23900.0</td>\n",
       "      <td>43250.9</td>\n",
       "    </tr>\n",
       "    <tr>\n",
       "      <th>5</th>\n",
       "      <td>2020</td>\n",
       "      <td>02</td>\n",
       "      <td>9900.0</td>\n",
       "      <td>24900.0</td>\n",
       "      <td>43890.0</td>\n",
       "    </tr>\n",
       "    <tr>\n",
       "      <th>6</th>\n",
       "      <td>2020</td>\n",
       "      <td>03</td>\n",
       "      <td>9900.0</td>\n",
       "      <td>25066.5</td>\n",
       "      <td>43990.0</td>\n",
       "    </tr>\n",
       "    <tr>\n",
       "      <th>7</th>\n",
       "      <td>2020</td>\n",
       "      <td>04</td>\n",
       "      <td>17500.0</td>\n",
       "      <td>34950.0</td>\n",
       "      <td>57900.0</td>\n",
       "    </tr>\n",
       "    <tr>\n",
       "      <th>8</th>\n",
       "      <td>2020</td>\n",
       "      <td>05</td>\n",
       "      <td>11900.0</td>\n",
       "      <td>26999.0</td>\n",
       "      <td>47500.0</td>\n",
       "    </tr>\n",
       "    <tr>\n",
       "      <th>9</th>\n",
       "      <td>2020</td>\n",
       "      <td>06</td>\n",
       "      <td>11800.0</td>\n",
       "      <td>26700.0</td>\n",
       "      <td>45989.8</td>\n",
       "    </tr>\n",
       "    <tr>\n",
       "      <th>10</th>\n",
       "      <td>2020</td>\n",
       "      <td>07</td>\n",
       "      <td>12800.0</td>\n",
       "      <td>27990.0</td>\n",
       "      <td>47600.0</td>\n",
       "    </tr>\n",
       "    <tr>\n",
       "      <th>11</th>\n",
       "      <td>2020</td>\n",
       "      <td>08</td>\n",
       "      <td>11500.0</td>\n",
       "      <td>26900.0</td>\n",
       "      <td>46500.0</td>\n",
       "    </tr>\n",
       "    <tr>\n",
       "      <th>12</th>\n",
       "      <td>2020</td>\n",
       "      <td>09</td>\n",
       "      <td>13800.0</td>\n",
       "      <td>29800.0</td>\n",
       "      <td>49200.0</td>\n",
       "    </tr>\n",
       "    <tr>\n",
       "      <th>13</th>\n",
       "      <td>2020</td>\n",
       "      <td>10</td>\n",
       "      <td>15800.0</td>\n",
       "      <td>32900.0</td>\n",
       "      <td>52000.0</td>\n",
       "    </tr>\n",
       "    <tr>\n",
       "      <th>14</th>\n",
       "      <td>2020</td>\n",
       "      <td>11</td>\n",
       "      <td>13990.0</td>\n",
       "      <td>30700.0</td>\n",
       "      <td>51000.0</td>\n",
       "    </tr>\n",
       "    <tr>\n",
       "      <th>15</th>\n",
       "      <td>2020</td>\n",
       "      <td>12</td>\n",
       "      <td>12900.0</td>\n",
       "      <td>29500.0</td>\n",
       "      <td>49250.0</td>\n",
       "    </tr>\n",
       "    <tr>\n",
       "      <th>16</th>\n",
       "      <td>2021</td>\n",
       "      <td>01</td>\n",
       "      <td>12999.0</td>\n",
       "      <td>29700.0</td>\n",
       "      <td>49800.0</td>\n",
       "    </tr>\n",
       "    <tr>\n",
       "      <th>17</th>\n",
       "      <td>2021</td>\n",
       "      <td>02</td>\n",
       "      <td>13990.0</td>\n",
       "      <td>30300.0</td>\n",
       "      <td>49900.0</td>\n",
       "    </tr>\n",
       "    <tr>\n",
       "      <th>18</th>\n",
       "      <td>2021</td>\n",
       "      <td>03</td>\n",
       "      <td>14500.0</td>\n",
       "      <td>31000.0</td>\n",
       "      <td>51100.0</td>\n",
       "    </tr>\n",
       "    <tr>\n",
       "      <th>19</th>\n",
       "      <td>2021</td>\n",
       "      <td>04</td>\n",
       "      <td>13500.0</td>\n",
       "      <td>29900.0</td>\n",
       "      <td>49900.0</td>\n",
       "    </tr>\n",
       "    <tr>\n",
       "      <th>20</th>\n",
       "      <td>2021</td>\n",
       "      <td>05</td>\n",
       "      <td>13499.0</td>\n",
       "      <td>29900.0</td>\n",
       "      <td>49900.0</td>\n",
       "    </tr>\n",
       "  </tbody>\n",
       "</table>\n",
       "</div>"
      ],
      "text/plain": [
       "   created_year created_month  price quantile_50  price quantile_75  \\\n",
       "0          2019            09            22700.0            36900.0   \n",
       "1          2019            10            25500.0            40500.0   \n",
       "2          2019            11            21496.0            35800.0   \n",
       "3          2019            12             8500.0            20953.0   \n",
       "4          2020            01             8900.0            23900.0   \n",
       "5          2020            02             9900.0            24900.0   \n",
       "6          2020            03             9900.0            25066.5   \n",
       "7          2020            04            17500.0            34950.0   \n",
       "8          2020            05            11900.0            26999.0   \n",
       "9          2020            06            11800.0            26700.0   \n",
       "10         2020            07            12800.0            27990.0   \n",
       "11         2020            08            11500.0            26900.0   \n",
       "12         2020            09            13800.0            29800.0   \n",
       "13         2020            10            15800.0            32900.0   \n",
       "14         2020            11            13990.0            30700.0   \n",
       "15         2020            12            12900.0            29500.0   \n",
       "16         2021            01            12999.0            29700.0   \n",
       "17         2021            02            13990.0            30300.0   \n",
       "18         2021            03            14500.0            31000.0   \n",
       "19         2021            04            13500.0            29900.0   \n",
       "20         2021            05            13499.0            29900.0   \n",
       "\n",
       "    price quantile_90  \n",
       "0             56900.0  \n",
       "1             63290.0  \n",
       "2             54900.0  \n",
       "3             38800.0  \n",
       "4             43250.9  \n",
       "5             43890.0  \n",
       "6             43990.0  \n",
       "7             57900.0  \n",
       "8             47500.0  \n",
       "9             45989.8  \n",
       "10            47600.0  \n",
       "11            46500.0  \n",
       "12            49200.0  \n",
       "13            52000.0  \n",
       "14            51000.0  \n",
       "15            49250.0  \n",
       "16            49800.0  \n",
       "17            49900.0  \n",
       "18            51100.0  \n",
       "19            49900.0  \n",
       "20            49900.0  "
      ]
     },
     "execution_count": 200,
     "metadata": {},
     "output_type": "execute_result"
    }
   ],
   "source": [
    "ssf = df_[df_.price<200000].groupby(['created_year', 'created_month']).agg({\"price\": [quantile_50, quantile_75, quantile_90]}).reset_index()\n",
    "ssf.columns = [' '.join(col).strip() for col in ssf.columns.values]\n",
    "ssf"
   ]
  },
  {
   "cell_type": "code",
   "execution_count": 201,
   "metadata": {},
   "outputs": [],
   "source": [
    "xx = pd.merge(sf, ssf, on=['created_year', 'created_month'], suffixes=('high_conversion', 'all'))\n",
    "xx['yearmonth'] = xx.created_year + xx.created_month"
   ]
  },
  {
   "cell_type": "code",
   "execution_count": 231,
   "metadata": {},
   "outputs": [
    {
     "data": {
      "text/html": [
       "<div>\n",
       "<style scoped>\n",
       "    .dataframe tbody tr th:only-of-type {\n",
       "        vertical-align: middle;\n",
       "    }\n",
       "\n",
       "    .dataframe tbody tr th {\n",
       "        vertical-align: top;\n",
       "    }\n",
       "\n",
       "    .dataframe thead th {\n",
       "        text-align: right;\n",
       "    }\n",
       "</style>\n",
       "<table border=\"1\" class=\"dataframe\">\n",
       "  <thead>\n",
       "    <tr style=\"text-align: right;\">\n",
       "      <th></th>\n",
       "      <th>created_year</th>\n",
       "      <th>created_month</th>\n",
       "      <th>price quantile_50high_conversion</th>\n",
       "      <th>price quantile_75high_conversion</th>\n",
       "      <th>price quantile_90high_conversion</th>\n",
       "      <th>price quantile_50all</th>\n",
       "      <th>price quantile_75all</th>\n",
       "      <th>price quantile_90all</th>\n",
       "      <th>yearmonth</th>\n",
       "      <th>price quantile_50_more1lead</th>\n",
       "      <th>price quantile_75_more1lead</th>\n",
       "      <th>price quantile_90_more1lead</th>\n",
       "    </tr>\n",
       "  </thead>\n",
       "  <tbody>\n",
       "    <tr>\n",
       "      <th>0</th>\n",
       "      <td>2019</td>\n",
       "      <td>09</td>\n",
       "      <td>39900.0</td>\n",
       "      <td>82600.00</td>\n",
       "      <td>111960.0</td>\n",
       "      <td>22700.0</td>\n",
       "      <td>36900.0</td>\n",
       "      <td>56900.0</td>\n",
       "      <td>201909</td>\n",
       "      <td>23800.0</td>\n",
       "      <td>56500.0</td>\n",
       "      <td>86920.0</td>\n",
       "    </tr>\n",
       "    <tr>\n",
       "      <th>1</th>\n",
       "      <td>2019</td>\n",
       "      <td>10</td>\n",
       "      <td>17900.0</td>\n",
       "      <td>38495.00</td>\n",
       "      <td>52360.0</td>\n",
       "      <td>25500.0</td>\n",
       "      <td>40500.0</td>\n",
       "      <td>63290.0</td>\n",
       "      <td>201910</td>\n",
       "      <td>26350.0</td>\n",
       "      <td>45475.0</td>\n",
       "      <td>75530.0</td>\n",
       "    </tr>\n",
       "    <tr>\n",
       "      <th>2</th>\n",
       "      <td>2019</td>\n",
       "      <td>11</td>\n",
       "      <td>5999.0</td>\n",
       "      <td>18900.00</td>\n",
       "      <td>31120.0</td>\n",
       "      <td>21496.0</td>\n",
       "      <td>35800.0</td>\n",
       "      <td>54900.0</td>\n",
       "      <td>201911</td>\n",
       "      <td>8100.0</td>\n",
       "      <td>24400.0</td>\n",
       "      <td>69210.0</td>\n",
       "    </tr>\n",
       "    <tr>\n",
       "      <th>3</th>\n",
       "      <td>2019</td>\n",
       "      <td>12</td>\n",
       "      <td>11900.0</td>\n",
       "      <td>23400.00</td>\n",
       "      <td>48180.0</td>\n",
       "      <td>8500.0</td>\n",
       "      <td>20953.0</td>\n",
       "      <td>38800.0</td>\n",
       "      <td>201912</td>\n",
       "      <td>29700.0</td>\n",
       "      <td>39900.0</td>\n",
       "      <td>64900.0</td>\n",
       "    </tr>\n",
       "    <tr>\n",
       "      <th>4</th>\n",
       "      <td>2020</td>\n",
       "      <td>01</td>\n",
       "      <td>9800.0</td>\n",
       "      <td>21990.00</td>\n",
       "      <td>42500.0</td>\n",
       "      <td>8900.0</td>\n",
       "      <td>23900.0</td>\n",
       "      <td>43250.9</td>\n",
       "      <td>202001</td>\n",
       "      <td>10850.0</td>\n",
       "      <td>27900.0</td>\n",
       "      <td>49700.0</td>\n",
       "    </tr>\n",
       "    <tr>\n",
       "      <th>5</th>\n",
       "      <td>2020</td>\n",
       "      <td>02</td>\n",
       "      <td>13400.0</td>\n",
       "      <td>29425.00</td>\n",
       "      <td>50770.0</td>\n",
       "      <td>9900.0</td>\n",
       "      <td>24900.0</td>\n",
       "      <td>43890.0</td>\n",
       "      <td>202002</td>\n",
       "      <td>11990.0</td>\n",
       "      <td>29825.0</td>\n",
       "      <td>55450.0</td>\n",
       "    </tr>\n",
       "    <tr>\n",
       "      <th>6</th>\n",
       "      <td>2020</td>\n",
       "      <td>03</td>\n",
       "      <td>11900.0</td>\n",
       "      <td>25625.00</td>\n",
       "      <td>58700.0</td>\n",
       "      <td>9900.0</td>\n",
       "      <td>25066.5</td>\n",
       "      <td>43990.0</td>\n",
       "      <td>202003</td>\n",
       "      <td>13850.0</td>\n",
       "      <td>29900.0</td>\n",
       "      <td>72600.0</td>\n",
       "    </tr>\n",
       "    <tr>\n",
       "      <th>7</th>\n",
       "      <td>2020</td>\n",
       "      <td>04</td>\n",
       "      <td>5900.0</td>\n",
       "      <td>10374.25</td>\n",
       "      <td>22190.0</td>\n",
       "      <td>17500.0</td>\n",
       "      <td>34950.0</td>\n",
       "      <td>57900.0</td>\n",
       "      <td>202004</td>\n",
       "      <td>8900.0</td>\n",
       "      <td>19250.0</td>\n",
       "      <td>44019.0</td>\n",
       "    </tr>\n",
       "    <tr>\n",
       "      <th>8</th>\n",
       "      <td>2020</td>\n",
       "      <td>05</td>\n",
       "      <td>11940.0</td>\n",
       "      <td>20662.50</td>\n",
       "      <td>35050.0</td>\n",
       "      <td>11900.0</td>\n",
       "      <td>26999.0</td>\n",
       "      <td>47500.0</td>\n",
       "      <td>202005</td>\n",
       "      <td>11900.0</td>\n",
       "      <td>25900.0</td>\n",
       "      <td>38600.0</td>\n",
       "    </tr>\n",
       "    <tr>\n",
       "      <th>9</th>\n",
       "      <td>2020</td>\n",
       "      <td>06</td>\n",
       "      <td>7499.0</td>\n",
       "      <td>16000.00</td>\n",
       "      <td>28100.0</td>\n",
       "      <td>11800.0</td>\n",
       "      <td>26700.0</td>\n",
       "      <td>45989.8</td>\n",
       "      <td>202006</td>\n",
       "      <td>9900.0</td>\n",
       "      <td>19922.5</td>\n",
       "      <td>34900.0</td>\n",
       "    </tr>\n",
       "    <tr>\n",
       "      <th>10</th>\n",
       "      <td>2020</td>\n",
       "      <td>07</td>\n",
       "      <td>8350.0</td>\n",
       "      <td>17350.00</td>\n",
       "      <td>29395.0</td>\n",
       "      <td>12800.0</td>\n",
       "      <td>27990.0</td>\n",
       "      <td>47600.0</td>\n",
       "      <td>202007</td>\n",
       "      <td>10900.0</td>\n",
       "      <td>21817.5</td>\n",
       "      <td>39640.0</td>\n",
       "    </tr>\n",
       "    <tr>\n",
       "      <th>11</th>\n",
       "      <td>2020</td>\n",
       "      <td>08</td>\n",
       "      <td>10000.0</td>\n",
       "      <td>19850.00</td>\n",
       "      <td>36700.0</td>\n",
       "      <td>11500.0</td>\n",
       "      <td>26900.0</td>\n",
       "      <td>46500.0</td>\n",
       "      <td>202008</td>\n",
       "      <td>12000.0</td>\n",
       "      <td>24850.0</td>\n",
       "      <td>44900.0</td>\n",
       "    </tr>\n",
       "    <tr>\n",
       "      <th>12</th>\n",
       "      <td>2020</td>\n",
       "      <td>09</td>\n",
       "      <td>9500.0</td>\n",
       "      <td>19800.00</td>\n",
       "      <td>36970.0</td>\n",
       "      <td>13800.0</td>\n",
       "      <td>29800.0</td>\n",
       "      <td>49200.0</td>\n",
       "      <td>202009</td>\n",
       "      <td>10500.0</td>\n",
       "      <td>20900.0</td>\n",
       "      <td>37999.0</td>\n",
       "    </tr>\n",
       "    <tr>\n",
       "      <th>13</th>\n",
       "      <td>2020</td>\n",
       "      <td>10</td>\n",
       "      <td>9998.0</td>\n",
       "      <td>20250.00</td>\n",
       "      <td>34980.0</td>\n",
       "      <td>15800.0</td>\n",
       "      <td>32900.0</td>\n",
       "      <td>52000.0</td>\n",
       "      <td>202010</td>\n",
       "      <td>11875.0</td>\n",
       "      <td>23999.0</td>\n",
       "      <td>39900.0</td>\n",
       "    </tr>\n",
       "    <tr>\n",
       "      <th>14</th>\n",
       "      <td>2020</td>\n",
       "      <td>11</td>\n",
       "      <td>9600.0</td>\n",
       "      <td>19500.00</td>\n",
       "      <td>35940.0</td>\n",
       "      <td>13990.0</td>\n",
       "      <td>30700.0</td>\n",
       "      <td>51000.0</td>\n",
       "      <td>202011</td>\n",
       "      <td>10600.0</td>\n",
       "      <td>21900.0</td>\n",
       "      <td>38000.0</td>\n",
       "    </tr>\n",
       "    <tr>\n",
       "      <th>15</th>\n",
       "      <td>2020</td>\n",
       "      <td>12</td>\n",
       "      <td>9500.0</td>\n",
       "      <td>17900.00</td>\n",
       "      <td>34500.0</td>\n",
       "      <td>12900.0</td>\n",
       "      <td>29500.0</td>\n",
       "      <td>49250.0</td>\n",
       "      <td>202012</td>\n",
       "      <td>9900.0</td>\n",
       "      <td>19900.0</td>\n",
       "      <td>34900.0</td>\n",
       "    </tr>\n",
       "    <tr>\n",
       "      <th>16</th>\n",
       "      <td>2021</td>\n",
       "      <td>01</td>\n",
       "      <td>11880.0</td>\n",
       "      <td>21900.00</td>\n",
       "      <td>38000.0</td>\n",
       "      <td>12999.0</td>\n",
       "      <td>29700.0</td>\n",
       "      <td>49800.0</td>\n",
       "      <td>202101</td>\n",
       "      <td>12800.0</td>\n",
       "      <td>22900.0</td>\n",
       "      <td>39049.5</td>\n",
       "    </tr>\n",
       "    <tr>\n",
       "      <th>17</th>\n",
       "      <td>2021</td>\n",
       "      <td>02</td>\n",
       "      <td>10000.0</td>\n",
       "      <td>20950.00</td>\n",
       "      <td>39748.0</td>\n",
       "      <td>13990.0</td>\n",
       "      <td>30300.0</td>\n",
       "      <td>49900.0</td>\n",
       "      <td>202102</td>\n",
       "      <td>11600.0</td>\n",
       "      <td>23940.0</td>\n",
       "      <td>39900.0</td>\n",
       "    </tr>\n",
       "    <tr>\n",
       "      <th>18</th>\n",
       "      <td>2021</td>\n",
       "      <td>03</td>\n",
       "      <td>9500.0</td>\n",
       "      <td>20000.00</td>\n",
       "      <td>37500.0</td>\n",
       "      <td>14500.0</td>\n",
       "      <td>31000.0</td>\n",
       "      <td>51100.0</td>\n",
       "      <td>202103</td>\n",
       "      <td>10700.0</td>\n",
       "      <td>21900.0</td>\n",
       "      <td>38900.0</td>\n",
       "    </tr>\n",
       "    <tr>\n",
       "      <th>19</th>\n",
       "      <td>2021</td>\n",
       "      <td>04</td>\n",
       "      <td>9900.0</td>\n",
       "      <td>18980.00</td>\n",
       "      <td>33569.0</td>\n",
       "      <td>13500.0</td>\n",
       "      <td>29900.0</td>\n",
       "      <td>49900.0</td>\n",
       "      <td>202104</td>\n",
       "      <td>9990.0</td>\n",
       "      <td>19900.0</td>\n",
       "      <td>35800.0</td>\n",
       "    </tr>\n",
       "    <tr>\n",
       "      <th>20</th>\n",
       "      <td>2021</td>\n",
       "      <td>05</td>\n",
       "      <td>9900.0</td>\n",
       "      <td>19650.00</td>\n",
       "      <td>30820.0</td>\n",
       "      <td>13499.0</td>\n",
       "      <td>29900.0</td>\n",
       "      <td>49900.0</td>\n",
       "      <td>202105</td>\n",
       "      <td>9549.5</td>\n",
       "      <td>18922.5</td>\n",
       "      <td>34710.0</td>\n",
       "    </tr>\n",
       "  </tbody>\n",
       "</table>\n",
       "</div>"
      ],
      "text/plain": [
       "   created_year created_month  price quantile_50high_conversion  \\\n",
       "0          2019            09                           39900.0   \n",
       "1          2019            10                           17900.0   \n",
       "2          2019            11                            5999.0   \n",
       "3          2019            12                           11900.0   \n",
       "4          2020            01                            9800.0   \n",
       "5          2020            02                           13400.0   \n",
       "6          2020            03                           11900.0   \n",
       "7          2020            04                            5900.0   \n",
       "8          2020            05                           11940.0   \n",
       "9          2020            06                            7499.0   \n",
       "10         2020            07                            8350.0   \n",
       "11         2020            08                           10000.0   \n",
       "12         2020            09                            9500.0   \n",
       "13         2020            10                            9998.0   \n",
       "14         2020            11                            9600.0   \n",
       "15         2020            12                            9500.0   \n",
       "16         2021            01                           11880.0   \n",
       "17         2021            02                           10000.0   \n",
       "18         2021            03                            9500.0   \n",
       "19         2021            04                            9900.0   \n",
       "20         2021            05                            9900.0   \n",
       "\n",
       "    price quantile_75high_conversion  price quantile_90high_conversion  \\\n",
       "0                           82600.00                          111960.0   \n",
       "1                           38495.00                           52360.0   \n",
       "2                           18900.00                           31120.0   \n",
       "3                           23400.00                           48180.0   \n",
       "4                           21990.00                           42500.0   \n",
       "5                           29425.00                           50770.0   \n",
       "6                           25625.00                           58700.0   \n",
       "7                           10374.25                           22190.0   \n",
       "8                           20662.50                           35050.0   \n",
       "9                           16000.00                           28100.0   \n",
       "10                          17350.00                           29395.0   \n",
       "11                          19850.00                           36700.0   \n",
       "12                          19800.00                           36970.0   \n",
       "13                          20250.00                           34980.0   \n",
       "14                          19500.00                           35940.0   \n",
       "15                          17900.00                           34500.0   \n",
       "16                          21900.00                           38000.0   \n",
       "17                          20950.00                           39748.0   \n",
       "18                          20000.00                           37500.0   \n",
       "19                          18980.00                           33569.0   \n",
       "20                          19650.00                           30820.0   \n",
       "\n",
       "    price quantile_50all  price quantile_75all  price quantile_90all  \\\n",
       "0                22700.0               36900.0               56900.0   \n",
       "1                25500.0               40500.0               63290.0   \n",
       "2                21496.0               35800.0               54900.0   \n",
       "3                 8500.0               20953.0               38800.0   \n",
       "4                 8900.0               23900.0               43250.9   \n",
       "5                 9900.0               24900.0               43890.0   \n",
       "6                 9900.0               25066.5               43990.0   \n",
       "7                17500.0               34950.0               57900.0   \n",
       "8                11900.0               26999.0               47500.0   \n",
       "9                11800.0               26700.0               45989.8   \n",
       "10               12800.0               27990.0               47600.0   \n",
       "11               11500.0               26900.0               46500.0   \n",
       "12               13800.0               29800.0               49200.0   \n",
       "13               15800.0               32900.0               52000.0   \n",
       "14               13990.0               30700.0               51000.0   \n",
       "15               12900.0               29500.0               49250.0   \n",
       "16               12999.0               29700.0               49800.0   \n",
       "17               13990.0               30300.0               49900.0   \n",
       "18               14500.0               31000.0               51100.0   \n",
       "19               13500.0               29900.0               49900.0   \n",
       "20               13499.0               29900.0               49900.0   \n",
       "\n",
       "   yearmonth  price quantile_50_more1lead  price quantile_75_more1lead  \\\n",
       "0     201909                      23800.0                      56500.0   \n",
       "1     201910                      26350.0                      45475.0   \n",
       "2     201911                       8100.0                      24400.0   \n",
       "3     201912                      29700.0                      39900.0   \n",
       "4     202001                      10850.0                      27900.0   \n",
       "5     202002                      11990.0                      29825.0   \n",
       "6     202003                      13850.0                      29900.0   \n",
       "7     202004                       8900.0                      19250.0   \n",
       "8     202005                      11900.0                      25900.0   \n",
       "9     202006                       9900.0                      19922.5   \n",
       "10    202007                      10900.0                      21817.5   \n",
       "11    202008                      12000.0                      24850.0   \n",
       "12    202009                      10500.0                      20900.0   \n",
       "13    202010                      11875.0                      23999.0   \n",
       "14    202011                      10600.0                      21900.0   \n",
       "15    202012                       9900.0                      19900.0   \n",
       "16    202101                      12800.0                      22900.0   \n",
       "17    202102                      11600.0                      23940.0   \n",
       "18    202103                      10700.0                      21900.0   \n",
       "19    202104                       9990.0                      19900.0   \n",
       "20    202105                       9549.5                      18922.5   \n",
       "\n",
       "    price quantile_90_more1lead  \n",
       "0                       86920.0  \n",
       "1                       75530.0  \n",
       "2                       69210.0  \n",
       "3                       64900.0  \n",
       "4                       49700.0  \n",
       "5                       55450.0  \n",
       "6                       72600.0  \n",
       "7                       44019.0  \n",
       "8                       38600.0  \n",
       "9                       34900.0  \n",
       "10                      39640.0  \n",
       "11                      44900.0  \n",
       "12                      37999.0  \n",
       "13                      39900.0  \n",
       "14                      38000.0  \n",
       "15                      34900.0  \n",
       "16                      39049.5  \n",
       "17                      39900.0  \n",
       "18                      38900.0  \n",
       "19                      35800.0  \n",
       "20                      34710.0  "
      ]
     },
     "execution_count": 231,
     "metadata": {},
     "output_type": "execute_result"
    }
   ],
   "source": [
    "xxx = pd.merge(xx, sl, on=['created_year', 'created_month'])\n",
    "xxx"
   ]
  },
  {
   "cell_type": "code",
   "execution_count": 232,
   "metadata": {},
   "outputs": [
    {
     "data": {
      "image/png": "[encoded data removed]",
      "text/plain": [
       "<Figure size 1046.52x595.44 with 1 Axes>"
      ]
     },
     "metadata": {
      "needs_background": "light"
     },
     "output_type": "display_data"
    }
   ],
   "source": [
    "sns.catplot(data =pd.melt(xxx[xxx.created_year!='2019'][['price quantile_50high_conversion','price quantile_50_more1lead','price quantile_50all', 'yearmonth']], ['yearmonth']), x = 'yearmonth', y='value', hue = 'variable', kind = 'bar',height=8.27, aspect=11.7/8.27).set_xticklabels(rotation=30);\n"
   ]
  },
  {
   "cell_type": "code",
   "execution_count": 233,
   "metadata": {},
   "outputs": [
    {
     "data": {
      "image/png": "[encoded data removed]",
      "text/plain": [
       "<Figure size 1046.65x595.44 with 1 Axes>"
      ]
     },
     "metadata": {
      "needs_background": "light"
     },
     "output_type": "display_data"
    }
   ],
   "source": [
    "sns.catplot(data =pd.melt(xxx[xxx.created_year!='2019'][['price quantile_75high_conversion','price quantile_75_more1lead','price quantile_75all', 'yearmonth']], ['yearmonth']), x = 'yearmonth', y='value', hue = 'variable', kind = 'bar',height=8.27, aspect=11.7/8.27).set_xticklabels(rotation=30);\n"
   ]
  },
  {
   "cell_type": "code",
   "execution_count": 234,
   "metadata": {},
   "outputs": [
    {
     "data": {
      "image/png": "[encoded data removed]",
      "text/plain": [
       "<Figure size 1046.52x595.44 with 1 Axes>"
      ]
     },
     "metadata": {
      "needs_background": "light"
     },
     "output_type": "display_data"
    }
   ],
   "source": [
    "sns.catplot(data =pd.melt(xxx[xxx.created_year!='2019'][['price quantile_90high_conversion','price quantile_90_more1lead','price quantile_90all', 'yearmonth']], ['yearmonth']), x = 'yearmonth', y='value', hue = 'variable', kind = 'bar',height=8.27, aspect=11.7/8.27).set_xticklabels(rotation=30);\n"
   ]
  },
  {
   "cell_type": "code",
   "execution_count": 236,
   "metadata": {},
   "outputs": [],
   "source": [
    "xxx.to_csv('price_all_popular.csv')"
   ]
  },
  {
   "cell_type": "code",
   "execution_count": null,
   "metadata": {},
   "outputs": [],
   "source": [
    "df_s = pd.read_csv('data/searches')\n",
    "#df_s1 = pd.read_csv('data/searches_sepdec2020')\n",
    "#df_s2 = pd.read_csv('data/searches_junaug2020')\n",
    "#df_s3 = pd.read_csv('data/searches_marmay2020')\n",
    "#df_s4 = pd.read_csv('data/searches_sepdec2019')"
   ]
  },
  {
   "cell_type": "code",
   "execution_count": null,
   "metadata": {},
   "outputs": [],
   "source": []
  }
 ],
 "metadata": {
  "kernelspec": {
   "display_name": "Python 3",
   "language": "python",
   "name": "python3"
  },
  "language_info": {
   "codemirror_mode": {
    "name": "ipython",
    "version": 3
   },
   "file_extension": ".py",
   "mimetype": "text/x-python",
   "name": "python",
   "nbconvert_exporter": "python",
   "pygments_lexer": "ipython3",
   "version": "3.7.5"
  }
 },
 "nbformat": 4,
 "nbformat_minor": 2
}
