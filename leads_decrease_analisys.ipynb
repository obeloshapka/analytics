{
 "cells": [
  {
   "cell_type": "code",
   "execution_count": 1,
   "metadata": {},
   "outputs": [],
   "source": [
    "import pandas as pd"
   ]
  },
  {
   "cell_type": "code",
   "execution_count": 2,
   "metadata": {},
   "outputs": [
    {
     "name": "stderr",
     "output_type": "stream",
     "text": [
      "/anaconda3/lib/python3.7/site-packages/IPython/core/interactiveshell.py:3051: DtypeWarning: Columns (2,4,14,17,20,24,27,28,33,42,49,52,53,54,60,61,62,66,68,70,81,83,85,88,90,93,102,107,110,119,120,121,122,123,124,125,129,130,132,133,134,136,137,138,139,140,141,144,145,146,147,148,149,150,151,152,153,154,155,156,157) have mixed types. Specify dtype option on import or set low_memory=False.\n",
      "  interactivity=interactivity, compiler=compiler, result=result)\n"
     ]
    }
   ],
   "source": [
    "df_l = pd.read_csv('listing_aggregated_view_0505')\n",
    "#df = pd.read_csv('listing_2804')\n",
    "df = pd.read_csv('inv_listing_1705')"
   ]
  },
  {
   "cell_type": "code",
   "execution_count": 3,
   "metadata": {},
   "outputs": [],
   "source": [
    "df_sn = pd.read_csv('listing_snapshot_marchapril')"
   ]
  },
  {
   "cell_type": "code",
   "execution_count": 4,
   "metadata": {},
   "outputs": [
    {
     "data": {
      "text/html": [
       "<div>\n",
       "<style scoped>\n",
       "    .dataframe tbody tr th:only-of-type {\n",
       "        vertical-align: middle;\n",
       "    }\n",
       "\n",
       "    .dataframe tbody tr th {\n",
       "        vertical-align: top;\n",
       "    }\n",
       "\n",
       "    .dataframe thead th {\n",
       "        text-align: right;\n",
       "    }\n",
       "</style>\n",
       "<table border=\"1\" class=\"dataframe\">\n",
       "  <thead>\n",
       "    <tr style=\"text-align: right;\">\n",
       "      <th></th>\n",
       "      <th>Unnamed: 0</th>\n",
       "      <th>original_listing_id</th>\n",
       "      <th>original_dealer_id</th>\n",
       "      <th>no_of_message_leads</th>\n",
       "      <th>no_of_ga_pdp_views</th>\n",
       "      <th>no_of_ga_pdp_views_from_gold_listing</th>\n",
       "      <th>no_of_ga_pdp_views_from_premium_listing</th>\n",
       "      <th>no_of_ga_unique_pdp_views</th>\n",
       "      <th>no_of_ga_call_leads</th>\n",
       "    </tr>\n",
       "  </thead>\n",
       "  <tbody>\n",
       "    <tr>\n",
       "      <th>0</th>\n",
       "      <td>0</td>\n",
       "      <td>41445</td>\n",
       "      <td>1001</td>\n",
       "      <td>0</td>\n",
       "      <td>0</td>\n",
       "      <td>0</td>\n",
       "      <td>0</td>\n",
       "      <td>0</td>\n",
       "      <td>0</td>\n",
       "    </tr>\n",
       "    <tr>\n",
       "      <th>1</th>\n",
       "      <td>1</td>\n",
       "      <td>66237</td>\n",
       "      <td>1001</td>\n",
       "      <td>0</td>\n",
       "      <td>0</td>\n",
       "      <td>0</td>\n",
       "      <td>0</td>\n",
       "      <td>0</td>\n",
       "      <td>0</td>\n",
       "    </tr>\n",
       "    <tr>\n",
       "      <th>2</th>\n",
       "      <td>2</td>\n",
       "      <td>66244</td>\n",
       "      <td>1001</td>\n",
       "      <td>1</td>\n",
       "      <td>105</td>\n",
       "      <td>0</td>\n",
       "      <td>0</td>\n",
       "      <td>91</td>\n",
       "      <td>0</td>\n",
       "    </tr>\n",
       "    <tr>\n",
       "      <th>3</th>\n",
       "      <td>3</td>\n",
       "      <td>66246</td>\n",
       "      <td>1001</td>\n",
       "      <td>0</td>\n",
       "      <td>1</td>\n",
       "      <td>0</td>\n",
       "      <td>0</td>\n",
       "      <td>1</td>\n",
       "      <td>0</td>\n",
       "    </tr>\n",
       "    <tr>\n",
       "      <th>4</th>\n",
       "      <td>4</td>\n",
       "      <td>66251</td>\n",
       "      <td>1001</td>\n",
       "      <td>0</td>\n",
       "      <td>1</td>\n",
       "      <td>0</td>\n",
       "      <td>0</td>\n",
       "      <td>1</td>\n",
       "      <td>0</td>\n",
       "    </tr>\n",
       "  </tbody>\n",
       "</table>\n",
       "</div>"
      ],
      "text/plain": [
       "   Unnamed: 0  original_listing_id  original_dealer_id  no_of_message_leads  \\\n",
       "0           0                41445                1001                    0   \n",
       "1           1                66237                1001                    0   \n",
       "2           2                66244                1001                    1   \n",
       "3           3                66246                1001                    0   \n",
       "4           4                66251                1001                    0   \n",
       "\n",
       "   no_of_ga_pdp_views  no_of_ga_pdp_views_from_gold_listing  \\\n",
       "0                   0                                     0   \n",
       "1                   0                                     0   \n",
       "2                 105                                     0   \n",
       "3                   1                                     0   \n",
       "4                   1                                     0   \n",
       "\n",
       "   no_of_ga_pdp_views_from_premium_listing  no_of_ga_unique_pdp_views  \\\n",
       "0                                        0                          0   \n",
       "1                                        0                          0   \n",
       "2                                        0                         91   \n",
       "3                                        0                          1   \n",
       "4                                        0                          1   \n",
       "\n",
       "   no_of_ga_call_leads  \n",
       "0                    0  \n",
       "1                    0  \n",
       "2                    0  \n",
       "3                    0  \n",
       "4                    0  "
      ]
     },
     "execution_count": 4,
     "metadata": {},
     "output_type": "execute_result"
    }
   ],
   "source": [
    "df_l.head()"
   ]
  },
  {
   "cell_type": "code",
   "execution_count": 5,
   "metadata": {},
   "outputs": [],
   "source": [
    "df_m = pd.merge(df_l, df, left_on = 'original_listing_id', right_on= 'id')"
   ]
  },
  {
   "cell_type": "code",
   "execution_count": 7,
   "metadata": {},
   "outputs": [
    {
     "data": {
      "text/plain": [
       "Unnamed: 0_x                             1795193\n",
       "original_listing_id                      1795193\n",
       "original_dealer_id                       1795193\n",
       "no_of_message_leads                      1795193\n",
       "no_of_ga_pdp_views                       1795193\n",
       "                                          ...   \n",
       "is_first_owner                                 2\n",
       "battery_acquisition                            2\n",
       "is_damaged                                     2\n",
       "is_min_one_year_free_service_included          2\n",
       "rn                                       1795193\n",
       "Length: 168, dtype: int64"
      ]
     },
     "execution_count": 7,
     "metadata": {},
     "output_type": "execute_result"
    }
   ],
   "source": [
    "df_m.count()"
   ]
  },
  {
   "cell_type": "code",
   "execution_count": 12,
   "metadata": {},
   "outputs": [],
   "source": [
    "df_m['d_date_timestamp'] = pd.to_datetime(df_m.deactivation_date)"
   ]
  },
  {
   "cell_type": "code",
   "execution_count": 14,
   "metadata": {},
   "outputs": [],
   "source": [
    "first_april = pd.to_datetime('2021-04-01')"
   ]
  },
  {
   "cell_type": "code",
   "execution_count": 20,
   "metadata": {},
   "outputs": [],
   "source": [
    "# the listings created later than 01.04\n",
    "#((df_m.deactivation_date.isnull())|(df_m.d_date_timestamp>first_april))\n",
    "d_a = df_m[(pd.to_datetime(df_m.created_date)>first_april)]"
   ]
  },
  {
   "cell_type": "code",
   "execution_count": 21,
   "metadata": {},
   "outputs": [
    {
     "data": {
      "text/plain": [
       "['Unnamed: 0_x',\n",
       " 'original_listing_id',\n",
       " 'original_dealer_id_x',\n",
       " 'no_of_message_leads',\n",
       " 'no_of_ga_pdp_views',\n",
       " 'no_of_ga_pdp_views_from_gold_listing',\n",
       " 'no_of_ga_pdp_views_from_premium_listing',\n",
       " 'no_of_ga_unique_pdp_views',\n",
       " 'no_of_ga_call_leads',\n",
       " 'Unnamed: 0_y',\n",
       " 'original_dealer_id_y',\n",
       " 'external_listing_id',\n",
       " 'source',\n",
       " 'tsn',\n",
       " 'price',\n",
       " 'body_type',\n",
       " 'fuel_type',\n",
       " 'transmission_type',\n",
       " 'drive_type',\n",
       " 'mileage',\n",
       " 'horse_power',\n",
       " 'production_year',\n",
       " 'first_registration_date',\n",
       " 'gbd_score',\n",
       " 'spin_360_code_indicator',\n",
       " 'make_key',\n",
       " 'make',\n",
       " 'model_key',\n",
       " 'model',\n",
       " 'type_id',\n",
       " 'detected_type_id',\n",
       " 'type',\n",
       " 'type_full',\n",
       " 'body_color',\n",
       " 'body_color_group',\n",
       " 'active_indicator',\n",
       " 'publishing_status',\n",
       " 'catalogued_indicator',\n",
       " 'publishing_date',\n",
       " 'deactivation_date',\n",
       " 'created_date',\n",
       " 'last_modified_date',\n",
       " 'live_indicator',\n",
       " 'd_date_timestamp']"
      ]
     },
     "execution_count": 21,
     "metadata": {},
     "output_type": "execute_result"
    }
   ],
   "source": [
    "list(d_a.columns)"
   ]
  },
  {
   "cell_type": "code",
   "execution_count": 23,
   "metadata": {},
   "outputs": [
    {
     "name": "stderr",
     "output_type": "stream",
     "text": [
      "/anaconda3/lib/python3.7/site-packages/ipykernel_launcher.py:1: SettingWithCopyWarning: \n",
      "A value is trying to be set on a copy of a slice from a DataFrame.\n",
      "Try using .loc[row_indexer,col_indexer] = value instead\n",
      "\n",
      "See the caveats in the documentation: http://pandas.pydata.org/pandas-docs/stable/user_guide/indexing.html#returning-a-view-versus-a-copy\n",
      "  \"\"\"Entry point for launching an IPython kernel.\n",
      "/anaconda3/lib/python3.7/site-packages/ipykernel_launcher.py:2: SettingWithCopyWarning: \n",
      "A value is trying to be set on a copy of a slice from a DataFrame.\n",
      "Try using .loc[row_indexer,col_indexer] = value instead\n",
      "\n",
      "See the caveats in the documentation: http://pandas.pydata.org/pandas-docs/stable/user_guide/indexing.html#returning-a-view-versus-a-copy\n",
      "  \n",
      "/anaconda3/lib/python3.7/site-packages/ipykernel_launcher.py:3: SettingWithCopyWarning: \n",
      "A value is trying to be set on a copy of a slice from a DataFrame.\n",
      "Try using .loc[row_indexer,col_indexer] = value instead\n",
      "\n",
      "See the caveats in the documentation: http://pandas.pydata.org/pandas-docs/stable/user_guide/indexing.html#returning-a-view-versus-a-copy\n",
      "  This is separate from the ipykernel package so we can avoid doing imports until\n",
      "/anaconda3/lib/python3.7/site-packages/ipykernel_launcher.py:4: SettingWithCopyWarning: \n",
      "A value is trying to be set on a copy of a slice from a DataFrame.\n",
      "Try using .loc[row_indexer,col_indexer] = value instead\n",
      "\n",
      "See the caveats in the documentation: http://pandas.pydata.org/pandas-docs/stable/user_guide/indexing.html#returning-a-view-versus-a-copy\n",
      "  after removing the cwd from sys.path.\n"
     ]
    }
   ],
   "source": [
    "d_a['views_total'] = d_a['no_of_ga_pdp_views'] \n",
    "d_a['views_unique'] = d_a['no_of_ga_unique_pdp_views']\n",
    "d_a['views_paid'] = d_a['no_of_ga_pdp_views_from_gold_listing'] + d_a['no_of_ga_pdp_views_from_premium_listing']\n",
    "d_a['leads_total'] = d_a['no_of_message_leads'] + d_a['no_of_ga_call_leads']"
   ]
  },
  {
   "cell_type": "code",
   "execution_count": 30,
   "metadata": {},
   "outputs": [],
   "source": [
    "def ctr(df):\n",
    "    if df.views_total==0:\n",
    "        return 0\n",
    "    else:\n",
    "        return df.leads_total/df.views_total"
   ]
  },
  {
   "cell_type": "code",
   "execution_count": 31,
   "metadata": {},
   "outputs": [
    {
     "name": "stderr",
     "output_type": "stream",
     "text": [
      "/anaconda3/lib/python3.7/site-packages/ipykernel_launcher.py:1: SettingWithCopyWarning: \n",
      "A value is trying to be set on a copy of a slice from a DataFrame.\n",
      "Try using .loc[row_indexer,col_indexer] = value instead\n",
      "\n",
      "See the caveats in the documentation: http://pandas.pydata.org/pandas-docs/stable/user_guide/indexing.html#returning-a-view-versus-a-copy\n",
      "  \"\"\"Entry point for launching an IPython kernel.\n"
     ]
    }
   ],
   "source": [
    "d_a['ctr'] = d_a.apply(ctr, axis = 1)"
   ]
  },
  {
   "cell_type": "code",
   "execution_count": 32,
   "metadata": {},
   "outputs": [
    {
     "data": {
      "text/plain": [
       "0.0016749045164762678"
      ]
     },
     "execution_count": 32,
     "metadata": {},
     "output_type": "execute_result"
    }
   ],
   "source": [
    "d_a.ctr.mean()"
   ]
  },
  {
   "cell_type": "code",
   "execution_count": 34,
   "metadata": {},
   "outputs": [
    {
     "data": {
      "text/plain": [
       "source\n",
       "DEALER_PLATFORM    0.005619\n",
       "MANUAL             0.010017\n",
       "TDA                0.000003\n",
       "TUTTI              0.000001\n",
       "Name: ctr, dtype: float64"
      ]
     },
     "execution_count": 34,
     "metadata": {},
     "output_type": "execute_result"
    }
   ],
   "source": [
    "d_a.groupby(['source'])['ctr'].mean()"
   ]
  },
  {
   "cell_type": "code",
   "execution_count": 35,
   "metadata": {},
   "outputs": [
    {
     "data": {
      "text/plain": [
       "0.006184685365724755"
      ]
     },
     "execution_count": 35,
     "metadata": {},
     "output_type": "execute_result"
    }
   ],
   "source": [
    "d_a[d_a.source.isin(['DEALER_PLATFORM', 'MANUAL'])].ctr.mean()"
   ]
  },
  {
   "cell_type": "code",
   "execution_count": 37,
   "metadata": {},
   "outputs": [],
   "source": [
    "first_jan = pd.to_datetime('2021-01-01')\n",
    "df_ma = df_m[(pd.to_datetime(df_m.created_date)<first_april)&((pd.to_datetime(df_m.created_date)>first_jan))&(df_m.d_date_timestamp<first_april)]"
   ]
  },
  {
   "cell_type": "code",
   "execution_count": 38,
   "metadata": {},
   "outputs": [
    {
     "name": "stderr",
     "output_type": "stream",
     "text": [
      "/anaconda3/lib/python3.7/site-packages/ipykernel_launcher.py:1: SettingWithCopyWarning: \n",
      "A value is trying to be set on a copy of a slice from a DataFrame.\n",
      "Try using .loc[row_indexer,col_indexer] = value instead\n",
      "\n",
      "See the caveats in the documentation: http://pandas.pydata.org/pandas-docs/stable/user_guide/indexing.html#returning-a-view-versus-a-copy\n",
      "  \"\"\"Entry point for launching an IPython kernel.\n",
      "/anaconda3/lib/python3.7/site-packages/ipykernel_launcher.py:2: SettingWithCopyWarning: \n",
      "A value is trying to be set on a copy of a slice from a DataFrame.\n",
      "Try using .loc[row_indexer,col_indexer] = value instead\n",
      "\n",
      "See the caveats in the documentation: http://pandas.pydata.org/pandas-docs/stable/user_guide/indexing.html#returning-a-view-versus-a-copy\n",
      "  \n",
      "/anaconda3/lib/python3.7/site-packages/ipykernel_launcher.py:3: SettingWithCopyWarning: \n",
      "A value is trying to be set on a copy of a slice from a DataFrame.\n",
      "Try using .loc[row_indexer,col_indexer] = value instead\n",
      "\n",
      "See the caveats in the documentation: http://pandas.pydata.org/pandas-docs/stable/user_guide/indexing.html#returning-a-view-versus-a-copy\n",
      "  This is separate from the ipykernel package so we can avoid doing imports until\n",
      "/anaconda3/lib/python3.7/site-packages/ipykernel_launcher.py:4: SettingWithCopyWarning: \n",
      "A value is trying to be set on a copy of a slice from a DataFrame.\n",
      "Try using .loc[row_indexer,col_indexer] = value instead\n",
      "\n",
      "See the caveats in the documentation: http://pandas.pydata.org/pandas-docs/stable/user_guide/indexing.html#returning-a-view-versus-a-copy\n",
      "  after removing the cwd from sys.path.\n",
      "/anaconda3/lib/python3.7/site-packages/ipykernel_launcher.py:5: SettingWithCopyWarning: \n",
      "A value is trying to be set on a copy of a slice from a DataFrame.\n",
      "Try using .loc[row_indexer,col_indexer] = value instead\n",
      "\n",
      "See the caveats in the documentation: http://pandas.pydata.org/pandas-docs/stable/user_guide/indexing.html#returning-a-view-versus-a-copy\n",
      "  \"\"\"\n"
     ]
    }
   ],
   "source": [
    "df_ma['views_total'] = df_ma['no_of_ga_pdp_views'] \n",
    "df_ma['views_unique'] = df_ma['no_of_ga_unique_pdp_views']\n",
    "df_ma['views_paid'] = df_ma['no_of_ga_pdp_views_from_gold_listing'] + df_ma['no_of_ga_pdp_views_from_premium_listing']\n",
    "df_ma['leads_total'] = df_ma['no_of_message_leads'] + df_ma['no_of_ga_call_leads']\n",
    "df_ma['ctr'] = df_ma.apply(ctr, axis = 1)"
   ]
  },
  {
   "cell_type": "code",
   "execution_count": 39,
   "metadata": {},
   "outputs": [
    {
     "data": {
      "text/plain": [
       "0.008947046037600909"
      ]
     },
     "execution_count": 39,
     "metadata": {},
     "output_type": "execute_result"
    }
   ],
   "source": [
    "df_ma[df_ma.source.isin(['DEALER_PLATFORM', 'MANUAL'])].ctr.mean()"
   ]
  },
  {
   "cell_type": "code",
   "execution_count": 46,
   "metadata": {},
   "outputs": [
    {
     "data": {
      "text/plain": [
       "30604.54411667856"
      ]
     },
     "execution_count": 46,
     "metadata": {},
     "output_type": "execute_result"
    }
   ],
   "source": [
    "df_ma[df_ma.source.isin(['DEALER_PLATFORM', 'MANUAL'])].price.mean()"
   ]
  },
  {
   "cell_type": "code",
   "execution_count": 47,
   "metadata": {},
   "outputs": [
    {
     "data": {
      "text/plain": [
       "31157.425619774094"
      ]
     },
     "execution_count": 47,
     "metadata": {},
     "output_type": "execute_result"
    }
   ],
   "source": [
    "d_a[d_a.source.isin(['DEALER_PLATFORM', 'MANUAL'])].price.mean()"
   ]
  },
  {
   "cell_type": "code",
   "execution_count": 62,
   "metadata": {},
   "outputs": [
    {
     "data": {
      "text/plain": [
       "Unnamed: 0                        5777501\n",
       "date_key                          5777501\n",
       "listing_key                       5777501\n",
       "dealer_key                        5777501\n",
       "quantity                          5777501\n",
       "price                             5777501\n",
       "age                               5777501\n",
       "no_of_message_leads               5777501\n",
       "no_of_ga_pdp_views                5777501\n",
       "no_of_ga_unique_pdp_views         5777501\n",
       "no_of_ga_call_leads               5777501\n",
       "no_of_ga_message_leads            5777501\n",
       "no_of_ga_whatsapp_leads           5777501\n",
       "no_of_ga_call_leads_unfactored    5777501\n",
       "no_of_comparis_message_leads      5777501\n",
       "no_of_tutti_message_leads         5777501\n",
       "dtype: int64"
      ]
     },
     "execution_count": 62,
     "metadata": {},
     "output_type": "execute_result"
    }
   ],
   "source": [
    "df_sn[df_sn.date_key<20210401].count()"
   ]
  },
  {
   "cell_type": "code",
   "execution_count": 63,
   "metadata": {},
   "outputs": [
    {
     "data": {
      "text/plain": [
       "Unnamed: 0                        5410348\n",
       "date_key                          5410348\n",
       "listing_key                       5410348\n",
       "dealer_key                        5410348\n",
       "quantity                          5410348\n",
       "price                             5410348\n",
       "age                               5410348\n",
       "no_of_message_leads               5410348\n",
       "no_of_ga_pdp_views                5410348\n",
       "no_of_ga_unique_pdp_views         5410348\n",
       "no_of_ga_call_leads               5410348\n",
       "no_of_ga_message_leads            5410348\n",
       "no_of_ga_whatsapp_leads           5410348\n",
       "no_of_ga_call_leads_unfactored    5410348\n",
       "no_of_comparis_message_leads      5410348\n",
       "no_of_tutti_message_leads         5410348\n",
       "dtype: int64"
      ]
     },
     "execution_count": 63,
     "metadata": {},
     "output_type": "execute_result"
    }
   ],
   "source": [
    "df_sn[df_sn.date_key>20210401].count()"
   ]
  },
  {
   "cell_type": "code",
   "execution_count": 50,
   "metadata": {},
   "outputs": [
    {
     "data": {
      "text/plain": [
       "32427.44087015078"
      ]
     },
     "execution_count": 50,
     "metadata": {},
     "output_type": "execute_result"
    }
   ],
   "source": [
    "df_sn.price.mean()"
   ]
  },
  {
   "cell_type": "code",
   "execution_count": 58,
   "metadata": {},
   "outputs": [
    {
     "data": {
      "text/plain": [
       "28751.89247956852"
      ]
     },
     "execution_count": 58,
     "metadata": {},
     "output_type": "execute_result"
    }
   ],
   "source": [
    "x = df_sn[df_sn.no_of_ga_pdp_views!=0].groupby(['listing_key'])['price'].mean().reset_index()\n",
    "x.price.mean()"
   ]
  },
  {
   "cell_type": "code",
   "execution_count": 59,
   "metadata": {},
   "outputs": [
    {
     "data": {
      "text/plain": [
       "18900.0"
      ]
     },
     "execution_count": 59,
     "metadata": {},
     "output_type": "execute_result"
    }
   ],
   "source": [
    "x.price.median()"
   ]
  },
  {
   "cell_type": "code",
   "execution_count": 77,
   "metadata": {},
   "outputs": [
    {
     "data": {
      "text/plain": [
       "(28342.06933548874, 17990.0)"
      ]
     },
     "execution_count": 77,
     "metadata": {},
     "output_type": "execute_result"
    }
   ],
   "source": [
    "x = df_sn[(df_sn.date_key<20210401)&(df_sn.no_of_ga_pdp_views!=0)].groupby(['listing_key'])['price'].max().reset_index()\n",
    "x.price.mean(), x.price.median()"
   ]
  },
  {
   "cell_type": "code",
   "execution_count": 78,
   "metadata": {},
   "outputs": [
    {
     "data": {
      "text/plain": [
       "(28793.091591650693, 18900.0)"
      ]
     },
     "execution_count": 78,
     "metadata": {},
     "output_type": "execute_result"
    }
   ],
   "source": [
    "x = df_sn[(df_sn.date_key>=20210401)&(df_sn.no_of_ga_pdp_views!=0)].groupby(['listing_key'])['price'].max().reset_index()\n",
    "x.price.mean(), x.price.median()"
   ]
  },
  {
   "cell_type": "code",
   "execution_count": 88,
   "metadata": {},
   "outputs": [
    {
     "data": {
      "text/plain": [
       "(31643.191313946365, 23900.0)"
      ]
     },
     "execution_count": 88,
     "metadata": {},
     "output_type": "execute_result"
    }
   ],
   "source": [
    "x = df_sn[(df_sn.date_key<20210401)].groupby(['listing_key'])['price'].max().reset_index()\n",
    "x.price.mean(), x.price.median()"
   ]
  },
  {
   "cell_type": "code",
   "execution_count": 76,
   "metadata": {},
   "outputs": [
    {
     "data": {
      "text/plain": [
       "(30030.064535343317, 22300.0)"
      ]
     },
     "execution_count": 76,
     "metadata": {},
     "output_type": "execute_result"
    }
   ],
   "source": [
    "x = df_sn[(df_sn.date_key>=20210401)].groupby(['listing_key'])['price'].max().reset_index()\n",
    "x.price.mean(), x.price.median()"
   ]
  },
  {
   "cell_type": "code",
   "execution_count": 70,
   "metadata": {},
   "outputs": [
    {
     "data": {
      "text/html": [
       "<div>\n",
       "<style scoped>\n",
       "    .dataframe tbody tr th:only-of-type {\n",
       "        vertical-align: middle;\n",
       "    }\n",
       "\n",
       "    .dataframe tbody tr th {\n",
       "        vertical-align: top;\n",
       "    }\n",
       "\n",
       "    .dataframe thead th {\n",
       "        text-align: right;\n",
       "    }\n",
       "</style>\n",
       "<table border=\"1\" class=\"dataframe\">\n",
       "  <thead>\n",
       "    <tr style=\"text-align: right;\">\n",
       "      <th></th>\n",
       "      <th>Unnamed: 0</th>\n",
       "      <th>date_key</th>\n",
       "      <th>listing_key</th>\n",
       "      <th>dealer_key</th>\n",
       "      <th>quantity</th>\n",
       "      <th>price</th>\n",
       "      <th>age</th>\n",
       "      <th>no_of_message_leads</th>\n",
       "      <th>no_of_ga_pdp_views</th>\n",
       "      <th>no_of_ga_unique_pdp_views</th>\n",
       "      <th>no_of_ga_call_leads</th>\n",
       "      <th>no_of_ga_message_leads</th>\n",
       "      <th>no_of_ga_whatsapp_leads</th>\n",
       "      <th>no_of_ga_call_leads_unfactored</th>\n",
       "      <th>no_of_comparis_message_leads</th>\n",
       "      <th>no_of_tutti_message_leads</th>\n",
       "    </tr>\n",
       "  </thead>\n",
       "  <tbody>\n",
       "    <tr>\n",
       "      <th>5687695</th>\n",
       "      <td>5687695</td>\n",
       "      <td>20210401</td>\n",
       "      <td>2804891</td>\n",
       "      <td>356053</td>\n",
       "      <td>1</td>\n",
       "      <td>20500.0</td>\n",
       "      <td>388</td>\n",
       "      <td>0</td>\n",
       "      <td>0</td>\n",
       "      <td>0</td>\n",
       "      <td>0</td>\n",
       "      <td>0</td>\n",
       "      <td>0</td>\n",
       "      <td>0</td>\n",
       "      <td>0</td>\n",
       "      <td>0</td>\n",
       "    </tr>\n",
       "    <tr>\n",
       "      <th>5687696</th>\n",
       "      <td>5687696</td>\n",
       "      <td>20210401</td>\n",
       "      <td>2954005</td>\n",
       "      <td>405192</td>\n",
       "      <td>1</td>\n",
       "      <td>23000.0</td>\n",
       "      <td>363</td>\n",
       "      <td>0</td>\n",
       "      <td>3</td>\n",
       "      <td>3</td>\n",
       "      <td>0</td>\n",
       "      <td>0</td>\n",
       "      <td>0</td>\n",
       "      <td>0</td>\n",
       "      <td>0</td>\n",
       "      <td>0</td>\n",
       "    </tr>\n",
       "    <tr>\n",
       "      <th>5687697</th>\n",
       "      <td>5687697</td>\n",
       "      <td>20210401</td>\n",
       "      <td>2958258</td>\n",
       "      <td>451713</td>\n",
       "      <td>1</td>\n",
       "      <td>22000.0</td>\n",
       "      <td>471</td>\n",
       "      <td>0</td>\n",
       "      <td>0</td>\n",
       "      <td>0</td>\n",
       "      <td>0</td>\n",
       "      <td>0</td>\n",
       "      <td>0</td>\n",
       "      <td>0</td>\n",
       "      <td>0</td>\n",
       "      <td>0</td>\n",
       "    </tr>\n",
       "    <tr>\n",
       "      <th>5687698</th>\n",
       "      <td>5687698</td>\n",
       "      <td>20210401</td>\n",
       "      <td>2970967</td>\n",
       "      <td>550491</td>\n",
       "      <td>1</td>\n",
       "      <td>49900.0</td>\n",
       "      <td>302</td>\n",
       "      <td>0</td>\n",
       "      <td>0</td>\n",
       "      <td>0</td>\n",
       "      <td>0</td>\n",
       "      <td>0</td>\n",
       "      <td>0</td>\n",
       "      <td>0</td>\n",
       "      <td>0</td>\n",
       "      <td>0</td>\n",
       "    </tr>\n",
       "    <tr>\n",
       "      <th>5687699</th>\n",
       "      <td>5687699</td>\n",
       "      <td>20210401</td>\n",
       "      <td>2990089</td>\n",
       "      <td>613058</td>\n",
       "      <td>1</td>\n",
       "      <td>25900.0</td>\n",
       "      <td>289</td>\n",
       "      <td>0</td>\n",
       "      <td>0</td>\n",
       "      <td>0</td>\n",
       "      <td>0</td>\n",
       "      <td>0</td>\n",
       "      <td>0</td>\n",
       "      <td>0</td>\n",
       "      <td>0</td>\n",
       "      <td>0</td>\n",
       "    </tr>\n",
       "  </tbody>\n",
       "</table>\n",
       "</div>"
      ],
      "text/plain": [
       "         Unnamed: 0  date_key  listing_key  dealer_key  quantity    price  \\\n",
       "5687695     5687695  20210401      2804891      356053         1  20500.0   \n",
       "5687696     5687696  20210401      2954005      405192         1  23000.0   \n",
       "5687697     5687697  20210401      2958258      451713         1  22000.0   \n",
       "5687698     5687698  20210401      2970967      550491         1  49900.0   \n",
       "5687699     5687699  20210401      2990089      613058         1  25900.0   \n",
       "\n",
       "         age  no_of_message_leads  no_of_ga_pdp_views  \\\n",
       "5687695  388                    0                   0   \n",
       "5687696  363                    0                   3   \n",
       "5687697  471                    0                   0   \n",
       "5687698  302                    0                   0   \n",
       "5687699  289                    0                   0   \n",
       "\n",
       "         no_of_ga_unique_pdp_views  no_of_ga_call_leads  \\\n",
       "5687695                          0                    0   \n",
       "5687696                          3                    0   \n",
       "5687697                          0                    0   \n",
       "5687698                          0                    0   \n",
       "5687699                          0                    0   \n",
       "\n",
       "         no_of_ga_message_leads  no_of_ga_whatsapp_leads  \\\n",
       "5687695                       0                        0   \n",
       "5687696                       0                        0   \n",
       "5687697                       0                        0   \n",
       "5687698                       0                        0   \n",
       "5687699                       0                        0   \n",
       "\n",
       "         no_of_ga_call_leads_unfactored  no_of_comparis_message_leads  \\\n",
       "5687695                               0                             0   \n",
       "5687696                               0                             0   \n",
       "5687697                               0                             0   \n",
       "5687698                               0                             0   \n",
       "5687699                               0                             0   \n",
       "\n",
       "         no_of_tutti_message_leads  \n",
       "5687695                          0  \n",
       "5687696                          0  \n",
       "5687697                          0  \n",
       "5687698                          0  \n",
       "5687699                          0  "
      ]
     },
     "execution_count": 70,
     "metadata": {},
     "output_type": "execute_result"
    }
   ],
   "source": [
    "df_sn[(df_sn.date_key>=20210401)].head()"
   ]
  },
  {
   "cell_type": "code",
   "execution_count": 87,
   "metadata": {},
   "outputs": [
    {
     "data": {
      "text/plain": [
       "23353.49182957169"
      ]
     },
     "execution_count": 87,
     "metadata": {},
     "output_type": "execute_result"
    }
   ],
   "source": [
    "df_m[(pd.to_datetime(df_m.created_date)<first_april)&((pd.to_datetime(df_m.created_date)>first_jan))].price.mean()"
   ]
  },
  {
   "cell_type": "code",
   "execution_count": 86,
   "metadata": {},
   "outputs": [
    {
     "data": {
      "text/plain": [
       "22301.582001450803"
      ]
     },
     "execution_count": 86,
     "metadata": {},
     "output_type": "execute_result"
    }
   ],
   "source": [
    "df_m[(pd.to_datetime(df_m.created_date)>=first_april)].price.mean()"
   ]
  },
  {
   "cell_type": "code",
   "execution_count": 83,
   "metadata": {},
   "outputs": [],
   "source": [
    "x = ['Jan - March 2021', 'April 2021']\n",
    "y1 = [13999, 13500 ]"
   ]
  },
  {
   "cell_type": "code",
   "execution_count": 85,
   "metadata": {},
   "outputs": [
    {
     "data": {
      "text/plain": [
       "[<matplotlib.lines.Line2D at 0x116999490>]"
      ]
     },
     "execution_count": 85,
     "metadata": {},
     "output_type": "execute_result"
    },
    {
     "data": {
      "image/png": "[encoded data removed]",
      "text/plain": [
       "<Figure size 432x288 with 1 Axes>"
      ]
     },
     "metadata": {
      "needs_background": "light"
     },
     "output_type": "display_data"
    }
   ],
   "source": [
    "import matplotlib.pyplot as plt\n",
    "plt.plot(x, y1)"
   ]
  },
  {
   "cell_type": "code",
   "execution_count": 97,
   "metadata": {},
   "outputs": [
    {
     "data": {
      "text/plain": [
       "(71.32228168655236, 25.0)"
      ]
     },
     "execution_count": 97,
     "metadata": {},
     "output_type": "execute_result"
    }
   ],
   "source": [
    "x = df_sn[(df_sn.date_key<20210401)].groupby(['listing_key'])['age'].mean().reset_index()\n",
    "x.age.mean(), x.age.median()"
   ]
  },
  {
   "cell_type": "code",
   "execution_count": 98,
   "metadata": {},
   "outputs": [
    {
     "data": {
      "text/plain": [
       "(86.46158177565523, 40.5)"
      ]
     },
     "execution_count": 98,
     "metadata": {},
     "output_type": "execute_result"
    }
   ],
   "source": [
    "x = df_sn[(df_sn.date_key>20210401)].groupby(['listing_key'])['age'].mean().reset_index()\n",
    "x.age.mean(), x.age.median()"
   ]
  },
  {
   "cell_type": "code",
   "execution_count": 89,
   "metadata": {},
   "outputs": [
    {
     "data": {
      "text/plain": [
       "(71.1676417478569, 24.0)"
      ]
     },
     "execution_count": 89,
     "metadata": {},
     "output_type": "execute_result"
    }
   ],
   "source": [
    "x = df_sn[(df_sn.date_key<20210401)&(df_sn.no_of_ga_pdp_views!=0)].groupby(['listing_key'])['age'].mean().reset_index()\n",
    "x.age.mean(), x.age.median()"
   ]
  },
  {
   "cell_type": "code",
   "execution_count": 90,
   "metadata": {},
   "outputs": [
    {
     "data": {
      "text/plain": [
       "(84.82287111545958, 37.0)"
      ]
     },
     "execution_count": 90,
     "metadata": {},
     "output_type": "execute_result"
    }
   ],
   "source": [
    "x = df_sn[(df_sn.date_key>=20210401)&(df_sn.no_of_ga_pdp_views!=0)].groupby(['listing_key'])['age'].mean().reset_index()\n",
    "x.age.mean(), x.age.median()"
   ]
  },
  {
   "cell_type": "code",
   "execution_count": 92,
   "metadata": {},
   "outputs": [
    {
     "data": {
      "text/plain": [
       "75907"
      ]
     },
     "execution_count": 92,
     "metadata": {},
     "output_type": "execute_result"
    }
   ],
   "source": [
    "df_m[(pd.to_datetime(df_m.created_date)>=first_april)].original_listing_id.count()"
   ]
  },
  {
   "cell_type": "code",
   "execution_count": 94,
   "metadata": {},
   "outputs": [
    {
     "data": {
      "text/plain": [
       "114396"
      ]
     },
     "execution_count": 94,
     "metadata": {},
     "output_type": "execute_result"
    }
   ],
   "source": [
    "df_m[(pd.to_datetime(df_m.created_date)<first_april)&(pd.to_datetime(df_m.created_date)>=pd.to_datetime('20210301'))].original_listing_id.count()"
   ]
  },
  {
   "cell_type": "code",
   "execution_count": 96,
   "metadata": {},
   "outputs": [
    {
     "data": {
      "text/plain": [
       "109283"
      ]
     },
     "execution_count": 96,
     "metadata": {},
     "output_type": "execute_result"
    }
   ],
   "source": [
    "df_m[(pd.to_datetime(df_m.created_date)<pd.to_datetime('20210301'))&(pd.to_datetime(df_m.created_date)>=pd.to_datetime('20210201'))].original_listing_id.count()"
   ]
  },
  {
   "cell_type": "code",
   "execution_count": 99,
   "metadata": {},
   "outputs": [],
   "source": [
    "df_mes = pd.read_csv('message_leads')"
   ]
  },
  {
   "cell_type": "code",
   "execution_count": 101,
   "metadata": {},
   "outputs": [
    {
     "data": {
      "text/plain": [
       "14096"
      ]
     },
     "execution_count": 101,
     "metadata": {},
     "output_type": "execute_result"
    }
   ],
   "source": [
    "df_mes[pd.to_datetime(df_mes.created_date)<pd.to_datetime('20210401')]['original_listing_id'].count()"
   ]
  },
  {
   "cell_type": "code",
   "execution_count": 102,
   "metadata": {},
   "outputs": [
    {
     "data": {
      "text/plain": [
       "11473"
      ]
     },
     "execution_count": 102,
     "metadata": {},
     "output_type": "execute_result"
    }
   ],
   "source": [
    "df_mes[pd.to_datetime(df_mes.created_date)>pd.to_datetime('20210401')]['original_listing_id'].count()"
   ]
  },
  {
   "cell_type": "code",
   "execution_count": 103,
   "metadata": {},
   "outputs": [
    {
     "data": {
      "text/html": [
       "<div>\n",
       "<style scoped>\n",
       "    .dataframe tbody tr th:only-of-type {\n",
       "        vertical-align: middle;\n",
       "    }\n",
       "\n",
       "    .dataframe tbody tr th {\n",
       "        vertical-align: top;\n",
       "    }\n",
       "\n",
       "    .dataframe thead th {\n",
       "        text-align: right;\n",
       "    }\n",
       "</style>\n",
       "<table border=\"1\" class=\"dataframe\">\n",
       "  <thead>\n",
       "    <tr style=\"text-align: right;\">\n",
       "      <th></th>\n",
       "      <th>Unnamed: 0</th>\n",
       "      <th>date_key</th>\n",
       "      <th>dealer_key</th>\n",
       "      <th>listing_key</th>\n",
       "      <th>original_message_lead_id</th>\n",
       "      <th>original_listing_id</th>\n",
       "      <th>created_date</th>\n",
       "      <th>email</th>\n",
       "      <th>phone</th>\n",
       "      <th>language</th>\n",
       "      <th>first_name</th>\n",
       "      <th>last_name</th>\n",
       "      <th>message</th>\n",
       "      <th>source</th>\n",
       "      <th>status</th>\n",
       "      <th>quantity</th>\n",
       "      <th>listing_price</th>\n",
       "      <th>listing_age</th>\n",
       "      <th>load_date</th>\n",
       "    </tr>\n",
       "  </thead>\n",
       "  <tbody>\n",
       "    <tr>\n",
       "      <th>0</th>\n",
       "      <td>0</td>\n",
       "      <td>20210301</td>\n",
       "      <td>329852</td>\n",
       "      <td>7981326</td>\n",
       "      <td>236342</td>\n",
       "      <td>1594516</td>\n",
       "      <td>2021-03-01 20:45:07.164699</td>\n",
       "      <td>peterhaag@bluewin.ch</td>\n",
       "      <td>796631639.0</td>\n",
       "      <td>de</td>\n",
       "      <td>Peter</td>\n",
       "      <td>Haag</td>\n",
       "      <td>Guten Tag Ich interessiere mich für das Fahrze...</td>\n",
       "      <td>COMPARIS</td>\n",
       "      <td>verified</td>\n",
       "      <td>1</td>\n",
       "      <td>34500.0</td>\n",
       "      <td>19</td>\n",
       "      <td>2021-03-02 01:25:09.347000</td>\n",
       "    </tr>\n",
       "    <tr>\n",
       "      <th>1</th>\n",
       "      <td>1</td>\n",
       "      <td>20210301</td>\n",
       "      <td>330718</td>\n",
       "      <td>7991800</td>\n",
       "      <td>236237</td>\n",
       "      <td>1602484</td>\n",
       "      <td>2021-03-01 17:57:51.227473</td>\n",
       "      <td>marekchabuz12@gimail.com</td>\n",
       "      <td>762331728.0</td>\n",
       "      <td>fr</td>\n",
       "      <td>Marek</td>\n",
       "      <td>Chabuz</td>\n",
       "      <td>Bonjour, Je suis intéressé par votre annonce V...</td>\n",
       "      <td>CARFORYOU</td>\n",
       "      <td>verified</td>\n",
       "      <td>1</td>\n",
       "      <td>11990.0</td>\n",
       "      <td>18</td>\n",
       "      <td>2021-03-01 19:24:13.890000</td>\n",
       "    </tr>\n",
       "    <tr>\n",
       "      <th>2</th>\n",
       "      <td>2</td>\n",
       "      <td>20210301</td>\n",
       "      <td>331682</td>\n",
       "      <td>7992618</td>\n",
       "      <td>235920</td>\n",
       "      <td>1582754</td>\n",
       "      <td>2021-03-01 07:18:34.865421</td>\n",
       "      <td>schwyz.finanzberater@gmail.com</td>\n",
       "      <td>797393054.0</td>\n",
       "      <td>de</td>\n",
       "      <td>Rinaldo</td>\n",
       "      <td>Maissen</td>\n",
       "      <td>Guten Tag Ich interessiere mich für das Fahrze...</td>\n",
       "      <td>COMPARIS</td>\n",
       "      <td>verified</td>\n",
       "      <td>1</td>\n",
       "      <td>9850.0</td>\n",
       "      <td>23</td>\n",
       "      <td>2021-03-01 13:24:12.779000</td>\n",
       "    </tr>\n",
       "    <tr>\n",
       "      <th>3</th>\n",
       "      <td>3</td>\n",
       "      <td>20210301</td>\n",
       "      <td>487125</td>\n",
       "      <td>7996699</td>\n",
       "      <td>236103</td>\n",
       "      <td>1594768</td>\n",
       "      <td>2021-03-01 13:10:14.227938</td>\n",
       "      <td>zemifes525@gmail.com</td>\n",
       "      <td>787312214.0</td>\n",
       "      <td>de</td>\n",
       "      <td>Zemichael</td>\n",
       "      <td>Fessehaye</td>\n",
       "      <td>Grüezi, Ich interessiere mich für Ihr Inserat ...</td>\n",
       "      <td>CARFORYOU</td>\n",
       "      <td>verified</td>\n",
       "      <td>1</td>\n",
       "      <td>16000.0</td>\n",
       "      <td>19</td>\n",
       "      <td>2021-03-01 19:24:13.890000</td>\n",
       "    </tr>\n",
       "    <tr>\n",
       "      <th>4</th>\n",
       "      <td>4</td>\n",
       "      <td>20210301</td>\n",
       "      <td>330528</td>\n",
       "      <td>8038111</td>\n",
       "      <td>235951</td>\n",
       "      <td>1606039</td>\n",
       "      <td>2021-03-01 08:28:38.239721</td>\n",
       "      <td>freiraumallerhand@bluewin.ch</td>\n",
       "      <td>788000044.0</td>\n",
       "      <td>de</td>\n",
       "      <td>Ursula</td>\n",
       "      <td>Schwob</td>\n",
       "      <td>Grüezi, Ich interessiere mich für Ihr Inserat ...</td>\n",
       "      <td>CARFORYOU</td>\n",
       "      <td>verified</td>\n",
       "      <td>1</td>\n",
       "      <td>1300.0</td>\n",
       "      <td>17</td>\n",
       "      <td>2021-03-01 13:24:12.779000</td>\n",
       "    </tr>\n",
       "  </tbody>\n",
       "</table>\n",
       "</div>"
      ],
      "text/plain": [
       "   Unnamed: 0  date_key  dealer_key  listing_key  original_message_lead_id  \\\n",
       "0           0  20210301      329852      7981326                    236342   \n",
       "1           1  20210301      330718      7991800                    236237   \n",
       "2           2  20210301      331682      7992618                    235920   \n",
       "3           3  20210301      487125      7996699                    236103   \n",
       "4           4  20210301      330528      8038111                    235951   \n",
       "\n",
       "   original_listing_id                created_date  \\\n",
       "0              1594516  2021-03-01 20:45:07.164699   \n",
       "1              1602484  2021-03-01 17:57:51.227473   \n",
       "2              1582754  2021-03-01 07:18:34.865421   \n",
       "3              1594768  2021-03-01 13:10:14.227938   \n",
       "4              1606039  2021-03-01 08:28:38.239721   \n",
       "\n",
       "                            email        phone language first_name  last_name  \\\n",
       "0            peterhaag@bluewin.ch  796631639.0       de      Peter       Haag   \n",
       "1        marekchabuz12@gimail.com  762331728.0       fr      Marek     Chabuz   \n",
       "2  schwyz.finanzberater@gmail.com  797393054.0       de    Rinaldo    Maissen   \n",
       "3            zemifes525@gmail.com  787312214.0       de  Zemichael  Fessehaye   \n",
       "4    freiraumallerhand@bluewin.ch  788000044.0       de     Ursula     Schwob   \n",
       "\n",
       "                                             message     source    status  \\\n",
       "0  Guten Tag Ich interessiere mich für das Fahrze...   COMPARIS  verified   \n",
       "1  Bonjour, Je suis intéressé par votre annonce V...  CARFORYOU  verified   \n",
       "2  Guten Tag Ich interessiere mich für das Fahrze...   COMPARIS  verified   \n",
       "3  Grüezi, Ich interessiere mich für Ihr Inserat ...  CARFORYOU  verified   \n",
       "4  Grüezi, Ich interessiere mich für Ihr Inserat ...  CARFORYOU  verified   \n",
       "\n",
       "   quantity  listing_price  listing_age                   load_date  \n",
       "0         1        34500.0           19  2021-03-02 01:25:09.347000  \n",
       "1         1        11990.0           18  2021-03-01 19:24:13.890000  \n",
       "2         1         9850.0           23  2021-03-01 13:24:12.779000  \n",
       "3         1        16000.0           19  2021-03-01 19:24:13.890000  \n",
       "4         1         1300.0           17  2021-03-01 13:24:12.779000  "
      ]
     },
     "execution_count": 103,
     "metadata": {},
     "output_type": "execute_result"
    }
   ],
   "source": [
    "df_mes.head()"
   ]
  },
  {
   "cell_type": "code",
   "execution_count": 118,
   "metadata": {},
   "outputs": [],
   "source": [
    "d_top_march = df_mes[pd.to_datetime(df_mes.created_date)<pd.to_datetime('20210401')].groupby(['dealer_key'])['original_message_lead_id'].count().reset_index().sort_values(by='original_message_lead_id', ascending = False)"
   ]
  },
  {
   "cell_type": "code",
   "execution_count": 119,
   "metadata": {},
   "outputs": [],
   "source": [
    "d_top_apr = df_mes[pd.to_datetime(df_mes.created_date)>=pd.to_datetime('20210401')].groupby(['dealer_key'])['original_message_lead_id'].count().reset_index().sort_values(by='original_message_lead_id', ascending = False)"
   ]
  },
  {
   "cell_type": "code",
   "execution_count": 110,
   "metadata": {},
   "outputs": [
    {
     "data": {
      "text/html": [
       "<div>\n",
       "<style scoped>\n",
       "    .dataframe tbody tr th:only-of-type {\n",
       "        vertical-align: middle;\n",
       "    }\n",
       "\n",
       "    .dataframe tbody tr th {\n",
       "        vertical-align: top;\n",
       "    }\n",
       "\n",
       "    .dataframe thead th {\n",
       "        text-align: right;\n",
       "    }\n",
       "</style>\n",
       "<table border=\"1\" class=\"dataframe\">\n",
       "  <thead>\n",
       "    <tr style=\"text-align: right;\">\n",
       "      <th></th>\n",
       "      <th>Unnamed: 0</th>\n",
       "      <th>date_key</th>\n",
       "      <th>listing_key</th>\n",
       "      <th>dealer_key</th>\n",
       "      <th>quantity</th>\n",
       "      <th>price</th>\n",
       "      <th>age</th>\n",
       "      <th>no_of_message_leads</th>\n",
       "      <th>no_of_ga_pdp_views</th>\n",
       "      <th>no_of_ga_unique_pdp_views</th>\n",
       "      <th>no_of_ga_call_leads</th>\n",
       "      <th>no_of_ga_message_leads</th>\n",
       "      <th>no_of_ga_whatsapp_leads</th>\n",
       "      <th>no_of_ga_call_leads_unfactored</th>\n",
       "      <th>no_of_comparis_message_leads</th>\n",
       "      <th>no_of_tutti_message_leads</th>\n",
       "    </tr>\n",
       "  </thead>\n",
       "  <tbody>\n",
       "    <tr>\n",
       "      <th>0</th>\n",
       "      <td>0</td>\n",
       "      <td>20210301</td>\n",
       "      <td>2203434</td>\n",
       "      <td>577478</td>\n",
       "      <td>1</td>\n",
       "      <td>7900.0</td>\n",
       "      <td>334</td>\n",
       "      <td>0</td>\n",
       "      <td>0</td>\n",
       "      <td>0</td>\n",
       "      <td>0</td>\n",
       "      <td>0</td>\n",
       "      <td>0</td>\n",
       "      <td>0</td>\n",
       "      <td>0</td>\n",
       "      <td>0</td>\n",
       "    </tr>\n",
       "    <tr>\n",
       "      <th>1</th>\n",
       "      <td>1</td>\n",
       "      <td>20210301</td>\n",
       "      <td>2500697</td>\n",
       "      <td>341383</td>\n",
       "      <td>1</td>\n",
       "      <td>16900.0</td>\n",
       "      <td>287</td>\n",
       "      <td>0</td>\n",
       "      <td>2</td>\n",
       "      <td>2</td>\n",
       "      <td>0</td>\n",
       "      <td>0</td>\n",
       "      <td>0</td>\n",
       "      <td>0</td>\n",
       "      <td>0</td>\n",
       "      <td>0</td>\n",
       "    </tr>\n",
       "    <tr>\n",
       "      <th>2</th>\n",
       "      <td>2</td>\n",
       "      <td>20210301</td>\n",
       "      <td>2570770</td>\n",
       "      <td>414654</td>\n",
       "      <td>1</td>\n",
       "      <td>250.0</td>\n",
       "      <td>283</td>\n",
       "      <td>0</td>\n",
       "      <td>1</td>\n",
       "      <td>1</td>\n",
       "      <td>0</td>\n",
       "      <td>0</td>\n",
       "      <td>0</td>\n",
       "      <td>0</td>\n",
       "      <td>0</td>\n",
       "      <td>0</td>\n",
       "    </tr>\n",
       "    <tr>\n",
       "      <th>3</th>\n",
       "      <td>3</td>\n",
       "      <td>20210301</td>\n",
       "      <td>2610933</td>\n",
       "      <td>406976</td>\n",
       "      <td>1</td>\n",
       "      <td>3700.0</td>\n",
       "      <td>281</td>\n",
       "      <td>0</td>\n",
       "      <td>1</td>\n",
       "      <td>1</td>\n",
       "      <td>0</td>\n",
       "      <td>0</td>\n",
       "      <td>0</td>\n",
       "      <td>0</td>\n",
       "      <td>0</td>\n",
       "      <td>0</td>\n",
       "    </tr>\n",
       "    <tr>\n",
       "      <th>4</th>\n",
       "      <td>4</td>\n",
       "      <td>20210301</td>\n",
       "      <td>2670679</td>\n",
       "      <td>534470</td>\n",
       "      <td>1</td>\n",
       "      <td>24800.0</td>\n",
       "      <td>338</td>\n",
       "      <td>0</td>\n",
       "      <td>0</td>\n",
       "      <td>0</td>\n",
       "      <td>0</td>\n",
       "      <td>0</td>\n",
       "      <td>0</td>\n",
       "      <td>0</td>\n",
       "      <td>0</td>\n",
       "      <td>0</td>\n",
       "    </tr>\n",
       "  </tbody>\n",
       "</table>\n",
       "</div>"
      ],
      "text/plain": [
       "   Unnamed: 0  date_key  listing_key  dealer_key  quantity    price  age  \\\n",
       "0           0  20210301      2203434      577478         1   7900.0  334   \n",
       "1           1  20210301      2500697      341383         1  16900.0  287   \n",
       "2           2  20210301      2570770      414654         1    250.0  283   \n",
       "3           3  20210301      2610933      406976         1   3700.0  281   \n",
       "4           4  20210301      2670679      534470         1  24800.0  338   \n",
       "\n",
       "   no_of_message_leads  no_of_ga_pdp_views  no_of_ga_unique_pdp_views  \\\n",
       "0                    0                   0                          0   \n",
       "1                    0                   2                          2   \n",
       "2                    0                   1                          1   \n",
       "3                    0                   1                          1   \n",
       "4                    0                   0                          0   \n",
       "\n",
       "   no_of_ga_call_leads  no_of_ga_message_leads  no_of_ga_whatsapp_leads  \\\n",
       "0                    0                       0                        0   \n",
       "1                    0                       0                        0   \n",
       "2                    0                       0                        0   \n",
       "3                    0                       0                        0   \n",
       "4                    0                       0                        0   \n",
       "\n",
       "   no_of_ga_call_leads_unfactored  no_of_comparis_message_leads  \\\n",
       "0                               0                             0   \n",
       "1                               0                             0   \n",
       "2                               0                             0   \n",
       "3                               0                             0   \n",
       "4                               0                             0   \n",
       "\n",
       "   no_of_tutti_message_leads  \n",
       "0                          0  \n",
       "1                          0  \n",
       "2                          0  \n",
       "3                          0  \n",
       "4                          0  "
      ]
     },
     "execution_count": 110,
     "metadata": {},
     "output_type": "execute_result"
    }
   ],
   "source": [
    "df_sn.head()"
   ]
  },
  {
   "cell_type": "code",
   "execution_count": 113,
   "metadata": {},
   "outputs": [
    {
     "name": "stderr",
     "output_type": "stream",
     "text": [
      "/anaconda3/lib/python3.7/site-packages/IPython/core/interactiveshell.py:3051: DtypeWarning: Columns (3,5,6,7,14,15,25,27,28,30) have mixed types. Specify dtype option on import or set low_memory=False.\n",
      "  interactivity=interactivity, compiler=compiler, result=result)\n"
     ]
    }
   ],
   "source": [
    "dd = pd.read_csv('dealer')"
   ]
  },
  {
   "cell_type": "code",
   "execution_count": 115,
   "metadata": {},
   "outputs": [
    {
     "data": {
      "text/html": [
       "<div>\n",
       "<style scoped>\n",
       "    .dataframe tbody tr th:only-of-type {\n",
       "        vertical-align: middle;\n",
       "    }\n",
       "\n",
       "    .dataframe tbody tr th {\n",
       "        vertical-align: top;\n",
       "    }\n",
       "\n",
       "    .dataframe thead th {\n",
       "        text-align: right;\n",
       "    }\n",
       "</style>\n",
       "<table border=\"1\" class=\"dataframe\">\n",
       "  <thead>\n",
       "    <tr style=\"text-align: right;\">\n",
       "      <th></th>\n",
       "      <th>Unnamed: 0</th>\n",
       "      <th>dealer_key</th>\n",
       "      <th>original_dealer_id</th>\n",
       "      <th>external_dealer_id</th>\n",
       "      <th>name</th>\n",
       "      <th>zip_code</th>\n",
       "      <th>zip_code_group_one</th>\n",
       "      <th>zip_code_group_two</th>\n",
       "      <th>city</th>\n",
       "      <th>country</th>\n",
       "      <th>...</th>\n",
       "      <th>row_expiration_date</th>\n",
       "      <th>load_date</th>\n",
       "      <th>current_row_indicator</th>\n",
       "      <th>row_sha</th>\n",
       "      <th>canton</th>\n",
       "      <th>dealer_type</th>\n",
       "      <th>dealer_source</th>\n",
       "      <th>dealer_source_group</th>\n",
       "      <th>sfdc_customer_segment</th>\n",
       "      <th>sfdc_cfy_transaction_contract_indicator</th>\n",
       "    </tr>\n",
       "  </thead>\n",
       "  <tbody>\n",
       "    <tr>\n",
       "      <th>631392</th>\n",
       "      <td>631392</td>\n",
       "      <td>331938</td>\n",
       "      <td>1019</td>\n",
       "      <td>403544592</td>\n",
       "      <td>Global Car Trading AG Lager</td>\n",
       "      <td>8834</td>\n",
       "      <td>8</td>\n",
       "      <td>88</td>\n",
       "      <td>Schindellegi-Feusisberg</td>\n",
       "      <td>CH</td>\n",
       "      <td>...</td>\n",
       "      <td>9999-12-31 23:59:59</td>\n",
       "      <td>2020-08-10 07:21:29.130000</td>\n",
       "      <td>True</td>\n",
       "      <td>a116d017095787eab6401ad30cb870eb87485230a8e968...</td>\n",
       "      <td>Zürich</td>\n",
       "      <td>professional</td>\n",
       "      <td>SALESFORCE</td>\n",
       "      <td>carforyou</td>\n",
       "      <td>A</td>\n",
       "      <td>invalid</td>\n",
       "    </tr>\n",
       "  </tbody>\n",
       "</table>\n",
       "<p>1 rows × 31 columns</p>\n",
       "</div>"
      ],
      "text/plain": [
       "        Unnamed: 0  dealer_key  original_dealer_id external_dealer_id  \\\n",
       "631392      631392      331938                1019          403544592   \n",
       "\n",
       "                               name zip_code zip_code_group_one  \\\n",
       "631392  Global Car Trading AG Lager     8834                  8   \n",
       "\n",
       "       zip_code_group_two                     city country  ...  \\\n",
       "631392                 88  Schindellegi-Feusisberg      CH  ...   \n",
       "\n",
       "        row_expiration_date                   load_date current_row_indicator  \\\n",
       "631392  9999-12-31 23:59:59  2020-08-10 07:21:29.130000                  True   \n",
       "\n",
       "                                                  row_sha  canton  \\\n",
       "631392  a116d017095787eab6401ad30cb870eb87485230a8e968...  Zürich   \n",
       "\n",
       "         dealer_type dealer_source dealer_source_group sfdc_customer_segment  \\\n",
       "631392  professional    SALESFORCE           carforyou                     A   \n",
       "\n",
       "       sfdc_cfy_transaction_contract_indicator  \n",
       "631392                                 invalid  \n",
       "\n",
       "[1 rows x 31 columns]"
      ]
     },
     "execution_count": 115,
     "metadata": {},
     "output_type": "execute_result"
    }
   ],
   "source": [
    "dd[dd.dealer_key==331938]"
   ]
  },
  {
   "cell_type": "code",
   "execution_count": 120,
   "metadata": {},
   "outputs": [
    {
     "data": {
      "text/plain": [
       "['Unnamed: 0',\n",
       " 'dealer_key',\n",
       " 'original_dealer_id',\n",
       " 'external_dealer_id',\n",
       " 'name',\n",
       " 'zip_code',\n",
       " 'zip_code_group_one',\n",
       " 'zip_code_group_two',\n",
       " 'city',\n",
       " 'country',\n",
       " 'source',\n",
       " 'sfdc_account_id',\n",
       " 'sfdc_cfy_base_contract_indicator',\n",
       " 'sfdc_cfy_spin360_contract_indicator',\n",
       " 'dh_account_status',\n",
       " 'account_registration_complete_indicator',\n",
       " 'active_indicator',\n",
       " 'valid_contract_indicator',\n",
       " 'created_date',\n",
       " 'last_modified_date',\n",
       " 'row_effective_date',\n",
       " 'row_expiration_date',\n",
       " 'load_date',\n",
       " 'current_row_indicator',\n",
       " 'row_sha',\n",
       " 'canton',\n",
       " 'dealer_type',\n",
       " 'dealer_source',\n",
       " 'dealer_source_group',\n",
       " 'sfdc_customer_segment',\n",
       " 'sfdc_cfy_transaction_contract_indicator']"
      ]
     },
     "execution_count": 120,
     "metadata": {},
     "output_type": "execute_result"
    }
   ],
   "source": [
    "list(dd.columns)"
   ]
  },
  {
   "cell_type": "code",
   "execution_count": 199,
   "metadata": {},
   "outputs": [],
   "source": [
    "d_march_m = pd.merge(d_top_march, dd[['dealer_key', 'name', 'zip_code', 'sfdc_cfy_transaction_contract_indicator','source', 'canton', 'sfdc_customer_segment', 'dealer_type']], \n",
    "        on='dealer_key')"
   ]
  },
  {
   "cell_type": "code",
   "execution_count": 126,
   "metadata": {},
   "outputs": [
    {
     "data": {
      "text/html": [
       "<div>\n",
       "<style scoped>\n",
       "    .dataframe tbody tr th:only-of-type {\n",
       "        vertical-align: middle;\n",
       "    }\n",
       "\n",
       "    .dataframe tbody tr th {\n",
       "        vertical-align: top;\n",
       "    }\n",
       "\n",
       "    .dataframe thead th {\n",
       "        text-align: right;\n",
       "    }\n",
       "</style>\n",
       "<table border=\"1\" class=\"dataframe\">\n",
       "  <thead>\n",
       "    <tr style=\"text-align: right;\">\n",
       "      <th></th>\n",
       "      <th>dealer_key</th>\n",
       "      <th>original_message_lead_id</th>\n",
       "      <th>name</th>\n",
       "      <th>zip_code</th>\n",
       "      <th>source</th>\n",
       "      <th>canton</th>\n",
       "      <th>sfdc_customer_segment</th>\n",
       "      <th>dealer_type</th>\n",
       "    </tr>\n",
       "  </thead>\n",
       "  <tbody>\n",
       "    <tr>\n",
       "      <th>0</th>\n",
       "      <td>331938</td>\n",
       "      <td>286</td>\n",
       "      <td>Global Car Trading AG Lager</td>\n",
       "      <td>8834</td>\n",
       "      <td>Spider</td>\n",
       "      <td>Zürich</td>\n",
       "      <td>A</td>\n",
       "      <td>professional</td>\n",
       "    </tr>\n",
       "    <tr>\n",
       "      <th>1</th>\n",
       "      <td>330718</td>\n",
       "      <td>118</td>\n",
       "      <td>Auto Blitz AG, Teufenthal</td>\n",
       "      <td>5723</td>\n",
       "      <td>Spider</td>\n",
       "      <td>Aargau</td>\n",
       "      <td>B</td>\n",
       "      <td>professional</td>\n",
       "    </tr>\n",
       "    <tr>\n",
       "      <th>2</th>\n",
       "      <td>331924</td>\n",
       "      <td>96</td>\n",
       "      <td>Auto-Center Grenchen AG</td>\n",
       "      <td>2540</td>\n",
       "      <td>Spider</td>\n",
       "      <td>Bern</td>\n",
       "      <td>A</td>\n",
       "      <td>professional</td>\n",
       "    </tr>\n",
       "    <tr>\n",
       "      <th>3</th>\n",
       "      <td>331664</td>\n",
       "      <td>90</td>\n",
       "      <td>TANI Automobile</td>\n",
       "      <td>8400</td>\n",
       "      <td>Spider</td>\n",
       "      <td>Zürich</td>\n",
       "      <td>C</td>\n",
       "      <td>professional</td>\n",
       "    </tr>\n",
       "    <tr>\n",
       "      <th>4</th>\n",
       "      <td>584354</td>\n",
       "      <td>85</td>\n",
       "      <td>Rallph Hoffmann</td>\n",
       "      <td>8493</td>\n",
       "      <td>NaN</td>\n",
       "      <td>NaN</td>\n",
       "      <td>NaN</td>\n",
       "      <td>private</td>\n",
       "    </tr>\n",
       "    <tr>\n",
       "      <th>5</th>\n",
       "      <td>353109</td>\n",
       "      <td>81</td>\n",
       "      <td>CSC Automobile GmbH</td>\n",
       "      <td>5722</td>\n",
       "      <td>Spider</td>\n",
       "      <td>Aargau</td>\n",
       "      <td>C</td>\n",
       "      <td>professional</td>\n",
       "    </tr>\n",
       "    <tr>\n",
       "      <th>6</th>\n",
       "      <td>333207</td>\n",
       "      <td>81</td>\n",
       "      <td>Auto Blitz AG, Auw</td>\n",
       "      <td>5644</td>\n",
       "      <td>Spider</td>\n",
       "      <td>Aargau</td>\n",
       "      <td>C</td>\n",
       "      <td>professional</td>\n",
       "    </tr>\n",
       "    <tr>\n",
       "      <th>7</th>\n",
       "      <td>332155</td>\n",
       "      <td>77</td>\n",
       "      <td>Autohaus Schiess AG</td>\n",
       "      <td>8604</td>\n",
       "      <td>Spider</td>\n",
       "      <td>Zürich</td>\n",
       "      <td>A</td>\n",
       "      <td>professional</td>\n",
       "    </tr>\n",
       "    <tr>\n",
       "      <th>8</th>\n",
       "      <td>333675</td>\n",
       "      <td>75</td>\n",
       "      <td>K &amp; S Auto GmbH</td>\n",
       "      <td>9430</td>\n",
       "      <td>Spider</td>\n",
       "      <td>St. Gallen</td>\n",
       "      <td>B</td>\n",
       "      <td>professional</td>\n",
       "    </tr>\n",
       "    <tr>\n",
       "      <th>9</th>\n",
       "      <td>330692</td>\n",
       "      <td>73</td>\n",
       "      <td>Auto Tiptop GmbH</td>\n",
       "      <td>4702</td>\n",
       "      <td>Spider</td>\n",
       "      <td>Solothurn</td>\n",
       "      <td>C</td>\n",
       "      <td>professional</td>\n",
       "    </tr>\n",
       "  </tbody>\n",
       "</table>\n",
       "</div>"
      ],
      "text/plain": [
       "   dealer_key  original_message_lead_id                         name zip_code  \\\n",
       "0      331938                       286  Global Car Trading AG Lager     8834   \n",
       "1      330718                       118    Auto Blitz AG, Teufenthal     5723   \n",
       "2      331924                        96      Auto-Center Grenchen AG     2540   \n",
       "3      331664                        90              TANI Automobile     8400   \n",
       "4      584354                        85              Rallph Hoffmann     8493   \n",
       "5      353109                        81          CSC Automobile GmbH     5722   \n",
       "6      333207                        81           Auto Blitz AG, Auw     5644   \n",
       "7      332155                        77          Autohaus Schiess AG     8604   \n",
       "8      333675                        75              K & S Auto GmbH     9430   \n",
       "9      330692                        73             Auto Tiptop GmbH     4702   \n",
       "\n",
       "   source      canton sfdc_customer_segment   dealer_type  \n",
       "0  Spider      Zürich                     A  professional  \n",
       "1  Spider      Aargau                     B  professional  \n",
       "2  Spider        Bern                     A  professional  \n",
       "3  Spider      Zürich                     C  professional  \n",
       "4     NaN         NaN                   NaN       private  \n",
       "5  Spider      Aargau                     C  professional  \n",
       "6  Spider      Aargau                     C  professional  \n",
       "7  Spider      Zürich                     A  professional  \n",
       "8  Spider  St. Gallen                     B  professional  \n",
       "9  Spider   Solothurn                     C  professional  "
      ]
     },
     "execution_count": 126,
     "metadata": {},
     "output_type": "execute_result"
    }
   ],
   "source": [
    "d_march_m.head(10)"
   ]
  },
  {
   "cell_type": "code",
   "execution_count": 200,
   "metadata": {},
   "outputs": [],
   "source": [
    "d_apr_m = pd.merge(d_top_apr, dd[['dealer_key', 'name', 'zip_code', 'source', 'canton', 'sfdc_cfy_transaction_contract_indicator','sfdc_customer_segment', 'dealer_type']], \n",
    "        on='dealer_key')"
   ]
  },
  {
   "cell_type": "code",
   "execution_count": 127,
   "metadata": {},
   "outputs": [
    {
     "data": {
      "text/html": [
       "<div>\n",
       "<style scoped>\n",
       "    .dataframe tbody tr th:only-of-type {\n",
       "        vertical-align: middle;\n",
       "    }\n",
       "\n",
       "    .dataframe tbody tr th {\n",
       "        vertical-align: top;\n",
       "    }\n",
       "\n",
       "    .dataframe thead th {\n",
       "        text-align: right;\n",
       "    }\n",
       "</style>\n",
       "<table border=\"1\" class=\"dataframe\">\n",
       "  <thead>\n",
       "    <tr style=\"text-align: right;\">\n",
       "      <th></th>\n",
       "      <th>dealer_key</th>\n",
       "      <th>original_message_lead_id</th>\n",
       "      <th>name</th>\n",
       "      <th>zip_code</th>\n",
       "      <th>source</th>\n",
       "      <th>canton</th>\n",
       "      <th>sfdc_customer_segment</th>\n",
       "      <th>dealer_type</th>\n",
       "    </tr>\n",
       "  </thead>\n",
       "  <tbody>\n",
       "    <tr>\n",
       "      <th>0</th>\n",
       "      <td>331938</td>\n",
       "      <td>208</td>\n",
       "      <td>Global Car Trading AG Lager</td>\n",
       "      <td>8834</td>\n",
       "      <td>Spider</td>\n",
       "      <td>Zürich</td>\n",
       "      <td>A</td>\n",
       "      <td>professional</td>\n",
       "    </tr>\n",
       "    <tr>\n",
       "      <th>1</th>\n",
       "      <td>330718</td>\n",
       "      <td>115</td>\n",
       "      <td>Auto Blitz AG, Teufenthal</td>\n",
       "      <td>5723</td>\n",
       "      <td>Spider</td>\n",
       "      <td>Aargau</td>\n",
       "      <td>B</td>\n",
       "      <td>professional</td>\n",
       "    </tr>\n",
       "    <tr>\n",
       "      <th>2</th>\n",
       "      <td>535661</td>\n",
       "      <td>80</td>\n",
       "      <td>Auto SAM-Export</td>\n",
       "      <td>3286</td>\n",
       "      <td>CARFORYOU (manuell)</td>\n",
       "      <td>NaN</td>\n",
       "      <td>C</td>\n",
       "      <td>professional</td>\n",
       "    </tr>\n",
       "    <tr>\n",
       "      <th>3</th>\n",
       "      <td>618812</td>\n",
       "      <td>73</td>\n",
       "      <td>Quirine  Aktas</td>\n",
       "      <td>6000</td>\n",
       "      <td>NaN</td>\n",
       "      <td>NaN</td>\n",
       "      <td>NaN</td>\n",
       "      <td>private</td>\n",
       "    </tr>\n",
       "    <tr>\n",
       "      <th>4</th>\n",
       "      <td>325540</td>\n",
       "      <td>69</td>\n",
       "      <td>Elite Garage AG Zuzwil</td>\n",
       "      <td>9524</td>\n",
       "      <td>Spider</td>\n",
       "      <td>St. Gallen</td>\n",
       "      <td>A</td>\n",
       "      <td>professional</td>\n",
       "    </tr>\n",
       "    <tr>\n",
       "      <th>5</th>\n",
       "      <td>353109</td>\n",
       "      <td>67</td>\n",
       "      <td>CSC Automobile GmbH</td>\n",
       "      <td>5722</td>\n",
       "      <td>Spider</td>\n",
       "      <td>Aargau</td>\n",
       "      <td>C</td>\n",
       "      <td>professional</td>\n",
       "    </tr>\n",
       "    <tr>\n",
       "      <th>6</th>\n",
       "      <td>332779</td>\n",
       "      <td>65</td>\n",
       "      <td>Winkelbüel Garage AG</td>\n",
       "      <td>6330</td>\n",
       "      <td>Spider</td>\n",
       "      <td>Zug</td>\n",
       "      <td>A</td>\n",
       "      <td>professional</td>\n",
       "    </tr>\n",
       "    <tr>\n",
       "      <th>7</th>\n",
       "      <td>333743</td>\n",
       "      <td>63</td>\n",
       "      <td>Auto Kunz AG, Wohlen</td>\n",
       "      <td>5610</td>\n",
       "      <td>Spider</td>\n",
       "      <td>Aargau</td>\n",
       "      <td>A</td>\n",
       "      <td>professional</td>\n",
       "    </tr>\n",
       "    <tr>\n",
       "      <th>8</th>\n",
       "      <td>331924</td>\n",
       "      <td>63</td>\n",
       "      <td>Auto-Center Grenchen AG</td>\n",
       "      <td>2540</td>\n",
       "      <td>Spider</td>\n",
       "      <td>Bern</td>\n",
       "      <td>A</td>\n",
       "      <td>professional</td>\n",
       "    </tr>\n",
       "    <tr>\n",
       "      <th>9</th>\n",
       "      <td>330692</td>\n",
       "      <td>59</td>\n",
       "      <td>Auto Tiptop GmbH</td>\n",
       "      <td>4702</td>\n",
       "      <td>Spider</td>\n",
       "      <td>Solothurn</td>\n",
       "      <td>C</td>\n",
       "      <td>professional</td>\n",
       "    </tr>\n",
       "  </tbody>\n",
       "</table>\n",
       "</div>"
      ],
      "text/plain": [
       "   dealer_key  original_message_lead_id                         name zip_code  \\\n",
       "0      331938                       208  Global Car Trading AG Lager     8834   \n",
       "1      330718                       115    Auto Blitz AG, Teufenthal     5723   \n",
       "2      535661                        80              Auto SAM-Export     3286   \n",
       "3      618812                        73               Quirine  Aktas     6000   \n",
       "4      325540                        69       Elite Garage AG Zuzwil     9524   \n",
       "5      353109                        67          CSC Automobile GmbH     5722   \n",
       "6      332779                        65         Winkelbüel Garage AG     6330   \n",
       "7      333743                        63         Auto Kunz AG, Wohlen     5610   \n",
       "8      331924                        63      Auto-Center Grenchen AG     2540   \n",
       "9      330692                        59             Auto Tiptop GmbH     4702   \n",
       "\n",
       "                source      canton sfdc_customer_segment   dealer_type  \n",
       "0               Spider      Zürich                     A  professional  \n",
       "1               Spider      Aargau                     B  professional  \n",
       "2  CARFORYOU (manuell)         NaN                     C  professional  \n",
       "3                  NaN         NaN                   NaN       private  \n",
       "4               Spider  St. Gallen                     A  professional  \n",
       "5               Spider      Aargau                     C  professional  \n",
       "6               Spider         Zug                     A  professional  \n",
       "7               Spider      Aargau                     A  professional  \n",
       "8               Spider        Bern                     A  professional  \n",
       "9               Spider   Solothurn                     C  professional  "
      ]
     },
     "execution_count": 127,
     "metadata": {},
     "output_type": "execute_result"
    }
   ],
   "source": [
    "d_apr_m.head(10)"
   ]
  },
  {
   "cell_type": "code",
   "execution_count": 151,
   "metadata": {},
   "outputs": [
    {
     "data": {
      "text/plain": [
       "dealer_key                  2612\n",
       "original_message_lead_id    2612\n",
       "name                        2612\n",
       "zip_code                    2612\n",
       "source                      1340\n",
       "canton                      1001\n",
       "sfdc_customer_segment       1336\n",
       "dealer_type                 2612\n",
       "dtype: int64"
      ]
     },
     "execution_count": 151,
     "metadata": {},
     "output_type": "execute_result"
    }
   ],
   "source": [
    "d_apr_m.count()"
   ]
  },
  {
   "cell_type": "code",
   "execution_count": 128,
   "metadata": {},
   "outputs": [
    {
     "data": {
      "text/html": [
       "<div>\n",
       "<style scoped>\n",
       "    .dataframe tbody tr th:only-of-type {\n",
       "        vertical-align: middle;\n",
       "    }\n",
       "\n",
       "    .dataframe tbody tr th {\n",
       "        vertical-align: top;\n",
       "    }\n",
       "\n",
       "    .dataframe thead th {\n",
       "        text-align: right;\n",
       "    }\n",
       "</style>\n",
       "<table border=\"1\" class=\"dataframe\">\n",
       "  <thead>\n",
       "    <tr style=\"text-align: right;\">\n",
       "      <th></th>\n",
       "      <th>dealer_key</th>\n",
       "      <th>original_message_lead_id</th>\n",
       "      <th>name</th>\n",
       "      <th>zip_code</th>\n",
       "      <th>source</th>\n",
       "      <th>canton</th>\n",
       "      <th>sfdc_customer_segment</th>\n",
       "      <th>dealer_type</th>\n",
       "    </tr>\n",
       "  </thead>\n",
       "  <tbody>\n",
       "    <tr>\n",
       "      <th>46</th>\n",
       "      <td>331664</td>\n",
       "      <td>31</td>\n",
       "      <td>TANI Automobile</td>\n",
       "      <td>8400</td>\n",
       "      <td>Spider</td>\n",
       "      <td>Zürich</td>\n",
       "      <td>C</td>\n",
       "      <td>professional</td>\n",
       "    </tr>\n",
       "  </tbody>\n",
       "</table>\n",
       "</div>"
      ],
      "text/plain": [
       "    dealer_key  original_message_lead_id             name zip_code  source  \\\n",
       "46      331664                        31  TANI Automobile     8400  Spider   \n",
       "\n",
       "    canton sfdc_customer_segment   dealer_type  \n",
       "46  Zürich                     C  professional  "
      ]
     },
     "execution_count": 128,
     "metadata": {},
     "output_type": "execute_result"
    }
   ],
   "source": [
    "d_apr_m[d_apr_m.dealer_key==331664]"
   ]
  },
  {
   "cell_type": "code",
   "execution_count": 152,
   "metadata": {},
   "outputs": [],
   "source": [
    "can_m = d_march_m.groupby(['zip_code'])['original_message_lead_id'].count().reset_index().sort_values(by='original_message_lead_id', ascending = False)"
   ]
  },
  {
   "cell_type": "code",
   "execution_count": 153,
   "metadata": {},
   "outputs": [],
   "source": [
    "can_a = d_apr_m.groupby(['zip_code'])['original_message_lead_id'].count().reset_index().sort_values(by='original_message_lead_id', ascending = False)"
   ]
  },
  {
   "cell_type": "code",
   "execution_count": 154,
   "metadata": {},
   "outputs": [],
   "source": [
    "z = pd.merge(can_m, can_a, on='zip_code')"
   ]
  },
  {
   "cell_type": "code",
   "execution_count": 155,
   "metadata": {},
   "outputs": [
    {
     "data": {
      "text/html": [
       "<div>\n",
       "<style scoped>\n",
       "    .dataframe tbody tr th:only-of-type {\n",
       "        vertical-align: middle;\n",
       "    }\n",
       "\n",
       "    .dataframe tbody tr th {\n",
       "        vertical-align: top;\n",
       "    }\n",
       "\n",
       "    .dataframe thead th {\n",
       "        text-align: right;\n",
       "    }\n",
       "</style>\n",
       "<table border=\"1\" class=\"dataframe\">\n",
       "  <thead>\n",
       "    <tr style=\"text-align: right;\">\n",
       "      <th></th>\n",
       "      <th>zip_code</th>\n",
       "      <th>original_message_lead_id_x</th>\n",
       "      <th>original_message_lead_id_y</th>\n",
       "    </tr>\n",
       "  </thead>\n",
       "  <tbody>\n",
       "    <tr>\n",
       "      <th>0</th>\n",
       "      <td>8604</td>\n",
       "      <td>16</td>\n",
       "      <td>13</td>\n",
       "    </tr>\n",
       "    <tr>\n",
       "      <th>1</th>\n",
       "      <td>8400</td>\n",
       "      <td>15</td>\n",
       "      <td>10</td>\n",
       "    </tr>\n",
       "    <tr>\n",
       "      <th>2</th>\n",
       "      <td>8952</td>\n",
       "      <td>14</td>\n",
       "      <td>18</td>\n",
       "    </tr>\n",
       "    <tr>\n",
       "      <th>3</th>\n",
       "      <td>8302</td>\n",
       "      <td>13</td>\n",
       "      <td>13</td>\n",
       "    </tr>\n",
       "    <tr>\n",
       "      <th>4</th>\n",
       "      <td>9000</td>\n",
       "      <td>13</td>\n",
       "      <td>8</td>\n",
       "    </tr>\n",
       "    <tr>\n",
       "      <th>...</th>\n",
       "      <td>...</td>\n",
       "      <td>...</td>\n",
       "      <td>...</td>\n",
       "    </tr>\n",
       "    <tr>\n",
       "      <th>1019</th>\n",
       "      <td>4322</td>\n",
       "      <td>1</td>\n",
       "      <td>1</td>\n",
       "    </tr>\n",
       "    <tr>\n",
       "      <th>1020</th>\n",
       "      <td>4324</td>\n",
       "      <td>1</td>\n",
       "      <td>1</td>\n",
       "    </tr>\n",
       "    <tr>\n",
       "      <th>1021</th>\n",
       "      <td>4334</td>\n",
       "      <td>1</td>\n",
       "      <td>1</td>\n",
       "    </tr>\n",
       "    <tr>\n",
       "      <th>1022</th>\n",
       "      <td>4416</td>\n",
       "      <td>1</td>\n",
       "      <td>1</td>\n",
       "    </tr>\n",
       "    <tr>\n",
       "      <th>1023</th>\n",
       "      <td>9658</td>\n",
       "      <td>1</td>\n",
       "      <td>1</td>\n",
       "    </tr>\n",
       "  </tbody>\n",
       "</table>\n",
       "<p>1024 rows × 3 columns</p>\n",
       "</div>"
      ],
      "text/plain": [
       "     zip_code  original_message_lead_id_x  original_message_lead_id_y\n",
       "0        8604                          16                          13\n",
       "1        8400                          15                          10\n",
       "2        8952                          14                          18\n",
       "3        8302                          13                          13\n",
       "4        9000                          13                           8\n",
       "...       ...                         ...                         ...\n",
       "1019     4322                           1                           1\n",
       "1020     4324                           1                           1\n",
       "1021     4334                           1                           1\n",
       "1022     4416                           1                           1\n",
       "1023     9658                           1                           1\n",
       "\n",
       "[1024 rows x 3 columns]"
      ]
     },
     "execution_count": 155,
     "metadata": {},
     "output_type": "execute_result"
    }
   ],
   "source": [
    "z"
   ]
  },
  {
   "cell_type": "code",
   "execution_count": 156,
   "metadata": {},
   "outputs": [
    {
     "data": {
      "text/html": [
       "<div>\n",
       "<style scoped>\n",
       "    .dataframe tbody tr th:only-of-type {\n",
       "        vertical-align: middle;\n",
       "    }\n",
       "\n",
       "    .dataframe tbody tr th {\n",
       "        vertical-align: top;\n",
       "    }\n",
       "\n",
       "    .dataframe thead th {\n",
       "        text-align: right;\n",
       "    }\n",
       "</style>\n",
       "<table border=\"1\" class=\"dataframe\">\n",
       "  <thead>\n",
       "    <tr style=\"text-align: right;\">\n",
       "      <th></th>\n",
       "      <th>dealer_type</th>\n",
       "      <th>original_message_lead_id</th>\n",
       "    </tr>\n",
       "  </thead>\n",
       "  <tbody>\n",
       "    <tr>\n",
       "      <th>0</th>\n",
       "      <td>private</td>\n",
       "      <td>1513</td>\n",
       "    </tr>\n",
       "    <tr>\n",
       "      <th>1</th>\n",
       "      <td>professional</td>\n",
       "      <td>1423</td>\n",
       "    </tr>\n",
       "  </tbody>\n",
       "</table>\n",
       "</div>"
      ],
      "text/plain": [
       "    dealer_type  original_message_lead_id\n",
       "0       private                      1513\n",
       "1  professional                      1423"
      ]
     },
     "execution_count": 156,
     "metadata": {},
     "output_type": "execute_result"
    }
   ],
   "source": [
    "d_march_m.groupby(['dealer_type'])['original_message_lead_id'].count().reset_index().sort_values(by='original_message_lead_id', ascending = False)"
   ]
  },
  {
   "cell_type": "code",
   "execution_count": 157,
   "metadata": {},
   "outputs": [
    {
     "data": {
      "text/html": [
       "<div>\n",
       "<style scoped>\n",
       "    .dataframe tbody tr th:only-of-type {\n",
       "        vertical-align: middle;\n",
       "    }\n",
       "\n",
       "    .dataframe tbody tr th {\n",
       "        vertical-align: top;\n",
       "    }\n",
       "\n",
       "    .dataframe thead th {\n",
       "        text-align: right;\n",
       "    }\n",
       "</style>\n",
       "<table border=\"1\" class=\"dataframe\">\n",
       "  <thead>\n",
       "    <tr style=\"text-align: right;\">\n",
       "      <th></th>\n",
       "      <th>dealer_type</th>\n",
       "      <th>original_message_lead_id</th>\n",
       "    </tr>\n",
       "  </thead>\n",
       "  <tbody>\n",
       "    <tr>\n",
       "      <th>1</th>\n",
       "      <td>professional</td>\n",
       "      <td>1340</td>\n",
       "    </tr>\n",
       "    <tr>\n",
       "      <th>0</th>\n",
       "      <td>private</td>\n",
       "      <td>1272</td>\n",
       "    </tr>\n",
       "  </tbody>\n",
       "</table>\n",
       "</div>"
      ],
      "text/plain": [
       "    dealer_type  original_message_lead_id\n",
       "1  professional                      1340\n",
       "0       private                      1272"
      ]
     },
     "execution_count": 157,
     "metadata": {},
     "output_type": "execute_result"
    }
   ],
   "source": [
    "d_apr_m.groupby(['dealer_type'])['original_message_lead_id'].count().reset_index().sort_values(by='original_message_lead_id', ascending = False)"
   ]
  },
  {
   "cell_type": "code",
   "execution_count": 158,
   "metadata": {},
   "outputs": [],
   "source": [
    "d_c = pd.read_csv('call_leads')"
   ]
  },
  {
   "cell_type": "code",
   "execution_count": 159,
   "metadata": {},
   "outputs": [
    {
     "data": {
      "text/html": [
       "<div>\n",
       "<style scoped>\n",
       "    .dataframe tbody tr th:only-of-type {\n",
       "        vertical-align: middle;\n",
       "    }\n",
       "\n",
       "    .dataframe tbody tr th {\n",
       "        vertical-align: top;\n",
       "    }\n",
       "\n",
       "    .dataframe thead th {\n",
       "        text-align: right;\n",
       "    }\n",
       "</style>\n",
       "<table border=\"1\" class=\"dataframe\">\n",
       "  <thead>\n",
       "    <tr style=\"text-align: right;\">\n",
       "      <th></th>\n",
       "      <th>Unnamed: 0</th>\n",
       "      <th>date_key</th>\n",
       "      <th>dealer_key</th>\n",
       "      <th>original_call_lead_id</th>\n",
       "      <th>original_dealer_id</th>\n",
       "      <th>call_started</th>\n",
       "      <th>call_ended</th>\n",
       "      <th>duration</th>\n",
       "      <th>receiver_number</th>\n",
       "      <th>quantity</th>\n",
       "      <th>load_date</th>\n",
       "    </tr>\n",
       "  </thead>\n",
       "  <tbody>\n",
       "    <tr>\n",
       "      <th>0</th>\n",
       "      <td>0</td>\n",
       "      <td>20210301</td>\n",
       "      <td>329744.0</td>\n",
       "      <td>121559</td>\n",
       "      <td>101013.0</td>\n",
       "      <td>2021-03-01 13:21:27.000</td>\n",
       "      <td>2021-03-01 13:22:11.000</td>\n",
       "      <td>44</td>\n",
       "      <td>+41792274606</td>\n",
       "      <td>1</td>\n",
       "      <td>2021-03-02 06:04:06.604</td>\n",
       "    </tr>\n",
       "    <tr>\n",
       "      <th>1</th>\n",
       "      <td>1</td>\n",
       "      <td>20210301</td>\n",
       "      <td>329872.0</td>\n",
       "      <td>121749</td>\n",
       "      <td>205214.0</td>\n",
       "      <td>2021-03-01 09:04:07.000</td>\n",
       "      <td>2021-03-01 09:04:33.000</td>\n",
       "      <td>26</td>\n",
       "      <td>+41792112590</td>\n",
       "      <td>1</td>\n",
       "      <td>2021-03-03 06:04:01.578</td>\n",
       "    </tr>\n",
       "    <tr>\n",
       "      <th>2</th>\n",
       "      <td>2</td>\n",
       "      <td>20210301</td>\n",
       "      <td>330024.0</td>\n",
       "      <td>121512</td>\n",
       "      <td>1371.0</td>\n",
       "      <td>2021-03-01 12:14:18.000</td>\n",
       "      <td>2021-03-01 12:14:18.000</td>\n",
       "      <td>0</td>\n",
       "      <td>+41796442872</td>\n",
       "      <td>1</td>\n",
       "      <td>2021-03-02 06:04:06.604</td>\n",
       "    </tr>\n",
       "    <tr>\n",
       "      <th>3</th>\n",
       "      <td>3</td>\n",
       "      <td>20210301</td>\n",
       "      <td>330024.0</td>\n",
       "      <td>121511</td>\n",
       "      <td>1371.0</td>\n",
       "      <td>2021-03-01 12:13:23.000</td>\n",
       "      <td>2021-03-01 12:14:06.000</td>\n",
       "      <td>43</td>\n",
       "      <td>+41796442872</td>\n",
       "      <td>1</td>\n",
       "      <td>2021-03-02 06:04:06.604</td>\n",
       "    </tr>\n",
       "    <tr>\n",
       "      <th>4</th>\n",
       "      <td>4</td>\n",
       "      <td>20210301</td>\n",
       "      <td>330102.0</td>\n",
       "      <td>121730</td>\n",
       "      <td>108198.0</td>\n",
       "      <td>2021-03-01 18:13:40.000</td>\n",
       "      <td>2021-03-01 18:13:40.000</td>\n",
       "      <td>0</td>\n",
       "      <td>+41788920963</td>\n",
       "      <td>1</td>\n",
       "      <td>2021-03-02 06:04:06.604</td>\n",
       "    </tr>\n",
       "    <tr>\n",
       "      <th>...</th>\n",
       "      <td>...</td>\n",
       "      <td>...</td>\n",
       "      <td>...</td>\n",
       "      <td>...</td>\n",
       "      <td>...</td>\n",
       "      <td>...</td>\n",
       "      <td>...</td>\n",
       "      <td>...</td>\n",
       "      <td>...</td>\n",
       "      <td>...</td>\n",
       "      <td>...</td>\n",
       "    </tr>\n",
       "    <tr>\n",
       "      <th>17404</th>\n",
       "      <td>17404</td>\n",
       "      <td>20210430</td>\n",
       "      <td>537054.0</td>\n",
       "      <td>138627</td>\n",
       "      <td>107170.0</td>\n",
       "      <td>2021-04-30 11:00:26.000</td>\n",
       "      <td>2021-04-30 11:00:26.000</td>\n",
       "      <td>0</td>\n",
       "      <td>+41274550500</td>\n",
       "      <td>1</td>\n",
       "      <td>2021-05-01 06:04:37.679</td>\n",
       "    </tr>\n",
       "    <tr>\n",
       "      <th>17405</th>\n",
       "      <td>17405</td>\n",
       "      <td>20210430</td>\n",
       "      <td>569297.0</td>\n",
       "      <td>138500</td>\n",
       "      <td>108542.0</td>\n",
       "      <td>2021-04-30 06:05:14.000</td>\n",
       "      <td>2021-04-30 06:06:27.000</td>\n",
       "      <td>73</td>\n",
       "      <td>+41713852350</td>\n",
       "      <td>1</td>\n",
       "      <td>2021-05-01 06:04:37.679</td>\n",
       "    </tr>\n",
       "    <tr>\n",
       "      <th>17406</th>\n",
       "      <td>17406</td>\n",
       "      <td>20210430</td>\n",
       "      <td>601864.0</td>\n",
       "      <td>138529</td>\n",
       "      <td>1475.0</td>\n",
       "      <td>2021-04-30 07:20:30.000</td>\n",
       "      <td>2021-04-30 07:21:59.000</td>\n",
       "      <td>89</td>\n",
       "      <td>+41628661040</td>\n",
       "      <td>1</td>\n",
       "      <td>2021-05-01 06:04:37.679</td>\n",
       "    </tr>\n",
       "    <tr>\n",
       "      <th>17407</th>\n",
       "      <td>17407</td>\n",
       "      <td>20210430</td>\n",
       "      <td>645871.0</td>\n",
       "      <td>138557</td>\n",
       "      <td>1168.0</td>\n",
       "      <td>2021-04-30 08:22:11.000</td>\n",
       "      <td>2021-04-30 08:24:54.000</td>\n",
       "      <td>163</td>\n",
       "      <td>+41627851133</td>\n",
       "      <td>1</td>\n",
       "      <td>2021-05-01 06:04:37.679</td>\n",
       "    </tr>\n",
       "    <tr>\n",
       "      <th>17408</th>\n",
       "      <td>17408</td>\n",
       "      <td>20210430</td>\n",
       "      <td>648914.0</td>\n",
       "      <td>138612</td>\n",
       "      <td>100139.0</td>\n",
       "      <td>2021-04-30 10:01:08.000</td>\n",
       "      <td>2021-04-30 10:01:08.000</td>\n",
       "      <td>0</td>\n",
       "      <td>+41799402222</td>\n",
       "      <td>1</td>\n",
       "      <td>2021-05-01 06:04:37.679</td>\n",
       "    </tr>\n",
       "  </tbody>\n",
       "</table>\n",
       "<p>17409 rows × 11 columns</p>\n",
       "</div>"
      ],
      "text/plain": [
       "       Unnamed: 0  date_key  dealer_key  original_call_lead_id  \\\n",
       "0               0  20210301    329744.0                 121559   \n",
       "1               1  20210301    329872.0                 121749   \n",
       "2               2  20210301    330024.0                 121512   \n",
       "3               3  20210301    330024.0                 121511   \n",
       "4               4  20210301    330102.0                 121730   \n",
       "...           ...       ...         ...                    ...   \n",
       "17404       17404  20210430    537054.0                 138627   \n",
       "17405       17405  20210430    569297.0                 138500   \n",
       "17406       17406  20210430    601864.0                 138529   \n",
       "17407       17407  20210430    645871.0                 138557   \n",
       "17408       17408  20210430    648914.0                 138612   \n",
       "\n",
       "       original_dealer_id             call_started               call_ended  \\\n",
       "0                101013.0  2021-03-01 13:21:27.000  2021-03-01 13:22:11.000   \n",
       "1                205214.0  2021-03-01 09:04:07.000  2021-03-01 09:04:33.000   \n",
       "2                  1371.0  2021-03-01 12:14:18.000  2021-03-01 12:14:18.000   \n",
       "3                  1371.0  2021-03-01 12:13:23.000  2021-03-01 12:14:06.000   \n",
       "4                108198.0  2021-03-01 18:13:40.000  2021-03-01 18:13:40.000   \n",
       "...                   ...                      ...                      ...   \n",
       "17404            107170.0  2021-04-30 11:00:26.000  2021-04-30 11:00:26.000   \n",
       "17405            108542.0  2021-04-30 06:05:14.000  2021-04-30 06:06:27.000   \n",
       "17406              1475.0  2021-04-30 07:20:30.000  2021-04-30 07:21:59.000   \n",
       "17407              1168.0  2021-04-30 08:22:11.000  2021-04-30 08:24:54.000   \n",
       "17408            100139.0  2021-04-30 10:01:08.000  2021-04-30 10:01:08.000   \n",
       "\n",
       "       duration receiver_number  quantity                load_date  \n",
       "0            44    +41792274606         1  2021-03-02 06:04:06.604  \n",
       "1            26    +41792112590         1  2021-03-03 06:04:01.578  \n",
       "2             0    +41796442872         1  2021-03-02 06:04:06.604  \n",
       "3            43    +41796442872         1  2021-03-02 06:04:06.604  \n",
       "4             0    +41788920963         1  2021-03-02 06:04:06.604  \n",
       "...         ...             ...       ...                      ...  \n",
       "17404         0    +41274550500         1  2021-05-01 06:04:37.679  \n",
       "17405        73    +41713852350         1  2021-05-01 06:04:37.679  \n",
       "17406        89    +41628661040         1  2021-05-01 06:04:37.679  \n",
       "17407       163    +41627851133         1  2021-05-01 06:04:37.679  \n",
       "17408         0    +41799402222         1  2021-05-01 06:04:37.679  \n",
       "\n",
       "[17409 rows x 11 columns]"
      ]
     },
     "execution_count": 159,
     "metadata": {},
     "output_type": "execute_result"
    }
   ],
   "source": [
    "d_c"
   ]
  },
  {
   "cell_type": "code",
   "execution_count": 162,
   "metadata": {},
   "outputs": [
    {
     "data": {
      "text/plain": [
       "9678"
      ]
     },
     "execution_count": 162,
     "metadata": {},
     "output_type": "execute_result"
    }
   ],
   "source": [
    "d_c[pd.to_datetime(d_c.call_started)<pd.to_datetime('20210401')]['original_call_lead_id'].count()"
   ]
  },
  {
   "cell_type": "code",
   "execution_count": 163,
   "metadata": {},
   "outputs": [
    {
     "data": {
      "text/plain": [
       "7731"
      ]
     },
     "execution_count": 163,
     "metadata": {},
     "output_type": "execute_result"
    }
   ],
   "source": [
    "d_c[pd.to_datetime(d_c.call_started)>=pd.to_datetime('20210401')]['original_call_lead_id'].count()"
   ]
  },
  {
   "cell_type": "code",
   "execution_count": 164,
   "metadata": {},
   "outputs": [],
   "source": [
    "dc_m = pd.merge(d_c, dd, on='dealer_key')"
   ]
  },
  {
   "cell_type": "code",
   "execution_count": 165,
   "metadata": {},
   "outputs": [
    {
     "data": {
      "text/plain": [
       "Unnamed: 0_x                               17401\n",
       "date_key                                   17401\n",
       "dealer_key                                 17401\n",
       "original_call_lead_id                      17401\n",
       "original_dealer_id_x                       17401\n",
       "call_started                               17401\n",
       "call_ended                                 17401\n",
       "duration                                   17401\n",
       "receiver_number                            17401\n",
       "quantity                                   17401\n",
       "load_date_x                                17401\n",
       "Unnamed: 0_y                               17401\n",
       "original_dealer_id_y                       17401\n",
       "external_dealer_id                         17401\n",
       "name                                       17401\n",
       "zip_code                                   17401\n",
       "zip_code_group_one                         17401\n",
       "zip_code_group_two                         17401\n",
       "city                                       17401\n",
       "country                                    17401\n",
       "source                                     17369\n",
       "sfdc_account_id                            16820\n",
       "sfdc_cfy_base_contract_indicator           17401\n",
       "sfdc_cfy_spin360_contract_indicator        17401\n",
       "dh_account_status                              0\n",
       "account_registration_complete_indicator        0\n",
       "active_indicator                           17401\n",
       "valid_contract_indicator                   17401\n",
       "created_date                               17401\n",
       "last_modified_date                         17401\n",
       "row_effective_date                         17401\n",
       "row_expiration_date                        17401\n",
       "load_date_y                                17401\n",
       "current_row_indicator                      17401\n",
       "row_sha                                    17401\n",
       "canton                                     13989\n",
       "dealer_type                                17401\n",
       "dealer_source                              17401\n",
       "dealer_source_group                        17401\n",
       "sfdc_customer_segment                      17080\n",
       "sfdc_cfy_transaction_contract_indicator    17032\n",
       "dtype: int64"
      ]
     },
     "execution_count": 165,
     "metadata": {},
     "output_type": "execute_result"
    }
   ],
   "source": [
    "dc_m.count()"
   ]
  },
  {
   "cell_type": "code",
   "execution_count": 172,
   "metadata": {},
   "outputs": [
    {
     "data": {
      "text/plain": [
       "47.0"
      ]
     },
     "execution_count": 172,
     "metadata": {},
     "output_type": "execute_result"
    }
   ],
   "source": [
    "dc_m[dc_m.date_key>20210401]['duration'].median()"
   ]
  },
  {
   "cell_type": "code",
   "execution_count": 173,
   "metadata": {},
   "outputs": [
    {
     "data": {
      "text/plain": [
       "44.0"
      ]
     },
     "execution_count": 173,
     "metadata": {},
     "output_type": "execute_result"
    }
   ],
   "source": [
    "dc_m[dc_m.date_key<20210401]['duration'].median()"
   ]
  },
  {
   "cell_type": "code",
   "execution_count": 184,
   "metadata": {},
   "outputs": [
    {
     "data": {
      "text/plain": [
       "164"
      ]
     },
     "execution_count": 184,
     "metadata": {},
     "output_type": "execute_result"
    }
   ],
   "source": [
    "dc_m[(dc_m.date_key<20210401)&(dc_m.sfdc_customer_segment.isnull())]['original_call_lead_id'].count()"
   ]
  },
  {
   "cell_type": "code",
   "execution_count": 185,
   "metadata": {},
   "outputs": [
    {
     "data": {
      "text/plain": [
       "157"
      ]
     },
     "execution_count": 185,
     "metadata": {},
     "output_type": "execute_result"
    }
   ],
   "source": [
    "dc_m[(dc_m.date_key>=20210401)&(dc_m.sfdc_customer_segment.isnull())]['original_call_lead_id'].count()"
   ]
  },
  {
   "cell_type": "code",
   "execution_count": 175,
   "metadata": {},
   "outputs": [
    {
     "data": {
      "text/plain": [
       "sfdc_customer_segment\n",
       "A    1941\n",
       "B    1943\n",
       "C    3896\n",
       "D    1701\n",
       "E      27\n",
       "Name: original_call_lead_id, dtype: int64"
      ]
     },
     "execution_count": 175,
     "metadata": {},
     "output_type": "execute_result"
    }
   ],
   "source": [
    "dc_m[dc_m.date_key<20210401].groupby(['sfdc_customer_segment'])['original_call_lead_id'].count()"
   ]
  },
  {
   "cell_type": "code",
   "execution_count": 176,
   "metadata": {},
   "outputs": [
    {
     "data": {
      "text/plain": [
       "sfdc_customer_segment\n",
       "A    1558\n",
       "B    1585\n",
       "C    2989\n",
       "D    1142\n",
       "E       8\n",
       "Name: original_call_lead_id, dtype: int64"
      ]
     },
     "execution_count": 176,
     "metadata": {},
     "output_type": "execute_result"
    }
   ],
   "source": [
    "dc_m[dc_m.date_key>20210401].groupby(['sfdc_customer_segment'])['original_call_lead_id'].count()"
   ]
  },
  {
   "cell_type": "code",
   "execution_count": 178,
   "metadata": {},
   "outputs": [
    {
     "data": {
      "text/plain": [
       "sfdc_customer_segment\n",
       "A    128\n",
       "B    221\n",
       "C    567\n",
       "D    419\n",
       "E      1\n",
       "Name: original_message_lead_id, dtype: int64"
      ]
     },
     "execution_count": 178,
     "metadata": {},
     "output_type": "execute_result"
    }
   ],
   "source": [
    "d_apr_m.groupby(['sfdc_customer_segment'])['original_message_lead_id'].count()"
   ]
  },
  {
   "cell_type": "code",
   "execution_count": 179,
   "metadata": {},
   "outputs": [
    {
     "data": {
      "text/plain": [
       "sfdc_customer_segment\n",
       "A    138\n",
       "B    224\n",
       "C    611\n",
       "D    429\n",
       "E     16\n",
       "Name: original_message_lead_id, dtype: int64"
      ]
     },
     "execution_count": 179,
     "metadata": {},
     "output_type": "execute_result"
    }
   ],
   "source": [
    "d_march_m.groupby(['sfdc_customer_segment'])['original_message_lead_id'].count()"
   ]
  },
  {
   "cell_type": "code",
   "execution_count": 180,
   "metadata": {},
   "outputs": [
    {
     "data": {
      "text/plain": [
       "dealer_key                  2936\n",
       "original_message_lead_id    2936\n",
       "name                        2936\n",
       "zip_code                    2936\n",
       "source                      1422\n",
       "canton                      1101\n",
       "sfdc_customer_segment       1418\n",
       "dealer_type                 2936\n",
       "dtype: int64"
      ]
     },
     "execution_count": 180,
     "metadata": {},
     "output_type": "execute_result"
    }
   ],
   "source": [
    "d_march_m.count()"
   ]
  },
  {
   "cell_type": "code",
   "execution_count": 186,
   "metadata": {},
   "outputs": [
    {
     "data": {
      "text/plain": [
       "1276"
      ]
     },
     "execution_count": 186,
     "metadata": {},
     "output_type": "execute_result"
    }
   ],
   "source": [
    "d_apr_m[d_apr_m.sfdc_customer_segment.isnull()].original_message_lead_id.count()"
   ]
  },
  {
   "cell_type": "code",
   "execution_count": 187,
   "metadata": {},
   "outputs": [
    {
     "data": {
      "text/plain": [
       "1518"
      ]
     },
     "execution_count": 187,
     "metadata": {},
     "output_type": "execute_result"
    }
   ],
   "source": [
    "d_march_m[d_march_m.sfdc_customer_segment.isnull()].original_message_lead_id.count()"
   ]
  },
  {
   "cell_type": "code",
   "execution_count": 196,
   "metadata": {},
   "outputs": [
    {
     "data": {
      "text/plain": [
       "sfdc_cfy_transaction_contract_indicator\n",
       "invalid    6250\n",
       "valid      1297\n",
       "Name: original_call_lead_id, dtype: int64"
      ]
     },
     "execution_count": 196,
     "metadata": {},
     "output_type": "execute_result"
    }
   ],
   "source": [
    "dc_m[dc_m.date_key>=20210401].groupby(['sfdc_cfy_transaction_contract_indicator']).original_call_lead_id.count()"
   ]
  },
  {
   "cell_type": "code",
   "execution_count": 197,
   "metadata": {},
   "outputs": [
    {
     "data": {
      "text/plain": [
       "sfdc_cfy_transaction_contract_indicator\n",
       "invalid    8101\n",
       "valid      1384\n",
       "Name: original_call_lead_id, dtype: int64"
      ]
     },
     "execution_count": 197,
     "metadata": {},
     "output_type": "execute_result"
    }
   ],
   "source": [
    "dc_m[dc_m.date_key<20210401].groupby(['sfdc_cfy_transaction_contract_indicator']).original_call_lead_id.count()"
   ]
  },
  {
   "cell_type": "code",
   "execution_count": 201,
   "metadata": {},
   "outputs": [
    {
     "data": {
      "text/plain": [
       "sfdc_cfy_transaction_contract_indicator\n",
       "invalid    2103\n",
       "valid       199\n",
       "Name: original_message_lead_id, dtype: int64"
      ]
     },
     "execution_count": 201,
     "metadata": {},
     "output_type": "execute_result"
    }
   ],
   "source": [
    "d_march_m.groupby(['sfdc_cfy_transaction_contract_indicator']).original_message_lead_id.count()"
   ]
  },
  {
   "cell_type": "code",
   "execution_count": 202,
   "metadata": {},
   "outputs": [
    {
     "data": {
      "text/plain": [
       "sfdc_cfy_transaction_contract_indicator\n",
       "invalid    1997\n",
       "valid       198\n",
       "Name: original_message_lead_id, dtype: int64"
      ]
     },
     "execution_count": 202,
     "metadata": {},
     "output_type": "execute_result"
    }
   ],
   "source": [
    "d_apr_m.groupby(['sfdc_cfy_transaction_contract_indicator']).original_message_lead_id.count()"
   ]
  },
  {
   "cell_type": "code",
   "execution_count": 203,
   "metadata": {},
   "outputs": [
    {
     "data": {
      "text/plain": [
       "dealer_key                                 2936\n",
       "original_message_lead_id                   2936\n",
       "name                                       2936\n",
       "zip_code                                   2936\n",
       "sfdc_cfy_transaction_contract_indicator    2302\n",
       "source                                     1422\n",
       "canton                                     1101\n",
       "sfdc_customer_segment                      1418\n",
       "dealer_type                                2936\n",
       "dtype: int64"
      ]
     },
     "execution_count": 203,
     "metadata": {},
     "output_type": "execute_result"
    }
   ],
   "source": [
    "d_march_m.count()"
   ]
  },
  {
   "cell_type": "code",
   "execution_count": 205,
   "metadata": {},
   "outputs": [
    {
     "data": {
      "text/plain": [
       "22301.582001450803"
      ]
     },
     "execution_count": 205,
     "metadata": {},
     "output_type": "execute_result"
    }
   ],
   "source": [
    "df_m[(pd.to_datetime(df_m.created_date)>=first_april)].price.mean()"
   ]
  },
  {
   "cell_type": "code",
   "execution_count": 207,
   "metadata": {},
   "outputs": [
    {
     "data": {
      "text/plain": [
       "23377.61993522409"
      ]
     },
     "execution_count": 207,
     "metadata": {},
     "output_type": "execute_result"
    }
   ],
   "source": [
    "df_m[(pd.to_datetime(df_m.created_date)<first_april)&(pd.to_datetime(df_m.created_date)>=pd.to_datetime('20210301'))].price.mean()"
   ]
  },
  {
   "cell_type": "code",
   "execution_count": 208,
   "metadata": {},
   "outputs": [
    {
     "data": {
      "text/plain": [
       "source\n",
       "DEALER_PLATFORM    17898\n",
       "MANUAL              2640\n",
       "TDA                30943\n",
       "TUTTI              24426\n",
       "Name: original_listing_id, dtype: int64"
      ]
     },
     "execution_count": 208,
     "metadata": {},
     "output_type": "execute_result"
    }
   ],
   "source": [
    "df_m[(pd.to_datetime(df_m.created_date)>=first_april)].groupby(['source'])['original_listing_id'].count()"
   ]
  },
  {
   "cell_type": "code",
   "execution_count": 209,
   "metadata": {},
   "outputs": [
    {
     "data": {
      "text/plain": [
       "source\n",
       "DEALER_PLATFORM    28442\n",
       "MANUAL              3672\n",
       "TDA                54143\n",
       "TUTTI              28139\n",
       "Name: original_listing_id, dtype: int64"
      ]
     },
     "execution_count": 209,
     "metadata": {},
     "output_type": "execute_result"
    }
   ],
   "source": [
    "df_m[(pd.to_datetime(df_m.created_date)<first_april)&(pd.to_datetime(df_m.created_date)>=pd.to_datetime('20210301'))].groupby(['source'])['original_listing_id'].count()"
   ]
  },
  {
   "cell_type": "code",
   "execution_count": 4,
   "metadata": {},
   "outputs": [],
   "source": [
    "df_s = pd.read_csv('searches')"
   ]
  },
  {
   "cell_type": "code",
   "execution_count": 234,
   "metadata": {},
   "outputs": [
    {
     "data": {
      "text/html": [
       "<div>\n",
       "<style scoped>\n",
       "    .dataframe tbody tr th:only-of-type {\n",
       "        vertical-align: middle;\n",
       "    }\n",
       "\n",
       "    .dataframe tbody tr th {\n",
       "        vertical-align: top;\n",
       "    }\n",
       "\n",
       "    .dataframe thead th {\n",
       "        text-align: right;\n",
       "    }\n",
       "</style>\n",
       "<table border=\"1\" class=\"dataframe\">\n",
       "  <thead>\n",
       "    <tr style=\"text-align: right;\">\n",
       "      <th></th>\n",
       "      <th>Unnamed: 0</th>\n",
       "      <th>date</th>\n",
       "      <th>page_path</th>\n",
       "      <th>listings</th>\n",
       "      <th>make</th>\n",
       "      <th>model</th>\n",
       "      <th>page_views</th>\n",
       "    </tr>\n",
       "  </thead>\n",
       "  <tbody>\n",
       "    <tr>\n",
       "      <th>1388613</th>\n",
       "      <td>1388613</td>\n",
       "      <td>2021-04-02</td>\n",
       "      <td>/de/auto/alpine/a110?page=3</td>\n",
       "      <td>578854</td>\n",
       "      <td>alpine</td>\n",
       "      <td>a110</td>\n",
       "      <td>2</td>\n",
       "    </tr>\n",
       "    <tr>\n",
       "      <th>1388619</th>\n",
       "      <td>1388619</td>\n",
       "      <td>2021-04-02</td>\n",
       "      <td>/de/auto/alpine/a110?page=3&amp;sortType=MILEAGE&amp;s...</td>\n",
       "      <td>242278</td>\n",
       "      <td>alpine</td>\n",
       "      <td>a110</td>\n",
       "      <td>1</td>\n",
       "    </tr>\n",
       "    <tr>\n",
       "      <th>1388671</th>\n",
       "      <td>1388671</td>\n",
       "      <td>2021-04-02</td>\n",
       "      <td>/fr/auto/aston-martin/db6</td>\n",
       "      <td>1770639</td>\n",
       "      <td>aston-martin</td>\n",
       "      <td>db6</td>\n",
       "      <td>1</td>\n",
       "    </tr>\n",
       "    <tr>\n",
       "      <th>1388672</th>\n",
       "      <td>1388672</td>\n",
       "      <td>2021-04-02</td>\n",
       "      <td>/fr/auto/cabriolet/aston-martin/db7?conditionT...</td>\n",
       "      <td>509384</td>\n",
       "      <td>aston-martin</td>\n",
       "      <td>db7</td>\n",
       "      <td>1</td>\n",
       "    </tr>\n",
       "    <tr>\n",
       "      <th>1388718</th>\n",
       "      <td>1388718</td>\n",
       "      <td>2021-04-02</td>\n",
       "      <td>/fr/auto/cabriolet/aston-martin/virage?conditi...</td>\n",
       "      <td>1333795</td>\n",
       "      <td>aston-martin</td>\n",
       "      <td>virage</td>\n",
       "      <td>1</td>\n",
       "    </tr>\n",
       "    <tr>\n",
       "      <th>...</th>\n",
       "      <td>...</td>\n",
       "      <td>...</td>\n",
       "      <td>...</td>\n",
       "      <td>...</td>\n",
       "      <td>...</td>\n",
       "      <td>...</td>\n",
       "      <td>...</td>\n",
       "    </tr>\n",
       "    <tr>\n",
       "      <th>7544452</th>\n",
       "      <td>7544452</td>\n",
       "      <td>2021-05-06</td>\n",
       "      <td>/de/auto/cabriolet?transmissionType=automatic&amp;...</td>\n",
       "      <td>1191761</td>\n",
       "      <td>NaN</td>\n",
       "      <td>NaN</td>\n",
       "      <td>1</td>\n",
       "    </tr>\n",
       "    <tr>\n",
       "      <th>7544693</th>\n",
       "      <td>7544693</td>\n",
       "      <td>2021-05-06</td>\n",
       "      <td>/en/auto/search?conditionType=demonstration&amp;pr...</td>\n",
       "      <td>1174102</td>\n",
       "      <td>NaN</td>\n",
       "      <td>NaN</td>\n",
       "      <td>1</td>\n",
       "    </tr>\n",
       "    <tr>\n",
       "      <th>7544982</th>\n",
       "      <td>7544982</td>\n",
       "      <td>2021-05-06</td>\n",
       "      <td>/de/auto/search?priceTo=3000&amp;conditionType=dem...</td>\n",
       "      <td>1522688</td>\n",
       "      <td>NaN</td>\n",
       "      <td>NaN</td>\n",
       "      <td>2</td>\n",
       "    </tr>\n",
       "    <tr>\n",
       "      <th>7545221</th>\n",
       "      <td>7545221</td>\n",
       "      <td>2021-05-06</td>\n",
       "      <td>/fr/auto/estate?priceTo=5000&amp;transmissionType=...</td>\n",
       "      <td>337791</td>\n",
       "      <td>NaN</td>\n",
       "      <td>NaN</td>\n",
       "      <td>1</td>\n",
       "    </tr>\n",
       "    <tr>\n",
       "      <th>7545256</th>\n",
       "      <td>7545256</td>\n",
       "      <td>2021-05-06</td>\n",
       "      <td>/en/auto/search?priceTo=5000&amp;mileageTo=15</td>\n",
       "      <td>1732707</td>\n",
       "      <td>NaN</td>\n",
       "      <td>NaN</td>\n",
       "      <td>1</td>\n",
       "    </tr>\n",
       "  </tbody>\n",
       "</table>\n",
       "<p>51609 rows × 7 columns</p>\n",
       "</div>"
      ],
      "text/plain": [
       "         Unnamed: 0        date  \\\n",
       "1388613     1388613  2021-04-02   \n",
       "1388619     1388619  2021-04-02   \n",
       "1388671     1388671  2021-04-02   \n",
       "1388672     1388672  2021-04-02   \n",
       "1388718     1388718  2021-04-02   \n",
       "...             ...         ...   \n",
       "7544452     7544452  2021-05-06   \n",
       "7544693     7544693  2021-05-06   \n",
       "7544982     7544982  2021-05-06   \n",
       "7545221     7545221  2021-05-06   \n",
       "7545256     7545256  2021-05-06   \n",
       "\n",
       "                                                 page_path listings  \\\n",
       "1388613                        /de/auto/alpine/a110?page=3   578854   \n",
       "1388619  /de/auto/alpine/a110?page=3&sortType=MILEAGE&s...   242278   \n",
       "1388671                          /fr/auto/aston-martin/db6  1770639   \n",
       "1388672  /fr/auto/cabriolet/aston-martin/db7?conditionT...   509384   \n",
       "1388718  /fr/auto/cabriolet/aston-martin/virage?conditi...  1333795   \n",
       "...                                                    ...      ...   \n",
       "7544452  /de/auto/cabriolet?transmissionType=automatic&...  1191761   \n",
       "7544693  /en/auto/search?conditionType=demonstration&pr...  1174102   \n",
       "7544982  /de/auto/search?priceTo=3000&conditionType=dem...  1522688   \n",
       "7545221  /fr/auto/estate?priceTo=5000&transmissionType=...   337791   \n",
       "7545256          /en/auto/search?priceTo=5000&mileageTo=15  1732707   \n",
       "\n",
       "                 make   model  page_views  \n",
       "1388613        alpine    a110           2  \n",
       "1388619        alpine    a110           1  \n",
       "1388671  aston-martin     db6           1  \n",
       "1388672  aston-martin     db7           1  \n",
       "1388718  aston-martin  virage           1  \n",
       "...               ...     ...         ...  \n",
       "7544452           NaN     NaN           1  \n",
       "7544693           NaN     NaN           1  \n",
       "7544982           NaN     NaN           2  \n",
       "7545221           NaN     NaN           1  \n",
       "7545256           NaN     NaN           1  \n",
       "\n",
       "[51609 rows x 7 columns]"
      ]
     },
     "execution_count": 234,
     "metadata": {},
     "output_type": "execute_result"
    }
   ],
   "source": [
    "df_s[(pd.to_datetime(df_s.date)>'20210401')&(df_s.listings.str.len()<10)]"
   ]
  },
  {
   "cell_type": "code",
   "execution_count": 5,
   "metadata": {},
   "outputs": [
    {
     "data": {
      "text/html": [
       "<div>\n",
       "<style scoped>\n",
       "    .dataframe tbody tr th:only-of-type {\n",
       "        vertical-align: middle;\n",
       "    }\n",
       "\n",
       "    .dataframe tbody tr th {\n",
       "        vertical-align: top;\n",
       "    }\n",
       "\n",
       "    .dataframe thead th {\n",
       "        text-align: right;\n",
       "    }\n",
       "</style>\n",
       "<table border=\"1\" class=\"dataframe\">\n",
       "  <thead>\n",
       "    <tr style=\"text-align: right;\">\n",
       "      <th></th>\n",
       "      <th>Unnamed: 0</th>\n",
       "      <th>date</th>\n",
       "      <th>page_path</th>\n",
       "      <th>listings</th>\n",
       "      <th>make</th>\n",
       "      <th>model</th>\n",
       "      <th>page_views</th>\n",
       "    </tr>\n",
       "  </thead>\n",
       "  <tbody>\n",
       "    <tr>\n",
       "      <th>0</th>\n",
       "      <td>0</td>\n",
       "      <td>2021-03-01</td>\n",
       "      <td>/en/auto/ac/cobra</td>\n",
       "      <td>1389343,1238744,1332335,1439058,1331507,133145...</td>\n",
       "      <td>ac</td>\n",
       "      <td>cobra</td>\n",
       "      <td>2</td>\n",
       "    </tr>\n",
       "    <tr>\n",
       "      <th>1</th>\n",
       "      <td>1</td>\n",
       "      <td>2021-03-01</td>\n",
       "      <td>/fr/auto/ac/cobra</td>\n",
       "      <td>1389343,1238744,1332335,1439058,1331507,133145...</td>\n",
       "      <td>ac</td>\n",
       "      <td>cobra</td>\n",
       "      <td>1</td>\n",
       "    </tr>\n",
       "    <tr>\n",
       "      <th>2</th>\n",
       "      <td>2</td>\n",
       "      <td>2021-03-01</td>\n",
       "      <td>/de/auto/ac/cobra</td>\n",
       "      <td>1389343,1238744,1332335,1439058,1331507,133145...</td>\n",
       "      <td>ac</td>\n",
       "      <td>cobra</td>\n",
       "      <td>18</td>\n",
       "    </tr>\n",
       "    <tr>\n",
       "      <th>3</th>\n",
       "      <td>3</td>\n",
       "      <td>2021-03-01</td>\n",
       "      <td>/de/auto/ac?conditionType=used,demonstration</td>\n",
       "      <td>1389343,1238744,1332335,1439058,1331507,133145...</td>\n",
       "      <td>ac</td>\n",
       "      <td>NaN</td>\n",
       "      <td>8</td>\n",
       "    </tr>\n",
       "    <tr>\n",
       "      <th>4</th>\n",
       "      <td>4</td>\n",
       "      <td>2021-03-01</td>\n",
       "      <td>/de/auto/coupe/ac</td>\n",
       "      <td>1331380</td>\n",
       "      <td>ac</td>\n",
       "      <td>NaN</td>\n",
       "      <td>1</td>\n",
       "    </tr>\n",
       "  </tbody>\n",
       "</table>\n",
       "</div>"
      ],
      "text/plain": [
       "   Unnamed: 0        date                                     page_path  \\\n",
       "0           0  2021-03-01                             /en/auto/ac/cobra   \n",
       "1           1  2021-03-01                             /fr/auto/ac/cobra   \n",
       "2           2  2021-03-01                             /de/auto/ac/cobra   \n",
       "3           3  2021-03-01  /de/auto/ac?conditionType=used,demonstration   \n",
       "4           4  2021-03-01                             /de/auto/coupe/ac   \n",
       "\n",
       "                                            listings make  model  page_views  \n",
       "0  1389343,1238744,1332335,1439058,1331507,133145...   ac  cobra           2  \n",
       "1  1389343,1238744,1332335,1439058,1331507,133145...   ac  cobra           1  \n",
       "2  1389343,1238744,1332335,1439058,1331507,133145...   ac  cobra          18  \n",
       "3  1389343,1238744,1332335,1439058,1331507,133145...   ac    NaN           8  \n",
       "4                                            1331380   ac    NaN           1  "
      ]
     },
     "execution_count": 5,
     "metadata": {},
     "output_type": "execute_result"
    }
   ],
   "source": [
    "df_s.head()"
   ]
  },
  {
   "cell_type": "code",
   "execution_count": 6,
   "metadata": {},
   "outputs": [
    {
     "data": {
      "text/plain": [
       "7158784"
      ]
     },
     "execution_count": 6,
     "metadata": {},
     "output_type": "execute_result"
    }
   ],
   "source": [
    "df_s[(pd.to_datetime(df_s.date)<pd.to_datetime('20210401'))].page_views.sum()"
   ]
  },
  {
   "cell_type": "code",
   "execution_count": 7,
   "metadata": {},
   "outputs": [
    {
     "data": {
      "text/plain": [
       "6103412"
      ]
     },
     "execution_count": 7,
     "metadata": {},
     "output_type": "execute_result"
    }
   ],
   "source": [
    "df_s[(pd.to_datetime(df_s.date)>=pd.to_datetime('20210401'))&(pd.to_datetime(df_s.date)<pd.to_datetime('20210501'))].page_views.sum()"
   ]
  },
  {
   "cell_type": "code",
   "execution_count": 8,
   "metadata": {},
   "outputs": [
    {
     "data": {
      "text/plain": [
       "<matplotlib.axes._subplots.AxesSubplot at 0x1177771d0>"
      ]
     },
     "execution_count": 8,
     "metadata": {},
     "output_type": "execute_result"
    },
    {
     "data": {
      "image/png": "[encoded data removed]",
      "text/plain": [
       "<Figure size 432x288 with 1 Axes>"
      ]
     },
     "metadata": {
      "needs_background": "light"
     },
     "output_type": "display_data"
    }
   ],
   "source": [
    "df_s.groupby(['date'])['page_views'].sum().plot()"
   ]
  },
  {
   "cell_type": "code",
   "execution_count": 9,
   "metadata": {},
   "outputs": [
    {
     "data": {
      "text/plain": [
       "<matplotlib.axes._subplots.AxesSubplot at 0x117b3dc10>"
      ]
     },
     "execution_count": 9,
     "metadata": {},
     "output_type": "execute_result"
    },
    {
     "data": {
      "image/png": "[encoded data removed]",
      "text/plain": [
       "<Figure size 432x288 with 1 Axes>"
      ]
     },
     "metadata": {
      "needs_background": "light"
     },
     "output_type": "display_data"
    }
   ],
   "source": [
    "df_s[df_s.model=='golf'].groupby(['date'])['page_views'].sum().plot()"
   ]
  },
  {
   "cell_type": "code",
   "execution_count": 10,
   "metadata": {},
   "outputs": [
    {
     "data": {
      "text/plain": [
       "<matplotlib.axes._subplots.AxesSubplot at 0x11a4f7a50>"
      ]
     },
     "execution_count": 10,
     "metadata": {},
     "output_type": "execute_result"
    },
    {
     "data": {
      "image/png": "[encoded data removed]",
      "text/plain": [
       "<Figure size 432x288 with 1 Axes>"
      ]
     },
     "metadata": {
      "needs_background": "light"
     },
     "output_type": "display_data"
    }
   ],
   "source": [
    "df_s[df_s.model=='model-s'].groupby(['date'])['page_views'].sum().plot()"
   ]
  },
  {
   "cell_type": "code",
   "execution_count": 12,
   "metadata": {},
   "outputs": [
    {
     "data": {
      "text/plain": [
       "5750403"
      ]
     },
     "execution_count": 12,
     "metadata": {},
     "output_type": "execute_result"
    }
   ],
   "source": [
    "df_s[(pd.to_datetime(df_s.date)<pd.to_datetime('20210401'))&(df_s.page_path.str.contains('de'))].page_views.sum()"
   ]
  },
  {
   "cell_type": "code",
   "execution_count": 13,
   "metadata": {},
   "outputs": [
    {
     "data": {
      "text/plain": [
       "1476543"
      ]
     },
     "execution_count": 13,
     "metadata": {},
     "output_type": "execute_result"
    }
   ],
   "source": [
    "df_s[(pd.to_datetime(df_s.date)<pd.to_datetime('20210401'))&(df_s.page_path.str.contains('fr'))].page_views.sum()"
   ]
  },
  {
   "cell_type": "code",
   "execution_count": 250,
   "metadata": {},
   "outputs": [
    {
     "data": {
      "text/plain": [
       "865348"
      ]
     },
     "execution_count": 250,
     "metadata": {},
     "output_type": "execute_result"
    }
   ],
   "source": [
    "df_s[(pd.to_datetime(df_s.date)<pd.to_datetime('20210401'))&(df_s.page_path.str.contains('en'))].listings.count()"
   ]
  },
  {
   "cell_type": "code",
   "execution_count": 251,
   "metadata": {},
   "outputs": [
    {
     "data": {
      "text/plain": [
       "1123217"
      ]
     },
     "execution_count": 251,
     "metadata": {},
     "output_type": "execute_result"
    }
   ],
   "source": [
    "df_s[(pd.to_datetime(df_s.date)<pd.to_datetime('20210401'))&(df_s.page_path.str.contains('it'))].listings.count()"
   ]
  },
  {
   "cell_type": "code",
   "execution_count": 14,
   "metadata": {},
   "outputs": [],
   "source": [
    "df_s['language'] = df_s.page_path.str.slice(1,3)"
   ]
  },
  {
   "cell_type": "code",
   "execution_count": 15,
   "metadata": {},
   "outputs": [],
   "source": [
    "def month(col):\n",
    "    if col[5:7]=='03':\n",
    "        return 'march'\n",
    "    elif col[5:7]=='04':\n",
    "        return 'april'\n",
    "    else:\n",
    "        return 'may'"
   ]
  },
  {
   "cell_type": "code",
   "execution_count": 16,
   "metadata": {},
   "outputs": [],
   "source": [
    "df_s['month'] = df_s.date.apply(month)"
   ]
  },
  {
   "cell_type": "code",
   "execution_count": 18,
   "metadata": {},
   "outputs": [
    {
     "data": {
      "text/html": [
       "<div>\n",
       "<style scoped>\n",
       "    .dataframe tbody tr th:only-of-type {\n",
       "        vertical-align: middle;\n",
       "    }\n",
       "\n",
       "    .dataframe tbody tr th {\n",
       "        vertical-align: top;\n",
       "    }\n",
       "\n",
       "    .dataframe thead th {\n",
       "        text-align: right;\n",
       "    }\n",
       "</style>\n",
       "<table border=\"1\" class=\"dataframe\">\n",
       "  <thead>\n",
       "    <tr style=\"text-align: right;\">\n",
       "      <th></th>\n",
       "      <th>language</th>\n",
       "      <th>month</th>\n",
       "      <th>page_views</th>\n",
       "    </tr>\n",
       "  </thead>\n",
       "  <tbody>\n",
       "    <tr>\n",
       "      <th>0</th>\n",
       "      <td>de</td>\n",
       "      <td>april</td>\n",
       "      <td>4109126</td>\n",
       "    </tr>\n",
       "    <tr>\n",
       "      <th>1</th>\n",
       "      <td>de</td>\n",
       "      <td>march</td>\n",
       "      <td>4812807</td>\n",
       "    </tr>\n",
       "    <tr>\n",
       "      <th>2</th>\n",
       "      <td>en</td>\n",
       "      <td>april</td>\n",
       "      <td>597611</td>\n",
       "    </tr>\n",
       "    <tr>\n",
       "      <th>3</th>\n",
       "      <td>en</td>\n",
       "      <td>march</td>\n",
       "      <td>705531</td>\n",
       "    </tr>\n",
       "    <tr>\n",
       "      <th>4</th>\n",
       "      <td>fr</td>\n",
       "      <td>april</td>\n",
       "      <td>1189803</td>\n",
       "    </tr>\n",
       "    <tr>\n",
       "      <th>5</th>\n",
       "      <td>fr</td>\n",
       "      <td>march</td>\n",
       "      <td>1396398</td>\n",
       "    </tr>\n",
       "    <tr>\n",
       "      <th>6</th>\n",
       "      <td>ht</td>\n",
       "      <td>april</td>\n",
       "      <td>14</td>\n",
       "    </tr>\n",
       "    <tr>\n",
       "      <th>7</th>\n",
       "      <td>ht</td>\n",
       "      <td>march</td>\n",
       "      <td>177</td>\n",
       "    </tr>\n",
       "    <tr>\n",
       "      <th>8</th>\n",
       "      <td>it</td>\n",
       "      <td>april</td>\n",
       "      <td>206856</td>\n",
       "    </tr>\n",
       "    <tr>\n",
       "      <th>9</th>\n",
       "      <td>it</td>\n",
       "      <td>march</td>\n",
       "      <td>243871</td>\n",
       "    </tr>\n",
       "    <tr>\n",
       "      <th>10</th>\n",
       "      <td>re</td>\n",
       "      <td>april</td>\n",
       "      <td>2</td>\n",
       "    </tr>\n",
       "  </tbody>\n",
       "</table>\n",
       "</div>"
      ],
      "text/plain": [
       "   language  month  page_views\n",
       "0        de  april     4109126\n",
       "1        de  march     4812807\n",
       "2        en  april      597611\n",
       "3        en  march      705531\n",
       "4        fr  april     1189803\n",
       "5        fr  march     1396398\n",
       "6        ht  april          14\n",
       "7        ht  march         177\n",
       "8        it  april      206856\n",
       "9        it  march      243871\n",
       "10       re  april           2"
      ]
     },
     "execution_count": 18,
     "metadata": {},
     "output_type": "execute_result"
    }
   ],
   "source": [
    "df_s[df_s.month!='may'].groupby(['language', 'month'])['page_views'].sum().reset_index()"
   ]
  },
  {
   "cell_type": "code",
   "execution_count": 19,
   "metadata": {},
   "outputs": [
    {
     "name": "stderr",
     "output_type": "stream",
     "text": [
      "/anaconda3/lib/python3.7/site-packages/seaborn/categorical.py:3737: UserWarning: The `size` parameter has been renamed to `height`; please update your code.\n",
      "  warnings.warn(msg, UserWarning)\n"
     ]
    },
    {
     "data": {
      "text/plain": [
       "<seaborn.axisgrid.FacetGrid at 0x1064cb390>"
      ]
     },
     "execution_count": 19,
     "metadata": {},
     "output_type": "execute_result"
    },
    {
     "data": {
      "image/png": "[encoded data removed]",
      "text/plain": [
       "<Figure size 1219.75x288 with 1 Axes>"
      ]
     },
     "metadata": {
      "needs_background": "light"
     },
     "output_type": "display_data"
    }
   ],
   "source": [
    "import seaborn as sns\n",
    "x = df_s[df_s.month!='may'].groupby(['language', 'month'])['page_views'].sum().reset_index()\n",
    "x = x[x.language.isin(['de', 'en', 'fr', 'it'])]\n",
    "sns.catplot(x='language', y='page_views', hue='month', data=x, kind='bar', size = 4, aspect = 4)\n"
   ]
  },
  {
   "cell_type": "code",
   "execution_count": 24,
   "metadata": {},
   "outputs": [
    {
     "data": {
      "text/html": [
       "<div>\n",
       "<style scoped>\n",
       "    .dataframe tbody tr th:only-of-type {\n",
       "        vertical-align: middle;\n",
       "    }\n",
       "\n",
       "    .dataframe tbody tr th {\n",
       "        vertical-align: top;\n",
       "    }\n",
       "\n",
       "    .dataframe thead th {\n",
       "        text-align: right;\n",
       "    }\n",
       "</style>\n",
       "<table border=\"1\" class=\"dataframe\">\n",
       "  <thead>\n",
       "    <tr style=\"text-align: right;\">\n",
       "      <th></th>\n",
       "      <th>month</th>\n",
       "      <th>model</th>\n",
       "      <th>page_views</th>\n",
       "    </tr>\n",
       "  </thead>\n",
       "  <tbody>\n",
       "    <tr>\n",
       "      <th>8361</th>\n",
       "      <td>march</td>\n",
       "      <td>golf</td>\n",
       "      <td>124489</td>\n",
       "    </tr>\n",
       "    <tr>\n",
       "      <th>3488</th>\n",
       "      <td>april</td>\n",
       "      <td>golf</td>\n",
       "      <td>99986</td>\n",
       "    </tr>\n",
       "    <tr>\n",
       "      <th>6604</th>\n",
       "      <td>march</td>\n",
       "      <td>3er</td>\n",
       "      <td>74317</td>\n",
       "    </tr>\n",
       "    <tr>\n",
       "      <th>1710</th>\n",
       "      <td>april</td>\n",
       "      <td>3er</td>\n",
       "      <td>66922</td>\n",
       "    </tr>\n",
       "    <tr>\n",
       "      <th>6679</th>\n",
       "      <td>march</td>\n",
       "      <td>911</td>\n",
       "      <td>57487</td>\n",
       "    </tr>\n",
       "    <tr>\n",
       "      <th>1781</th>\n",
       "      <td>april</td>\n",
       "      <td>911</td>\n",
       "      <td>55154</td>\n",
       "    </tr>\n",
       "    <tr>\n",
       "      <th>7363</th>\n",
       "      <td>march</td>\n",
       "      <td>c-klasse</td>\n",
       "      <td>52908</td>\n",
       "    </tr>\n",
       "    <tr>\n",
       "      <th>9305</th>\n",
       "      <td>march</td>\n",
       "      <td>t5</td>\n",
       "      <td>46386</td>\n",
       "    </tr>\n",
       "    <tr>\n",
       "      <th>2458</th>\n",
       "      <td>april</td>\n",
       "      <td>c-klasse</td>\n",
       "      <td>45310</td>\n",
       "    </tr>\n",
       "    <tr>\n",
       "      <th>7648</th>\n",
       "      <td>march</td>\n",
       "      <td>e-klasse</td>\n",
       "      <td>44227</td>\n",
       "    </tr>\n",
       "    <tr>\n",
       "      <th>6835</th>\n",
       "      <td>march</td>\n",
       "      <td>a4</td>\n",
       "      <td>41818</td>\n",
       "    </tr>\n",
       "    <tr>\n",
       "      <th>6832</th>\n",
       "      <td>march</td>\n",
       "      <td>a3</td>\n",
       "      <td>41068</td>\n",
       "    </tr>\n",
       "    <tr>\n",
       "      <th>2751</th>\n",
       "      <td>april</td>\n",
       "      <td>e-klasse</td>\n",
       "      <td>40367</td>\n",
       "    </tr>\n",
       "    <tr>\n",
       "      <th>4465</th>\n",
       "      <td>april</td>\n",
       "      <td>t5</td>\n",
       "      <td>40326</td>\n",
       "    </tr>\n",
       "    <tr>\n",
       "      <th>9306</th>\n",
       "      <td>march</td>\n",
       "      <td>t6</td>\n",
       "      <td>39737</td>\n",
       "    </tr>\n",
       "    <tr>\n",
       "      <th>6645</th>\n",
       "      <td>march</td>\n",
       "      <td>5er</td>\n",
       "      <td>37489</td>\n",
       "    </tr>\n",
       "    <tr>\n",
       "      <th>1751</th>\n",
       "      <td>april</td>\n",
       "      <td>5er</td>\n",
       "      <td>36130</td>\n",
       "    </tr>\n",
       "    <tr>\n",
       "      <th>6824</th>\n",
       "      <td>march</td>\n",
       "      <td>a-klasse</td>\n",
       "      <td>35873</td>\n",
       "    </tr>\n",
       "    <tr>\n",
       "      <th>1917</th>\n",
       "      <td>april</td>\n",
       "      <td>a4</td>\n",
       "      <td>35764</td>\n",
       "    </tr>\n",
       "    <tr>\n",
       "      <th>1915</th>\n",
       "      <td>april</td>\n",
       "      <td>a3</td>\n",
       "      <td>35463</td>\n",
       "    </tr>\n",
       "  </tbody>\n",
       "</table>\n",
       "</div>"
      ],
      "text/plain": [
       "      month     model  page_views\n",
       "8361  march      golf      124489\n",
       "3488  april      golf       99986\n",
       "6604  march       3er       74317\n",
       "1710  april       3er       66922\n",
       "6679  march       911       57487\n",
       "1781  april       911       55154\n",
       "7363  march  c-klasse       52908\n",
       "9305  march        t5       46386\n",
       "2458  april  c-klasse       45310\n",
       "7648  march  e-klasse       44227\n",
       "6835  march        a4       41818\n",
       "6832  march        a3       41068\n",
       "2751  april  e-klasse       40367\n",
       "4465  april        t5       40326\n",
       "9306  march        t6       39737\n",
       "6645  march       5er       37489\n",
       "1751  april       5er       36130\n",
       "6824  march  a-klasse       35873\n",
       "1917  april        a4       35764\n",
       "1915  april        a3       35463"
      ]
     },
     "execution_count": 24,
     "metadata": {},
     "output_type": "execute_result"
    }
   ],
   "source": [
    "df_s[df_s.month!='may'].groupby(['month', 'model'])['page_views'].sum().reset_index().sort_values(by=['page_views', 'model'], ascending = False ).head(20)"
   ]
  },
  {
   "cell_type": "code",
   "execution_count": 43,
   "metadata": {},
   "outputs": [
    {
     "name": "stderr",
     "output_type": "stream",
     "text": [
      "/anaconda3/lib/python3.7/site-packages/seaborn/categorical.py:3737: UserWarning: The `size` parameter has been renamed to `height`; please update your code.\n",
      "  warnings.warn(msg, UserWarning)\n"
     ]
    },
    {
     "data": {
      "text/plain": [
       "<seaborn.axisgrid.FacetGrid at 0x17654b250>"
      ]
     },
     "execution_count": 43,
     "metadata": {},
     "output_type": "execute_result"
    },
    {
     "data": {
      "image/png": "[encoded data removed]",
      "text/plain": [
       "<Figure size 1219.75x288 with 1 Axes>"
      ]
     },
     "metadata": {
      "needs_background": "light"
     },
     "output_type": "display_data"
    }
   ],
   "source": [
    "x = df_s[(df_s.month!='may')&(df_s.model.isin(model_lst))].groupby(['month', 'model'])['page_views'].sum().reset_index().sort_values(by=['page_views', 'model'], ascending = False )\n",
    "sns.catplot(x='model', y='page_views', hue='month', data=x, kind='bar', size = 4, aspect = 4).set_xticklabels(rotation=30)\n"
   ]
  },
  {
   "cell_type": "code",
   "execution_count": 38,
   "metadata": {},
   "outputs": [],
   "source": [
    "model_lst = list(df_s.groupby(['model'])['page_views'].sum().reset_index().sort_values(by='page_views', ascending = False).head(20).model)"
   ]
  },
  {
   "cell_type": "code",
   "execution_count": 44,
   "metadata": {},
   "outputs": [],
   "source": [
    "d_b = df_s[(df_s.month=='march')&(df_s.model.isin(model_lst))].groupby(['model'])['page_views'].sum().reset_index()"
   ]
  },
  {
   "cell_type": "code",
   "execution_count": 45,
   "metadata": {},
   "outputs": [
    {
     "data": {
      "text/html": [
       "<div>\n",
       "<style scoped>\n",
       "    .dataframe tbody tr th:only-of-type {\n",
       "        vertical-align: middle;\n",
       "    }\n",
       "\n",
       "    .dataframe tbody tr th {\n",
       "        vertical-align: top;\n",
       "    }\n",
       "\n",
       "    .dataframe thead th {\n",
       "        text-align: right;\n",
       "    }\n",
       "</style>\n",
       "<table border=\"1\" class=\"dataframe\">\n",
       "  <thead>\n",
       "    <tr style=\"text-align: right;\">\n",
       "      <th></th>\n",
       "      <th>month</th>\n",
       "      <th>model</th>\n",
       "      <th>page_views_x</th>\n",
       "      <th>page_views_y</th>\n",
       "      <th>share</th>\n",
       "    </tr>\n",
       "  </thead>\n",
       "  <tbody>\n",
       "    <tr>\n",
       "      <th>0</th>\n",
       "      <td>march</td>\n",
       "      <td>golf</td>\n",
       "      <td>124489</td>\n",
       "      <td>124489</td>\n",
       "      <td>1.000000</td>\n",
       "    </tr>\n",
       "    <tr>\n",
       "      <th>1</th>\n",
       "      <td>april</td>\n",
       "      <td>golf</td>\n",
       "      <td>99986</td>\n",
       "      <td>124489</td>\n",
       "      <td>0.803171</td>\n",
       "    </tr>\n",
       "    <tr>\n",
       "      <th>2</th>\n",
       "      <td>march</td>\n",
       "      <td>3er</td>\n",
       "      <td>74317</td>\n",
       "      <td>74317</td>\n",
       "      <td>1.000000</td>\n",
       "    </tr>\n",
       "    <tr>\n",
       "      <th>3</th>\n",
       "      <td>april</td>\n",
       "      <td>3er</td>\n",
       "      <td>66922</td>\n",
       "      <td>74317</td>\n",
       "      <td>0.900494</td>\n",
       "    </tr>\n",
       "    <tr>\n",
       "      <th>4</th>\n",
       "      <td>march</td>\n",
       "      <td>911</td>\n",
       "      <td>57487</td>\n",
       "      <td>57487</td>\n",
       "      <td>1.000000</td>\n",
       "    </tr>\n",
       "    <tr>\n",
       "      <th>5</th>\n",
       "      <td>april</td>\n",
       "      <td>911</td>\n",
       "      <td>55154</td>\n",
       "      <td>57487</td>\n",
       "      <td>0.959417</td>\n",
       "    </tr>\n",
       "    <tr>\n",
       "      <th>6</th>\n",
       "      <td>march</td>\n",
       "      <td>c-klasse</td>\n",
       "      <td>52908</td>\n",
       "      <td>52908</td>\n",
       "      <td>1.000000</td>\n",
       "    </tr>\n",
       "    <tr>\n",
       "      <th>7</th>\n",
       "      <td>april</td>\n",
       "      <td>c-klasse</td>\n",
       "      <td>45310</td>\n",
       "      <td>52908</td>\n",
       "      <td>0.856392</td>\n",
       "    </tr>\n",
       "    <tr>\n",
       "      <th>8</th>\n",
       "      <td>march</td>\n",
       "      <td>t5</td>\n",
       "      <td>46386</td>\n",
       "      <td>46386</td>\n",
       "      <td>1.000000</td>\n",
       "    </tr>\n",
       "    <tr>\n",
       "      <th>9</th>\n",
       "      <td>april</td>\n",
       "      <td>t5</td>\n",
       "      <td>40326</td>\n",
       "      <td>46386</td>\n",
       "      <td>0.869357</td>\n",
       "    </tr>\n",
       "    <tr>\n",
       "      <th>10</th>\n",
       "      <td>march</td>\n",
       "      <td>e-klasse</td>\n",
       "      <td>44227</td>\n",
       "      <td>44227</td>\n",
       "      <td>1.000000</td>\n",
       "    </tr>\n",
       "    <tr>\n",
       "      <th>11</th>\n",
       "      <td>april</td>\n",
       "      <td>e-klasse</td>\n",
       "      <td>40367</td>\n",
       "      <td>44227</td>\n",
       "      <td>0.912723</td>\n",
       "    </tr>\n",
       "    <tr>\n",
       "      <th>12</th>\n",
       "      <td>march</td>\n",
       "      <td>a4</td>\n",
       "      <td>41818</td>\n",
       "      <td>41818</td>\n",
       "      <td>1.000000</td>\n",
       "    </tr>\n",
       "    <tr>\n",
       "      <th>13</th>\n",
       "      <td>april</td>\n",
       "      <td>a4</td>\n",
       "      <td>35764</td>\n",
       "      <td>41818</td>\n",
       "      <td>0.855230</td>\n",
       "    </tr>\n",
       "    <tr>\n",
       "      <th>14</th>\n",
       "      <td>march</td>\n",
       "      <td>a3</td>\n",
       "      <td>41068</td>\n",
       "      <td>41068</td>\n",
       "      <td>1.000000</td>\n",
       "    </tr>\n",
       "    <tr>\n",
       "      <th>15</th>\n",
       "      <td>april</td>\n",
       "      <td>a3</td>\n",
       "      <td>35463</td>\n",
       "      <td>41068</td>\n",
       "      <td>0.863519</td>\n",
       "    </tr>\n",
       "    <tr>\n",
       "      <th>16</th>\n",
       "      <td>march</td>\n",
       "      <td>t6</td>\n",
       "      <td>39737</td>\n",
       "      <td>39737</td>\n",
       "      <td>1.000000</td>\n",
       "    </tr>\n",
       "    <tr>\n",
       "      <th>17</th>\n",
       "      <td>april</td>\n",
       "      <td>t6</td>\n",
       "      <td>34700</td>\n",
       "      <td>39737</td>\n",
       "      <td>0.873242</td>\n",
       "    </tr>\n",
       "    <tr>\n",
       "      <th>18</th>\n",
       "      <td>march</td>\n",
       "      <td>5er</td>\n",
       "      <td>37489</td>\n",
       "      <td>37489</td>\n",
       "      <td>1.000000</td>\n",
       "    </tr>\n",
       "    <tr>\n",
       "      <th>19</th>\n",
       "      <td>april</td>\n",
       "      <td>5er</td>\n",
       "      <td>36130</td>\n",
       "      <td>37489</td>\n",
       "      <td>0.963749</td>\n",
       "    </tr>\n",
       "    <tr>\n",
       "      <th>20</th>\n",
       "      <td>march</td>\n",
       "      <td>a-klasse</td>\n",
       "      <td>35873</td>\n",
       "      <td>35873</td>\n",
       "      <td>1.000000</td>\n",
       "    </tr>\n",
       "    <tr>\n",
       "      <th>21</th>\n",
       "      <td>april</td>\n",
       "      <td>a-klasse</td>\n",
       "      <td>30450</td>\n",
       "      <td>35873</td>\n",
       "      <td>0.848828</td>\n",
       "    </tr>\n",
       "    <tr>\n",
       "      <th>22</th>\n",
       "      <td>march</td>\n",
       "      <td>500</td>\n",
       "      <td>35227</td>\n",
       "      <td>35227</td>\n",
       "      <td>1.000000</td>\n",
       "    </tr>\n",
       "    <tr>\n",
       "      <th>23</th>\n",
       "      <td>april</td>\n",
       "      <td>500</td>\n",
       "      <td>33836</td>\n",
       "      <td>35227</td>\n",
       "      <td>0.960513</td>\n",
       "    </tr>\n",
       "    <tr>\n",
       "      <th>24</th>\n",
       "      <td>march</td>\n",
       "      <td>tiguan</td>\n",
       "      <td>34281</td>\n",
       "      <td>34281</td>\n",
       "      <td>1.000000</td>\n",
       "    </tr>\n",
       "    <tr>\n",
       "      <th>25</th>\n",
       "      <td>april</td>\n",
       "      <td>tiguan</td>\n",
       "      <td>26355</td>\n",
       "      <td>34281</td>\n",
       "      <td>0.768793</td>\n",
       "    </tr>\n",
       "    <tr>\n",
       "      <th>26</th>\n",
       "      <td>march</td>\n",
       "      <td>octavia</td>\n",
       "      <td>34277</td>\n",
       "      <td>34277</td>\n",
       "      <td>1.000000</td>\n",
       "    </tr>\n",
       "    <tr>\n",
       "      <th>27</th>\n",
       "      <td>april</td>\n",
       "      <td>octavia</td>\n",
       "      <td>31052</td>\n",
       "      <td>34277</td>\n",
       "      <td>0.905914</td>\n",
       "    </tr>\n",
       "    <tr>\n",
       "      <th>28</th>\n",
       "      <td>march</td>\n",
       "      <td>x5</td>\n",
       "      <td>32131</td>\n",
       "      <td>32131</td>\n",
       "      <td>1.000000</td>\n",
       "    </tr>\n",
       "    <tr>\n",
       "      <th>29</th>\n",
       "      <td>april</td>\n",
       "      <td>x5</td>\n",
       "      <td>28500</td>\n",
       "      <td>32131</td>\n",
       "      <td>0.886994</td>\n",
       "    </tr>\n",
       "    <tr>\n",
       "      <th>30</th>\n",
       "      <td>march</td>\n",
       "      <td>polo</td>\n",
       "      <td>32086</td>\n",
       "      <td>32086</td>\n",
       "      <td>1.000000</td>\n",
       "    </tr>\n",
       "    <tr>\n",
       "      <th>31</th>\n",
       "      <td>april</td>\n",
       "      <td>polo</td>\n",
       "      <td>24612</td>\n",
       "      <td>32086</td>\n",
       "      <td>0.767064</td>\n",
       "    </tr>\n",
       "    <tr>\n",
       "      <th>32</th>\n",
       "      <td>march</td>\n",
       "      <td>a6</td>\n",
       "      <td>29960</td>\n",
       "      <td>29960</td>\n",
       "      <td>1.000000</td>\n",
       "    </tr>\n",
       "    <tr>\n",
       "      <th>33</th>\n",
       "      <td>april</td>\n",
       "      <td>a6</td>\n",
       "      <td>26380</td>\n",
       "      <td>29960</td>\n",
       "      <td>0.880507</td>\n",
       "    </tr>\n",
       "    <tr>\n",
       "      <th>34</th>\n",
       "      <td>march</td>\n",
       "      <td>x3</td>\n",
       "      <td>29756</td>\n",
       "      <td>29756</td>\n",
       "      <td>1.000000</td>\n",
       "    </tr>\n",
       "    <tr>\n",
       "      <th>35</th>\n",
       "      <td>april</td>\n",
       "      <td>x3</td>\n",
       "      <td>26745</td>\n",
       "      <td>29756</td>\n",
       "      <td>0.898810</td>\n",
       "    </tr>\n",
       "    <tr>\n",
       "      <th>36</th>\n",
       "      <td>march</td>\n",
       "      <td>passat</td>\n",
       "      <td>28699</td>\n",
       "      <td>28699</td>\n",
       "      <td>1.000000</td>\n",
       "    </tr>\n",
       "    <tr>\n",
       "      <th>37</th>\n",
       "      <td>april</td>\n",
       "      <td>passat</td>\n",
       "      <td>23254</td>\n",
       "      <td>28699</td>\n",
       "      <td>0.810272</td>\n",
       "    </tr>\n",
       "    <tr>\n",
       "      <th>38</th>\n",
       "      <td>march</td>\n",
       "      <td>1er</td>\n",
       "      <td>27504</td>\n",
       "      <td>27504</td>\n",
       "      <td>1.000000</td>\n",
       "    </tr>\n",
       "    <tr>\n",
       "      <th>39</th>\n",
       "      <td>april</td>\n",
       "      <td>1er</td>\n",
       "      <td>23825</td>\n",
       "      <td>27504</td>\n",
       "      <td>0.866238</td>\n",
       "    </tr>\n",
       "  </tbody>\n",
       "</table>\n",
       "</div>"
      ],
      "text/plain": [
       "    month     model  page_views_x  page_views_y     share\n",
       "0   march      golf        124489        124489  1.000000\n",
       "1   april      golf         99986        124489  0.803171\n",
       "2   march       3er         74317         74317  1.000000\n",
       "3   april       3er         66922         74317  0.900494\n",
       "4   march       911         57487         57487  1.000000\n",
       "5   april       911         55154         57487  0.959417\n",
       "6   march  c-klasse         52908         52908  1.000000\n",
       "7   april  c-klasse         45310         52908  0.856392\n",
       "8   march        t5         46386         46386  1.000000\n",
       "9   april        t5         40326         46386  0.869357\n",
       "10  march  e-klasse         44227         44227  1.000000\n",
       "11  april  e-klasse         40367         44227  0.912723\n",
       "12  march        a4         41818         41818  1.000000\n",
       "13  april        a4         35764         41818  0.855230\n",
       "14  march        a3         41068         41068  1.000000\n",
       "15  april        a3         35463         41068  0.863519\n",
       "16  march        t6         39737         39737  1.000000\n",
       "17  april        t6         34700         39737  0.873242\n",
       "18  march       5er         37489         37489  1.000000\n",
       "19  april       5er         36130         37489  0.963749\n",
       "20  march  a-klasse         35873         35873  1.000000\n",
       "21  april  a-klasse         30450         35873  0.848828\n",
       "22  march       500         35227         35227  1.000000\n",
       "23  april       500         33836         35227  0.960513\n",
       "24  march    tiguan         34281         34281  1.000000\n",
       "25  april    tiguan         26355         34281  0.768793\n",
       "26  march   octavia         34277         34277  1.000000\n",
       "27  april   octavia         31052         34277  0.905914\n",
       "28  march        x5         32131         32131  1.000000\n",
       "29  april        x5         28500         32131  0.886994\n",
       "30  march      polo         32086         32086  1.000000\n",
       "31  april      polo         24612         32086  0.767064\n",
       "32  march        a6         29960         29960  1.000000\n",
       "33  april        a6         26380         29960  0.880507\n",
       "34  march        x3         29756         29756  1.000000\n",
       "35  april        x3         26745         29756  0.898810\n",
       "36  march    passat         28699         28699  1.000000\n",
       "37  april    passat         23254         28699  0.810272\n",
       "38  march       1er         27504         27504  1.000000\n",
       "39  april       1er         23825         27504  0.866238"
      ]
     },
     "execution_count": 45,
     "metadata": {},
     "output_type": "execute_result"
    }
   ],
   "source": [
    "xx = pd.merge(x, d_b, on=['model'])\n",
    "xx['share'] = xx.page_views_x/xx.page_views_y\n",
    "xx"
   ]
  },
  {
   "cell_type": "code",
   "execution_count": 46,
   "metadata": {},
   "outputs": [
    {
     "data": {
      "text/html": [
       "<div>\n",
       "<style scoped>\n",
       "    .dataframe tbody tr th:only-of-type {\n",
       "        vertical-align: middle;\n",
       "    }\n",
       "\n",
       "    .dataframe tbody tr th {\n",
       "        vertical-align: top;\n",
       "    }\n",
       "\n",
       "    .dataframe thead th {\n",
       "        text-align: right;\n",
       "    }\n",
       "</style>\n",
       "<table border=\"1\" class=\"dataframe\">\n",
       "  <thead>\n",
       "    <tr style=\"text-align: right;\">\n",
       "      <th></th>\n",
       "      <th>month</th>\n",
       "      <th>model</th>\n",
       "      <th>page_views_x</th>\n",
       "      <th>page_views_y</th>\n",
       "      <th>share</th>\n",
       "    </tr>\n",
       "  </thead>\n",
       "  <tbody>\n",
       "    <tr>\n",
       "      <th>1</th>\n",
       "      <td>april</td>\n",
       "      <td>golf</td>\n",
       "      <td>99986</td>\n",
       "      <td>124489</td>\n",
       "      <td>0.803171</td>\n",
       "    </tr>\n",
       "    <tr>\n",
       "      <th>21</th>\n",
       "      <td>april</td>\n",
       "      <td>a-klasse</td>\n",
       "      <td>30450</td>\n",
       "      <td>35873</td>\n",
       "      <td>0.848828</td>\n",
       "    </tr>\n",
       "    <tr>\n",
       "      <th>25</th>\n",
       "      <td>april</td>\n",
       "      <td>tiguan</td>\n",
       "      <td>26355</td>\n",
       "      <td>34281</td>\n",
       "      <td>0.768793</td>\n",
       "    </tr>\n",
       "    <tr>\n",
       "      <th>31</th>\n",
       "      <td>april</td>\n",
       "      <td>polo</td>\n",
       "      <td>24612</td>\n",
       "      <td>32086</td>\n",
       "      <td>0.767064</td>\n",
       "    </tr>\n",
       "    <tr>\n",
       "      <th>37</th>\n",
       "      <td>april</td>\n",
       "      <td>passat</td>\n",
       "      <td>23254</td>\n",
       "      <td>28699</td>\n",
       "      <td>0.810272</td>\n",
       "    </tr>\n",
       "  </tbody>\n",
       "</table>\n",
       "</div>"
      ],
      "text/plain": [
       "    month     model  page_views_x  page_views_y     share\n",
       "1   april      golf         99986        124489  0.803171\n",
       "21  april  a-klasse         30450         35873  0.848828\n",
       "25  april    tiguan         26355         34281  0.768793\n",
       "31  april      polo         24612         32086  0.767064\n",
       "37  april    passat         23254         28699  0.810272"
      ]
     },
     "execution_count": 46,
     "metadata": {},
     "output_type": "execute_result"
    }
   ],
   "source": [
    "xx[xx.share<0.85]"
   ]
  },
  {
   "cell_type": "code",
   "execution_count": 58,
   "metadata": {},
   "outputs": [
    {
     "data": {
      "text/html": [
       "<div>\n",
       "<style scoped>\n",
       "    .dataframe tbody tr th:only-of-type {\n",
       "        vertical-align: middle;\n",
       "    }\n",
       "\n",
       "    .dataframe tbody tr th {\n",
       "        vertical-align: top;\n",
       "    }\n",
       "\n",
       "    .dataframe thead th {\n",
       "        text-align: right;\n",
       "    }\n",
       "</style>\n",
       "<table border=\"1\" class=\"dataframe\">\n",
       "  <thead>\n",
       "    <tr style=\"text-align: right;\">\n",
       "      <th></th>\n",
       "      <th>month</th>\n",
       "      <th>model</th>\n",
       "      <th>page_views_x</th>\n",
       "      <th>page_views_y</th>\n",
       "      <th>share</th>\n",
       "    </tr>\n",
       "  </thead>\n",
       "  <tbody>\n",
       "    <tr>\n",
       "      <th>5</th>\n",
       "      <td>april</td>\n",
       "      <td>911</td>\n",
       "      <td>55154</td>\n",
       "      <td>57487</td>\n",
       "      <td>0.959417</td>\n",
       "    </tr>\n",
       "    <tr>\n",
       "      <th>11</th>\n",
       "      <td>april</td>\n",
       "      <td>e-klasse</td>\n",
       "      <td>40367</td>\n",
       "      <td>44227</td>\n",
       "      <td>0.912723</td>\n",
       "    </tr>\n",
       "    <tr>\n",
       "      <th>19</th>\n",
       "      <td>april</td>\n",
       "      <td>5er</td>\n",
       "      <td>36130</td>\n",
       "      <td>37489</td>\n",
       "      <td>0.963749</td>\n",
       "    </tr>\n",
       "    <tr>\n",
       "      <th>23</th>\n",
       "      <td>april</td>\n",
       "      <td>500</td>\n",
       "      <td>33836</td>\n",
       "      <td>35227</td>\n",
       "      <td>0.960513</td>\n",
       "    </tr>\n",
       "  </tbody>\n",
       "</table>\n",
       "</div>"
      ],
      "text/plain": [
       "    month     model  page_views_x  page_views_y     share\n",
       "5   april       911         55154         57487  0.959417\n",
       "11  april  e-klasse         40367         44227  0.912723\n",
       "19  april       5er         36130         37489  0.963749\n",
       "23  april       500         33836         35227  0.960513"
      ]
     },
     "execution_count": 58,
     "metadata": {},
     "output_type": "execute_result"
    }
   ],
   "source": [
    "xx[(xx.share>0.91)&(xx.month=='april')]"
   ]
  },
  {
   "cell_type": "code",
   "execution_count": 49,
   "metadata": {},
   "outputs": [],
   "source": [
    "vw_lst = set(df[df.make_key=='vw'].model_key)"
   ]
  },
  {
   "cell_type": "code",
   "execution_count": 55,
   "metadata": {},
   "outputs": [
    {
     "data": {
      "text/plain": [
       "month\n",
       "april    388681\n",
       "march    472789\n",
       "Name: page_views, dtype: int64"
      ]
     },
     "execution_count": 55,
     "metadata": {},
     "output_type": "execute_result"
    }
   ],
   "source": [
    "df_s[(df_s.month!='may')&(df_s.model.isin(vw_lst))].groupby(['month']).page_views.sum()"
   ]
  },
  {
   "cell_type": "code",
   "execution_count": 53,
   "metadata": {},
   "outputs": [
    {
     "data": {
      "text/plain": [
       "0.8221024600826161"
      ]
     },
     "execution_count": 53,
     "metadata": {},
     "output_type": "execute_result"
    }
   ],
   "source": [
    "388681/472789"
   ]
  },
  {
   "cell_type": "code",
   "execution_count": 61,
   "metadata": {},
   "outputs": [],
   "source": [
    "df_s['len'] = df_s.listings.str.len()"
   ]
  },
  {
   "cell_type": "code",
   "execution_count": 62,
   "metadata": {},
   "outputs": [
    {
     "data": {
      "text/plain": [
       "{5,\n",
       " 6,\n",
       " 7,\n",
       " 11,\n",
       " 12,\n",
       " 13,\n",
       " 14,\n",
       " 15,\n",
       " 17,\n",
       " 18,\n",
       " 19,\n",
       " 20,\n",
       " 21,\n",
       " 22,\n",
       " 23,\n",
       " 24,\n",
       " 25,\n",
       " 26,\n",
       " 27,\n",
       " 28,\n",
       " 29,\n",
       " 30,\n",
       " 31,\n",
       " 32,\n",
       " 33,\n",
       " 34,\n",
       " 35,\n",
       " 36,\n",
       " 37,\n",
       " 38,\n",
       " 39,\n",
       " 40,\n",
       " 41,\n",
       " 42,\n",
       " 43,\n",
       " 44,\n",
       " 45,\n",
       " 46,\n",
       " 47,\n",
       " 48,\n",
       " 49,\n",
       " 50,\n",
       " 51,\n",
       " 52,\n",
       " 53,\n",
       " 54,\n",
       " 55,\n",
       " 56,\n",
       " 57,\n",
       " 58,\n",
       " 59,\n",
       " 60,\n",
       " 61,\n",
       " 62,\n",
       " 63,\n",
       " 64,\n",
       " 65,\n",
       " 66,\n",
       " 67,\n",
       " 68,\n",
       " 69,\n",
       " 70,\n",
       " 71,\n",
       " 72,\n",
       " 73,\n",
       " 74,\n",
       " 75,\n",
       " 76,\n",
       " 77,\n",
       " 78,\n",
       " 79,\n",
       " 80,\n",
       " 81,\n",
       " 82,\n",
       " 83,\n",
       " 84,\n",
       " 85,\n",
       " 86,\n",
       " 87,\n",
       " 88,\n",
       " 89,\n",
       " 90,\n",
       " 91,\n",
       " 92,\n",
       " 93,\n",
       " 94,\n",
       " 95,\n",
       " 96,\n",
       " 97,\n",
       " 98,\n",
       " 99,\n",
       " 100,\n",
       " 101,\n",
       " 102,\n",
       " 103,\n",
       " 104,\n",
       " 105,\n",
       " 106,\n",
       " 107,\n",
       " 108,\n",
       " 109,\n",
       " 110,\n",
       " 111,\n",
       " 112,\n",
       " 113,\n",
       " 114,\n",
       " 115,\n",
       " 116,\n",
       " 117,\n",
       " 118,\n",
       " 119,\n",
       " 120,\n",
       " 121,\n",
       " 122,\n",
       " 123,\n",
       " 124,\n",
       " 125,\n",
       " 126,\n",
       " 127,\n",
       " 128,\n",
       " 129,\n",
       " 130,\n",
       " 131,\n",
       " 132,\n",
       " 133,\n",
       " 134,\n",
       " 135,\n",
       " 136,\n",
       " 137,\n",
       " 138,\n",
       " 139,\n",
       " 140,\n",
       " 141,\n",
       " 142,\n",
       " 143,\n",
       " 144,\n",
       " 145,\n",
       " 146,\n",
       " 147,\n",
       " 148,\n",
       " 149,\n",
       " 150,\n",
       " 151,\n",
       " 152,\n",
       " 153,\n",
       " 154,\n",
       " 155,\n",
       " 156,\n",
       " 157,\n",
       " 158,\n",
       " 159,\n",
       " 160,\n",
       " 161,\n",
       " 162,\n",
       " 163,\n",
       " 164,\n",
       " 165,\n",
       " 166,\n",
       " 167,\n",
       " 168,\n",
       " 169,\n",
       " 170,\n",
       " 171,\n",
       " 172,\n",
       " 173,\n",
       " 174,\n",
       " 175,\n",
       " 176,\n",
       " 177,\n",
       " 178,\n",
       " 179,\n",
       " 180,\n",
       " 181,\n",
       " 182,\n",
       " 183,\n",
       " 184,\n",
       " 185,\n",
       " 186,\n",
       " 187,\n",
       " 188,\n",
       " 189,\n",
       " 190,\n",
       " 191,\n",
       " 799}"
      ]
     },
     "execution_count": 62,
     "metadata": {},
     "output_type": "execute_result"
    }
   ],
   "source": [
    "set(df_s.len)"
   ]
  },
  {
   "cell_type": "code",
   "execution_count": 68,
   "metadata": {},
   "outputs": [
    {
     "data": {
      "text/html": [
       "<div>\n",
       "<style scoped>\n",
       "    .dataframe tbody tr th:only-of-type {\n",
       "        vertical-align: middle;\n",
       "    }\n",
       "\n",
       "    .dataframe tbody tr th {\n",
       "        vertical-align: top;\n",
       "    }\n",
       "\n",
       "    .dataframe thead th {\n",
       "        text-align: right;\n",
       "    }\n",
       "</style>\n",
       "<table border=\"1\" class=\"dataframe\">\n",
       "  <thead>\n",
       "    <tr style=\"text-align: right;\">\n",
       "      <th></th>\n",
       "      <th>Unnamed: 0</th>\n",
       "      <th>date</th>\n",
       "      <th>page_path</th>\n",
       "      <th>listings</th>\n",
       "      <th>make</th>\n",
       "      <th>model</th>\n",
       "      <th>page_views</th>\n",
       "      <th>language</th>\n",
       "      <th>month</th>\n",
       "      <th>len</th>\n",
       "    </tr>\n",
       "  </thead>\n",
       "  <tbody>\n",
       "    <tr>\n",
       "      <th>10552</th>\n",
       "      <td>10552</td>\n",
       "      <td>2021-03-01</td>\n",
       "      <td>/de/auto/bentley/brooklands</td>\n",
       "      <td>29289,28153,1264077</td>\n",
       "      <td>bentley</td>\n",
       "      <td>brooklands</td>\n",
       "      <td>2</td>\n",
       "      <td>de</td>\n",
       "      <td>march</td>\n",
       "      <td>19</td>\n",
       "    </tr>\n",
       "    <tr>\n",
       "      <th>10553</th>\n",
       "      <td>10553</td>\n",
       "      <td>2021-03-01</td>\n",
       "      <td>/fr/auto/bentley/brooklands</td>\n",
       "      <td>29289,28153,1264077</td>\n",
       "      <td>bentley</td>\n",
       "      <td>brooklands</td>\n",
       "      <td>1</td>\n",
       "      <td>fr</td>\n",
       "      <td>march</td>\n",
       "      <td>19</td>\n",
       "    </tr>\n",
       "    <tr>\n",
       "      <th>48722</th>\n",
       "      <td>48722</td>\n",
       "      <td>2021-03-01</td>\n",
       "      <td>/fr/auto/mercedes-benz/s-klasse?firstRegistrat...</td>\n",
       "      <td>26313,25779,1638924</td>\n",
       "      <td>mercedes-benz</td>\n",
       "      <td>s-klasse</td>\n",
       "      <td>1</td>\n",
       "      <td>fr</td>\n",
       "      <td>march</td>\n",
       "      <td>19</td>\n",
       "    </tr>\n",
       "    <tr>\n",
       "      <th>49374</th>\n",
       "      <td>49374</td>\n",
       "      <td>2021-03-01</td>\n",
       "      <td>/fr/auto/mercedes-benz/slr-mclaren?sortType=PR...</td>\n",
       "      <td>1581872,23850,27819</td>\n",
       "      <td>mercedes-benz</td>\n",
       "      <td>slr-mclaren</td>\n",
       "      <td>1</td>\n",
       "      <td>fr</td>\n",
       "      <td>march</td>\n",
       "      <td>19</td>\n",
       "    </tr>\n",
       "    <tr>\n",
       "      <th>62886</th>\n",
       "      <td>62886</td>\n",
       "      <td>2021-03-02</td>\n",
       "      <td>/en/auto/ford?typeKey=Titanium&amp;buyNowEligibleO...</td>\n",
       "      <td>1314964,63323,63324</td>\n",
       "      <td>ford</td>\n",
       "      <td>NaN</td>\n",
       "      <td>1</td>\n",
       "      <td>en</td>\n",
       "      <td>march</td>\n",
       "      <td>19</td>\n",
       "    </tr>\n",
       "    <tr>\n",
       "      <th>...</th>\n",
       "      <td>...</td>\n",
       "      <td>...</td>\n",
       "      <td>...</td>\n",
       "      <td>...</td>\n",
       "      <td>...</td>\n",
       "      <td>...</td>\n",
       "      <td>...</td>\n",
       "      <td>...</td>\n",
       "      <td>...</td>\n",
       "      <td>...</td>\n",
       "    </tr>\n",
       "    <tr>\n",
       "      <th>7360894</th>\n",
       "      <td>7360894</td>\n",
       "      <td>2021-05-03</td>\n",
       "      <td>/de/auto/estate/audi?conditionType=used&amp;cityId...</td>\n",
       "      <td>1549574,70707,70691</td>\n",
       "      <td>audi</td>\n",
       "      <td>NaN</td>\n",
       "      <td>1</td>\n",
       "      <td>de</td>\n",
       "      <td>may</td>\n",
       "      <td>19</td>\n",
       "    </tr>\n",
       "    <tr>\n",
       "      <th>7397408</th>\n",
       "      <td>7397408</td>\n",
       "      <td>2021-05-03</td>\n",
       "      <td>/de/auto/search?priceTo=7500&amp;mileageTo=150000&amp;...</td>\n",
       "      <td>151466,239730,28727</td>\n",
       "      <td>NaN</td>\n",
       "      <td>NaN</td>\n",
       "      <td>1</td>\n",
       "      <td>de</td>\n",
       "      <td>may</td>\n",
       "      <td>19</td>\n",
       "    </tr>\n",
       "    <tr>\n",
       "      <th>7512386</th>\n",
       "      <td>7512386</td>\n",
       "      <td>2021-05-05</td>\n",
       "      <td>/de/auto/search?bodyType=bus,van&amp;cityId=5921&amp;r...</td>\n",
       "      <td>311207,483012,84918</td>\n",
       "      <td>NaN</td>\n",
       "      <td>NaN</td>\n",
       "      <td>1</td>\n",
       "      <td>de</td>\n",
       "      <td>may</td>\n",
       "      <td>19</td>\n",
       "    </tr>\n",
       "    <tr>\n",
       "      <th>7524583</th>\n",
       "      <td>7524583</td>\n",
       "      <td>2021-05-05</td>\n",
       "      <td>/fr/auto/search?conditionType=used,demonstrati...</td>\n",
       "      <td>528270,35670,277723</td>\n",
       "      <td>NaN</td>\n",
       "      <td>NaN</td>\n",
       "      <td>1</td>\n",
       "      <td>fr</td>\n",
       "      <td>may</td>\n",
       "      <td>19</td>\n",
       "    </tr>\n",
       "    <tr>\n",
       "      <th>7532445</th>\n",
       "      <td>7532445</td>\n",
       "      <td>2021-05-05</td>\n",
       "      <td>/de/auto/search?conditionType=used,demonstrati...</td>\n",
       "      <td>36243,161523,299538</td>\n",
       "      <td>NaN</td>\n",
       "      <td>NaN</td>\n",
       "      <td>1</td>\n",
       "      <td>de</td>\n",
       "      <td>may</td>\n",
       "      <td>19</td>\n",
       "    </tr>\n",
       "  </tbody>\n",
       "</table>\n",
       "<p>239 rows × 10 columns</p>\n",
       "</div>"
      ],
      "text/plain": [
       "         Unnamed: 0        date  \\\n",
       "10552         10552  2021-03-01   \n",
       "10553         10553  2021-03-01   \n",
       "48722         48722  2021-03-01   \n",
       "49374         49374  2021-03-01   \n",
       "62886         62886  2021-03-02   \n",
       "...             ...         ...   \n",
       "7360894     7360894  2021-05-03   \n",
       "7397408     7397408  2021-05-03   \n",
       "7512386     7512386  2021-05-05   \n",
       "7524583     7524583  2021-05-05   \n",
       "7532445     7532445  2021-05-05   \n",
       "\n",
       "                                                 page_path  \\\n",
       "10552                          /de/auto/bentley/brooklands   \n",
       "10553                          /fr/auto/bentley/brooklands   \n",
       "48722    /fr/auto/mercedes-benz/s-klasse?firstRegistrat...   \n",
       "49374    /fr/auto/mercedes-benz/slr-mclaren?sortType=PR...   \n",
       "62886    /en/auto/ford?typeKey=Titanium&buyNowEligibleO...   \n",
       "...                                                    ...   \n",
       "7360894  /de/auto/estate/audi?conditionType=used&cityId...   \n",
       "7397408  /de/auto/search?priceTo=7500&mileageTo=150000&...   \n",
       "7512386  /de/auto/search?bodyType=bus,van&cityId=5921&r...   \n",
       "7524583  /fr/auto/search?conditionType=used,demonstrati...   \n",
       "7532445  /de/auto/search?conditionType=used,demonstrati...   \n",
       "\n",
       "                    listings           make        model  page_views language  \\\n",
       "10552    29289,28153,1264077        bentley   brooklands           2       de   \n",
       "10553    29289,28153,1264077        bentley   brooklands           1       fr   \n",
       "48722    26313,25779,1638924  mercedes-benz     s-klasse           1       fr   \n",
       "49374    1581872,23850,27819  mercedes-benz  slr-mclaren           1       fr   \n",
       "62886    1314964,63323,63324           ford          NaN           1       en   \n",
       "...                      ...            ...          ...         ...      ...   \n",
       "7360894  1549574,70707,70691           audi          NaN           1       de   \n",
       "7397408  151466,239730,28727            NaN          NaN           1       de   \n",
       "7512386  311207,483012,84918            NaN          NaN           1       de   \n",
       "7524583  528270,35670,277723            NaN          NaN           1       fr   \n",
       "7532445  36243,161523,299538            NaN          NaN           1       de   \n",
       "\n",
       "         month  len  \n",
       "10552    march   19  \n",
       "10553    march   19  \n",
       "48722    march   19  \n",
       "49374    march   19  \n",
       "62886    march   19  \n",
       "...        ...  ...  \n",
       "7360894    may   19  \n",
       "7397408    may   19  \n",
       "7512386    may   19  \n",
       "7524583    may   19  \n",
       "7532445    may   19  \n",
       "\n",
       "[239 rows x 10 columns]"
      ]
     },
     "execution_count": 68,
     "metadata": {},
     "output_type": "execute_result"
    }
   ],
   "source": [
    "df_s[df_s.len==19]"
   ]
  },
  {
   "cell_type": "code",
   "execution_count": 74,
   "metadata": {},
   "outputs": [],
   "source": [
    "def check_listings(df):\n",
    "    out = []\n",
    "    for index, row in df.iterrows():\n",
    "        l = row.listings\n",
    "        check = l.str.isnumeric()\n",
    "        out.append([x for x in check if x is True], l)\n",
    "        "
   ]
  },
  {
   "cell_type": "code",
   "execution_count": 75,
   "metadata": {},
   "outputs": [
    {
     "ename": "AttributeError",
     "evalue": "(\"'Series' object has no attribute 'iterrows'\", 'occurred at index Unnamed: 0')",
     "output_type": "error",
     "traceback": [
      "\u001b[0;31m---------------------------------------------------------------------------\u001b[0m",
      "\u001b[0;31mAttributeError\u001b[0m                            Traceback (most recent call last)",
      "\u001b[0;32m<ipython-input-75-ba898dfaae54>\u001b[0m in \u001b[0;36m<module>\u001b[0;34m\u001b[0m\n\u001b[0;32m----> 1\u001b[0;31m \u001b[0mdf_s\u001b[0m\u001b[0;34m.\u001b[0m\u001b[0mapply\u001b[0m\u001b[0;34m(\u001b[0m\u001b[0mcheck_listings\u001b[0m\u001b[0;34m)\u001b[0m\u001b[0;34m\u001b[0m\u001b[0;34m\u001b[0m\u001b[0m\n\u001b[0m",
      "\u001b[0;32m/anaconda3/lib/python3.7/site-packages/pandas/core/frame.py\u001b[0m in \u001b[0;36mapply\u001b[0;34m(self, func, axis, broadcast, raw, reduce, result_type, args, **kwds)\u001b[0m\n\u001b[1;32m   6926\u001b[0m             \u001b[0mkwds\u001b[0m\u001b[0;34m=\u001b[0m\u001b[0mkwds\u001b[0m\u001b[0;34m,\u001b[0m\u001b[0;34m\u001b[0m\u001b[0;34m\u001b[0m\u001b[0m\n\u001b[1;32m   6927\u001b[0m         )\n\u001b[0;32m-> 6928\u001b[0;31m         \u001b[0;32mreturn\u001b[0m \u001b[0mop\u001b[0m\u001b[0;34m.\u001b[0m\u001b[0mget_result\u001b[0m\u001b[0;34m(\u001b[0m\u001b[0;34m)\u001b[0m\u001b[0;34m\u001b[0m\u001b[0;34m\u001b[0m\u001b[0m\n\u001b[0m\u001b[1;32m   6929\u001b[0m \u001b[0;34m\u001b[0m\u001b[0m\n\u001b[1;32m   6930\u001b[0m     \u001b[0;32mdef\u001b[0m \u001b[0mapplymap\u001b[0m\u001b[0;34m(\u001b[0m\u001b[0mself\u001b[0m\u001b[0;34m,\u001b[0m \u001b[0mfunc\u001b[0m\u001b[0;34m)\u001b[0m\u001b[0;34m:\u001b[0m\u001b[0;34m\u001b[0m\u001b[0;34m\u001b[0m\u001b[0m\n",
      "\u001b[0;32m/anaconda3/lib/python3.7/site-packages/pandas/core/apply.py\u001b[0m in \u001b[0;36mget_result\u001b[0;34m(self)\u001b[0m\n\u001b[1;32m    184\u001b[0m             \u001b[0;32mreturn\u001b[0m \u001b[0mself\u001b[0m\u001b[0;34m.\u001b[0m\u001b[0mapply_raw\u001b[0m\u001b[0;34m(\u001b[0m\u001b[0;34m)\u001b[0m\u001b[0;34m\u001b[0m\u001b[0;34m\u001b[0m\u001b[0m\n\u001b[1;32m    185\u001b[0m \u001b[0;34m\u001b[0m\u001b[0m\n\u001b[0;32m--> 186\u001b[0;31m         \u001b[0;32mreturn\u001b[0m \u001b[0mself\u001b[0m\u001b[0;34m.\u001b[0m\u001b[0mapply_standard\u001b[0m\u001b[0;34m(\u001b[0m\u001b[0;34m)\u001b[0m\u001b[0;34m\u001b[0m\u001b[0;34m\u001b[0m\u001b[0m\n\u001b[0m\u001b[1;32m    187\u001b[0m \u001b[0;34m\u001b[0m\u001b[0m\n\u001b[1;32m    188\u001b[0m     \u001b[0;32mdef\u001b[0m \u001b[0mapply_empty_result\u001b[0m\u001b[0;34m(\u001b[0m\u001b[0mself\u001b[0m\u001b[0;34m)\u001b[0m\u001b[0;34m:\u001b[0m\u001b[0;34m\u001b[0m\u001b[0;34m\u001b[0m\u001b[0m\n",
      "\u001b[0;32m/anaconda3/lib/python3.7/site-packages/pandas/core/apply.py\u001b[0m in \u001b[0;36mapply_standard\u001b[0;34m(self)\u001b[0m\n\u001b[1;32m    290\u001b[0m \u001b[0;34m\u001b[0m\u001b[0m\n\u001b[1;32m    291\u001b[0m         \u001b[0;31m# compute the result using the series generator\u001b[0m\u001b[0;34m\u001b[0m\u001b[0;34m\u001b[0m\u001b[0;34m\u001b[0m\u001b[0m\n\u001b[0;32m--> 292\u001b[0;31m         \u001b[0mself\u001b[0m\u001b[0;34m.\u001b[0m\u001b[0mapply_series_generator\u001b[0m\u001b[0;34m(\u001b[0m\u001b[0;34m)\u001b[0m\u001b[0;34m\u001b[0m\u001b[0;34m\u001b[0m\u001b[0m\n\u001b[0m\u001b[1;32m    293\u001b[0m \u001b[0;34m\u001b[0m\u001b[0m\n\u001b[1;32m    294\u001b[0m         \u001b[0;31m# wrap results\u001b[0m\u001b[0;34m\u001b[0m\u001b[0;34m\u001b[0m\u001b[0;34m\u001b[0m\u001b[0m\n",
      "\u001b[0;32m/anaconda3/lib/python3.7/site-packages/pandas/core/apply.py\u001b[0m in \u001b[0;36mapply_series_generator\u001b[0;34m(self)\u001b[0m\n\u001b[1;32m    319\u001b[0m             \u001b[0;32mtry\u001b[0m\u001b[0;34m:\u001b[0m\u001b[0;34m\u001b[0m\u001b[0;34m\u001b[0m\u001b[0m\n\u001b[1;32m    320\u001b[0m                 \u001b[0;32mfor\u001b[0m \u001b[0mi\u001b[0m\u001b[0;34m,\u001b[0m \u001b[0mv\u001b[0m \u001b[0;32min\u001b[0m \u001b[0menumerate\u001b[0m\u001b[0;34m(\u001b[0m\u001b[0mseries_gen\u001b[0m\u001b[0;34m)\u001b[0m\u001b[0;34m:\u001b[0m\u001b[0;34m\u001b[0m\u001b[0;34m\u001b[0m\u001b[0m\n\u001b[0;32m--> 321\u001b[0;31m                     \u001b[0mresults\u001b[0m\u001b[0;34m[\u001b[0m\u001b[0mi\u001b[0m\u001b[0;34m]\u001b[0m \u001b[0;34m=\u001b[0m \u001b[0mself\u001b[0m\u001b[0;34m.\u001b[0m\u001b[0mf\u001b[0m\u001b[0;34m(\u001b[0m\u001b[0mv\u001b[0m\u001b[0;34m)\u001b[0m\u001b[0;34m\u001b[0m\u001b[0;34m\u001b[0m\u001b[0m\n\u001b[0m\u001b[1;32m    322\u001b[0m                     \u001b[0mkeys\u001b[0m\u001b[0;34m.\u001b[0m\u001b[0mappend\u001b[0m\u001b[0;34m(\u001b[0m\u001b[0mv\u001b[0m\u001b[0;34m.\u001b[0m\u001b[0mname\u001b[0m\u001b[0;34m)\u001b[0m\u001b[0;34m\u001b[0m\u001b[0;34m\u001b[0m\u001b[0m\n\u001b[1;32m    323\u001b[0m             \u001b[0;32mexcept\u001b[0m \u001b[0mException\u001b[0m \u001b[0;32mas\u001b[0m \u001b[0me\u001b[0m\u001b[0;34m:\u001b[0m\u001b[0;34m\u001b[0m\u001b[0;34m\u001b[0m\u001b[0m\n",
      "\u001b[0;32m<ipython-input-74-401015af0152>\u001b[0m in \u001b[0;36mcheck_listings\u001b[0;34m(df)\u001b[0m\n\u001b[1;32m      1\u001b[0m \u001b[0;32mdef\u001b[0m \u001b[0mcheck_listings\u001b[0m\u001b[0;34m(\u001b[0m\u001b[0mdf\u001b[0m\u001b[0;34m)\u001b[0m\u001b[0;34m:\u001b[0m\u001b[0;34m\u001b[0m\u001b[0;34m\u001b[0m\u001b[0m\n\u001b[1;32m      2\u001b[0m     \u001b[0mout\u001b[0m \u001b[0;34m=\u001b[0m \u001b[0;34m[\u001b[0m\u001b[0;34m]\u001b[0m\u001b[0;34m\u001b[0m\u001b[0;34m\u001b[0m\u001b[0m\n\u001b[0;32m----> 3\u001b[0;31m     \u001b[0;32mfor\u001b[0m \u001b[0mindex\u001b[0m\u001b[0;34m,\u001b[0m \u001b[0mrow\u001b[0m \u001b[0;32min\u001b[0m \u001b[0mdf\u001b[0m\u001b[0;34m.\u001b[0m\u001b[0miterrows\u001b[0m\u001b[0;34m(\u001b[0m\u001b[0;34m)\u001b[0m\u001b[0;34m:\u001b[0m\u001b[0;34m\u001b[0m\u001b[0;34m\u001b[0m\u001b[0m\n\u001b[0m\u001b[1;32m      4\u001b[0m         \u001b[0ml\u001b[0m \u001b[0;34m=\u001b[0m \u001b[0mrow\u001b[0m\u001b[0;34m.\u001b[0m\u001b[0mlistings\u001b[0m\u001b[0;34m\u001b[0m\u001b[0;34m\u001b[0m\u001b[0m\n\u001b[1;32m      5\u001b[0m         \u001b[0mcheck\u001b[0m \u001b[0;34m=\u001b[0m \u001b[0ml\u001b[0m\u001b[0;34m.\u001b[0m\u001b[0mstr\u001b[0m\u001b[0;34m.\u001b[0m\u001b[0misnumeric\u001b[0m\u001b[0;34m(\u001b[0m\u001b[0;34m)\u001b[0m\u001b[0;34m\u001b[0m\u001b[0;34m\u001b[0m\u001b[0m\n",
      "\u001b[0;32m/anaconda3/lib/python3.7/site-packages/pandas/core/generic.py\u001b[0m in \u001b[0;36m__getattr__\u001b[0;34m(self, name)\u001b[0m\n\u001b[1;32m   5177\u001b[0m             \u001b[0;32mif\u001b[0m \u001b[0mself\u001b[0m\u001b[0;34m.\u001b[0m\u001b[0m_info_axis\u001b[0m\u001b[0;34m.\u001b[0m\u001b[0m_can_hold_identifiers_and_holds_name\u001b[0m\u001b[0;34m(\u001b[0m\u001b[0mname\u001b[0m\u001b[0;34m)\u001b[0m\u001b[0;34m:\u001b[0m\u001b[0;34m\u001b[0m\u001b[0;34m\u001b[0m\u001b[0m\n\u001b[1;32m   5178\u001b[0m                 \u001b[0;32mreturn\u001b[0m \u001b[0mself\u001b[0m\u001b[0;34m[\u001b[0m\u001b[0mname\u001b[0m\u001b[0;34m]\u001b[0m\u001b[0;34m\u001b[0m\u001b[0;34m\u001b[0m\u001b[0m\n\u001b[0;32m-> 5179\u001b[0;31m             \u001b[0;32mreturn\u001b[0m \u001b[0mobject\u001b[0m\u001b[0;34m.\u001b[0m\u001b[0m__getattribute__\u001b[0m\u001b[0;34m(\u001b[0m\u001b[0mself\u001b[0m\u001b[0;34m,\u001b[0m \u001b[0mname\u001b[0m\u001b[0;34m)\u001b[0m\u001b[0;34m\u001b[0m\u001b[0;34m\u001b[0m\u001b[0m\n\u001b[0m\u001b[1;32m   5180\u001b[0m \u001b[0;34m\u001b[0m\u001b[0m\n\u001b[1;32m   5181\u001b[0m     \u001b[0;32mdef\u001b[0m \u001b[0m__setattr__\u001b[0m\u001b[0;34m(\u001b[0m\u001b[0mself\u001b[0m\u001b[0;34m,\u001b[0m \u001b[0mname\u001b[0m\u001b[0;34m,\u001b[0m \u001b[0mvalue\u001b[0m\u001b[0;34m)\u001b[0m\u001b[0;34m:\u001b[0m\u001b[0;34m\u001b[0m\u001b[0;34m\u001b[0m\u001b[0m\n",
      "\u001b[0;31mAttributeError\u001b[0m: (\"'Series' object has no attribute 'iterrows'\", 'occurred at index Unnamed: 0')"
     ]
    }
   ],
   "source": [
    "df_s.apply(check_listings)"
   ]
  },
  {
   "cell_type": "code",
   "execution_count": 76,
   "metadata": {},
   "outputs": [
    {
     "data": {
      "text/html": [
       "<div>\n",
       "<style scoped>\n",
       "    .dataframe tbody tr th:only-of-type {\n",
       "        vertical-align: middle;\n",
       "    }\n",
       "\n",
       "    .dataframe tbody tr th {\n",
       "        vertical-align: top;\n",
       "    }\n",
       "\n",
       "    .dataframe thead th {\n",
       "        text-align: right;\n",
       "    }\n",
       "</style>\n",
       "<table border=\"1\" class=\"dataframe\">\n",
       "  <thead>\n",
       "    <tr style=\"text-align: right;\">\n",
       "      <th></th>\n",
       "      <th>Unnamed: 0</th>\n",
       "      <th>date</th>\n",
       "      <th>page_path</th>\n",
       "      <th>listings</th>\n",
       "      <th>make</th>\n",
       "      <th>model</th>\n",
       "      <th>page_views</th>\n",
       "      <th>language</th>\n",
       "      <th>month</th>\n",
       "      <th>len</th>\n",
       "    </tr>\n",
       "  </thead>\n",
       "  <tbody>\n",
       "    <tr>\n",
       "      <th>0</th>\n",
       "      <td>0</td>\n",
       "      <td>2021-03-01</td>\n",
       "      <td>/en/auto/ac/cobra</td>\n",
       "      <td>1389343,1238744,1332335,1439058,1331507,133145...</td>\n",
       "      <td>ac</td>\n",
       "      <td>cobra</td>\n",
       "      <td>2</td>\n",
       "      <td>en</td>\n",
       "      <td>march</td>\n",
       "      <td>71</td>\n",
       "    </tr>\n",
       "    <tr>\n",
       "      <th>1</th>\n",
       "      <td>1</td>\n",
       "      <td>2021-03-01</td>\n",
       "      <td>/fr/auto/ac/cobra</td>\n",
       "      <td>1389343,1238744,1332335,1439058,1331507,133145...</td>\n",
       "      <td>ac</td>\n",
       "      <td>cobra</td>\n",
       "      <td>1</td>\n",
       "      <td>fr</td>\n",
       "      <td>march</td>\n",
       "      <td>71</td>\n",
       "    </tr>\n",
       "    <tr>\n",
       "      <th>2</th>\n",
       "      <td>2</td>\n",
       "      <td>2021-03-01</td>\n",
       "      <td>/de/auto/ac/cobra</td>\n",
       "      <td>1389343,1238744,1332335,1439058,1331507,133145...</td>\n",
       "      <td>ac</td>\n",
       "      <td>cobra</td>\n",
       "      <td>18</td>\n",
       "      <td>de</td>\n",
       "      <td>march</td>\n",
       "      <td>71</td>\n",
       "    </tr>\n",
       "    <tr>\n",
       "      <th>3</th>\n",
       "      <td>3</td>\n",
       "      <td>2021-03-01</td>\n",
       "      <td>/de/auto/ac?conditionType=used,demonstration</td>\n",
       "      <td>1389343,1238744,1332335,1439058,1331507,133145...</td>\n",
       "      <td>ac</td>\n",
       "      <td>NaN</td>\n",
       "      <td>8</td>\n",
       "      <td>de</td>\n",
       "      <td>march</td>\n",
       "      <td>71</td>\n",
       "    </tr>\n",
       "    <tr>\n",
       "      <th>4</th>\n",
       "      <td>4</td>\n",
       "      <td>2021-03-01</td>\n",
       "      <td>/de/auto/coupe/ac</td>\n",
       "      <td>1331380</td>\n",
       "      <td>ac</td>\n",
       "      <td>NaN</td>\n",
       "      <td>1</td>\n",
       "      <td>de</td>\n",
       "      <td>march</td>\n",
       "      <td>7</td>\n",
       "    </tr>\n",
       "  </tbody>\n",
       "</table>\n",
       "</div>"
      ],
      "text/plain": [
       "   Unnamed: 0        date                                     page_path  \\\n",
       "0           0  2021-03-01                             /en/auto/ac/cobra   \n",
       "1           1  2021-03-01                             /fr/auto/ac/cobra   \n",
       "2           2  2021-03-01                             /de/auto/ac/cobra   \n",
       "3           3  2021-03-01  /de/auto/ac?conditionType=used,demonstration   \n",
       "4           4  2021-03-01                             /de/auto/coupe/ac   \n",
       "\n",
       "                                            listings make  model  page_views  \\\n",
       "0  1389343,1238744,1332335,1439058,1331507,133145...   ac  cobra           2   \n",
       "1  1389343,1238744,1332335,1439058,1331507,133145...   ac  cobra           1   \n",
       "2  1389343,1238744,1332335,1439058,1331507,133145...   ac  cobra          18   \n",
       "3  1389343,1238744,1332335,1439058,1331507,133145...   ac    NaN           8   \n",
       "4                                            1331380   ac    NaN           1   \n",
       "\n",
       "  language  month  len  \n",
       "0       en  march   71  \n",
       "1       fr  march   71  \n",
       "2       de  march   71  \n",
       "3       de  march   71  \n",
       "4       de  march    7  "
      ]
     },
     "execution_count": 76,
     "metadata": {},
     "output_type": "execute_result"
    }
   ],
   "source": [
    "df_s.head()"
   ]
  },
  {
   "cell_type": "code",
   "execution_count": 80,
   "metadata": {},
   "outputs": [
    {
     "ename": "KeyboardInterrupt",
     "evalue": "",
     "output_type": "error",
     "traceback": [
      "\u001b[0;31m---------------------------------------------------------------------------\u001b[0m",
      "\u001b[0;31mKeyboardInterrupt\u001b[0m                         Traceback (most recent call last)",
      "\u001b[0;32m<ipython-input-80-6a22d12c2eba>\u001b[0m in \u001b[0;36m<module>\u001b[0;34m\u001b[0m\n\u001b[1;32m      1\u001b[0m \u001b[0mout\u001b[0m \u001b[0;34m=\u001b[0m \u001b[0;34m[\u001b[0m\u001b[0;34m]\u001b[0m\u001b[0;34m\u001b[0m\u001b[0;34m\u001b[0m\u001b[0m\n\u001b[0;32m----> 2\u001b[0;31m \u001b[0;32mfor\u001b[0m \u001b[0mindex\u001b[0m\u001b[0;34m,\u001b[0m \u001b[0mrow\u001b[0m \u001b[0;32min\u001b[0m \u001b[0mdf_s\u001b[0m\u001b[0;34m.\u001b[0m\u001b[0miterrows\u001b[0m\u001b[0;34m(\u001b[0m\u001b[0;34m)\u001b[0m\u001b[0;34m:\u001b[0m\u001b[0;34m\u001b[0m\u001b[0;34m\u001b[0m\u001b[0m\n\u001b[0m\u001b[1;32m      3\u001b[0m         \u001b[0ml\u001b[0m \u001b[0;34m=\u001b[0m \u001b[0mrow\u001b[0m\u001b[0;34m.\u001b[0m\u001b[0mlistings\u001b[0m\u001b[0;34m\u001b[0m\u001b[0;34m\u001b[0m\u001b[0m\n\u001b[1;32m      4\u001b[0m         \u001b[0mcheck\u001b[0m \u001b[0;34m=\u001b[0m \u001b[0ml\u001b[0m\u001b[0;34m.\u001b[0m\u001b[0misnumeric\u001b[0m\u001b[0;34m(\u001b[0m\u001b[0;34m)\u001b[0m\u001b[0;34m\u001b[0m\u001b[0;34m\u001b[0m\u001b[0m\n\u001b[1;32m      5\u001b[0m         \u001b[0mout\u001b[0m\u001b[0;34m.\u001b[0m\u001b[0mappend\u001b[0m\u001b[0;34m(\u001b[0m\u001b[0mcheck\u001b[0m\u001b[0;34m)\u001b[0m\u001b[0;34m\u001b[0m\u001b[0;34m\u001b[0m\u001b[0m\n",
      "\u001b[0;32m/anaconda3/lib/python3.7/site-packages/pandas/core/frame.py\u001b[0m in \u001b[0;36miterrows\u001b[0;34m(self)\u001b[0m\n\u001b[1;32m    907\u001b[0m         \u001b[0mklass\u001b[0m \u001b[0;34m=\u001b[0m \u001b[0mself\u001b[0m\u001b[0;34m.\u001b[0m\u001b[0m_constructor_sliced\u001b[0m\u001b[0;34m\u001b[0m\u001b[0;34m\u001b[0m\u001b[0m\n\u001b[1;32m    908\u001b[0m         \u001b[0;32mfor\u001b[0m \u001b[0mk\u001b[0m\u001b[0;34m,\u001b[0m \u001b[0mv\u001b[0m \u001b[0;32min\u001b[0m \u001b[0mzip\u001b[0m\u001b[0;34m(\u001b[0m\u001b[0mself\u001b[0m\u001b[0;34m.\u001b[0m\u001b[0mindex\u001b[0m\u001b[0;34m,\u001b[0m \u001b[0mself\u001b[0m\u001b[0;34m.\u001b[0m\u001b[0mvalues\u001b[0m\u001b[0;34m)\u001b[0m\u001b[0;34m:\u001b[0m\u001b[0;34m\u001b[0m\u001b[0;34m\u001b[0m\u001b[0m\n\u001b[0;32m--> 909\u001b[0;31m             \u001b[0ms\u001b[0m \u001b[0;34m=\u001b[0m \u001b[0mklass\u001b[0m\u001b[0;34m(\u001b[0m\u001b[0mv\u001b[0m\u001b[0;34m,\u001b[0m \u001b[0mindex\u001b[0m\u001b[0;34m=\u001b[0m\u001b[0mcolumns\u001b[0m\u001b[0;34m,\u001b[0m \u001b[0mname\u001b[0m\u001b[0;34m=\u001b[0m\u001b[0mk\u001b[0m\u001b[0;34m)\u001b[0m\u001b[0;34m\u001b[0m\u001b[0;34m\u001b[0m\u001b[0m\n\u001b[0m\u001b[1;32m    910\u001b[0m             \u001b[0;32myield\u001b[0m \u001b[0mk\u001b[0m\u001b[0;34m,\u001b[0m \u001b[0ms\u001b[0m\u001b[0;34m\u001b[0m\u001b[0;34m\u001b[0m\u001b[0m\n\u001b[1;32m    911\u001b[0m \u001b[0;34m\u001b[0m\u001b[0m\n",
      "\u001b[0;32m/anaconda3/lib/python3.7/site-packages/pandas/core/series.py\u001b[0m in \u001b[0;36m__init__\u001b[0;34m(self, data, index, dtype, name, copy, fastpath)\u001b[0m\n\u001b[1;32m    312\u001b[0m                     \u001b[0mdata\u001b[0m \u001b[0;34m=\u001b[0m \u001b[0mdata\u001b[0m\u001b[0;34m.\u001b[0m\u001b[0mcopy\u001b[0m\u001b[0;34m(\u001b[0m\u001b[0;34m)\u001b[0m\u001b[0;34m\u001b[0m\u001b[0;34m\u001b[0m\u001b[0m\n\u001b[1;32m    313\u001b[0m             \u001b[0;32melse\u001b[0m\u001b[0;34m:\u001b[0m\u001b[0;34m\u001b[0m\u001b[0;34m\u001b[0m\u001b[0m\n\u001b[0;32m--> 314\u001b[0;31m                 \u001b[0mdata\u001b[0m \u001b[0;34m=\u001b[0m \u001b[0msanitize_array\u001b[0m\u001b[0;34m(\u001b[0m\u001b[0mdata\u001b[0m\u001b[0;34m,\u001b[0m \u001b[0mindex\u001b[0m\u001b[0;34m,\u001b[0m \u001b[0mdtype\u001b[0m\u001b[0;34m,\u001b[0m \u001b[0mcopy\u001b[0m\u001b[0;34m,\u001b[0m \u001b[0mraise_cast_failure\u001b[0m\u001b[0;34m=\u001b[0m\u001b[0;32mTrue\u001b[0m\u001b[0;34m)\u001b[0m\u001b[0;34m\u001b[0m\u001b[0;34m\u001b[0m\u001b[0m\n\u001b[0m\u001b[1;32m    315\u001b[0m \u001b[0;34m\u001b[0m\u001b[0m\n\u001b[1;32m    316\u001b[0m                 \u001b[0mdata\u001b[0m \u001b[0;34m=\u001b[0m \u001b[0mSingleBlockManager\u001b[0m\u001b[0;34m(\u001b[0m\u001b[0mdata\u001b[0m\u001b[0;34m,\u001b[0m \u001b[0mindex\u001b[0m\u001b[0;34m,\u001b[0m \u001b[0mfastpath\u001b[0m\u001b[0;34m=\u001b[0m\u001b[0;32mTrue\u001b[0m\u001b[0;34m)\u001b[0m\u001b[0;34m\u001b[0m\u001b[0;34m\u001b[0m\u001b[0m\n",
      "\u001b[0;32m/anaconda3/lib/python3.7/site-packages/pandas/core/internals/construction.py\u001b[0m in \u001b[0;36msanitize_array\u001b[0;34m(data, index, dtype, copy, raise_cast_failure)\u001b[0m\n\u001b[1;32m    662\u001b[0m         \u001b[0;32melse\u001b[0m\u001b[0;34m:\u001b[0m\u001b[0;34m\u001b[0m\u001b[0;34m\u001b[0m\u001b[0m\n\u001b[1;32m    663\u001b[0m             \u001b[0;31m# we will try to copy be-definition here\u001b[0m\u001b[0;34m\u001b[0m\u001b[0;34m\u001b[0m\u001b[0;34m\u001b[0m\u001b[0m\n\u001b[0;32m--> 664\u001b[0;31m             \u001b[0msubarr\u001b[0m \u001b[0;34m=\u001b[0m \u001b[0m_try_cast\u001b[0m\u001b[0;34m(\u001b[0m\u001b[0mdata\u001b[0m\u001b[0;34m,\u001b[0m \u001b[0mdtype\u001b[0m\u001b[0;34m,\u001b[0m \u001b[0mcopy\u001b[0m\u001b[0;34m,\u001b[0m \u001b[0mraise_cast_failure\u001b[0m\u001b[0;34m)\u001b[0m\u001b[0;34m\u001b[0m\u001b[0;34m\u001b[0m\u001b[0m\n\u001b[0m\u001b[1;32m    665\u001b[0m \u001b[0;34m\u001b[0m\u001b[0m\n\u001b[1;32m    666\u001b[0m     \u001b[0;32melif\u001b[0m \u001b[0misinstance\u001b[0m\u001b[0;34m(\u001b[0m\u001b[0mdata\u001b[0m\u001b[0;34m,\u001b[0m \u001b[0mExtensionArray\u001b[0m\u001b[0;34m)\u001b[0m\u001b[0;34m:\u001b[0m\u001b[0;34m\u001b[0m\u001b[0;34m\u001b[0m\u001b[0m\n",
      "\u001b[0;32m/anaconda3/lib/python3.7/site-packages/pandas/core/internals/construction.py\u001b[0m in \u001b[0;36m_try_cast\u001b[0;34m(arr, dtype, copy, raise_cast_failure)\u001b[0m\n\u001b[1;32m    782\u001b[0m             \u001b[0msubarr\u001b[0m \u001b[0;34m=\u001b[0m \u001b[0mmaybe_cast_to_integer_array\u001b[0m\u001b[0;34m(\u001b[0m\u001b[0marr\u001b[0m\u001b[0;34m,\u001b[0m \u001b[0mdtype\u001b[0m\u001b[0;34m)\u001b[0m\u001b[0;34m\u001b[0m\u001b[0;34m\u001b[0m\u001b[0m\n\u001b[1;32m    783\u001b[0m \u001b[0;34m\u001b[0m\u001b[0m\n\u001b[0;32m--> 784\u001b[0;31m         \u001b[0msubarr\u001b[0m \u001b[0;34m=\u001b[0m \u001b[0mmaybe_cast_to_datetime\u001b[0m\u001b[0;34m(\u001b[0m\u001b[0marr\u001b[0m\u001b[0;34m,\u001b[0m \u001b[0mdtype\u001b[0m\u001b[0;34m)\u001b[0m\u001b[0;34m\u001b[0m\u001b[0;34m\u001b[0m\u001b[0m\n\u001b[0m\u001b[1;32m    785\u001b[0m         \u001b[0;31m# Take care in creating object arrays (but iterators are not\u001b[0m\u001b[0;34m\u001b[0m\u001b[0;34m\u001b[0m\u001b[0;34m\u001b[0m\u001b[0m\n\u001b[1;32m    786\u001b[0m         \u001b[0;31m# supported):\u001b[0m\u001b[0;34m\u001b[0m\u001b[0;34m\u001b[0m\u001b[0;34m\u001b[0m\u001b[0m\n",
      "\u001b[0;32m/anaconda3/lib/python3.7/site-packages/pandas/core/dtypes/cast.py\u001b[0m in \u001b[0;36mmaybe_cast_to_datetime\u001b[0;34m(value, dtype, errors)\u001b[0m\n\u001b[1;32m   1112\u001b[0m             )\n\u001b[1;32m   1113\u001b[0m         ):\n\u001b[0;32m-> 1114\u001b[0;31m             \u001b[0mvalue\u001b[0m \u001b[0;34m=\u001b[0m \u001b[0mmaybe_infer_to_datetimelike\u001b[0m\u001b[0;34m(\u001b[0m\u001b[0mvalue\u001b[0m\u001b[0;34m)\u001b[0m\u001b[0;34m\u001b[0m\u001b[0;34m\u001b[0m\u001b[0m\n\u001b[0m\u001b[1;32m   1115\u001b[0m \u001b[0;34m\u001b[0m\u001b[0m\n\u001b[1;32m   1116\u001b[0m     \u001b[0;32mreturn\u001b[0m \u001b[0mvalue\u001b[0m\u001b[0;34m\u001b[0m\u001b[0;34m\u001b[0m\u001b[0m\n",
      "\u001b[0;32m/anaconda3/lib/python3.7/site-packages/pandas/core/dtypes/cast.py\u001b[0m in \u001b[0;36mmaybe_infer_to_datetimelike\u001b[0;34m(value, convert_dates)\u001b[0m\n\u001b[1;32m    912\u001b[0m \u001b[0;34m\u001b[0m\u001b[0m\n\u001b[1;32m    913\u001b[0m     \u001b[0;31m# we only care about object dtypes\u001b[0m\u001b[0;34m\u001b[0m\u001b[0;34m\u001b[0m\u001b[0;34m\u001b[0m\u001b[0m\n\u001b[0;32m--> 914\u001b[0;31m     \u001b[0;32mif\u001b[0m \u001b[0;32mnot\u001b[0m \u001b[0mis_object_dtype\u001b[0m\u001b[0;34m(\u001b[0m\u001b[0mv\u001b[0m\u001b[0;34m)\u001b[0m\u001b[0;34m:\u001b[0m\u001b[0;34m\u001b[0m\u001b[0;34m\u001b[0m\u001b[0m\n\u001b[0m\u001b[1;32m    915\u001b[0m         \u001b[0;32mreturn\u001b[0m \u001b[0mvalue\u001b[0m\u001b[0;34m\u001b[0m\u001b[0;34m\u001b[0m\u001b[0m\n\u001b[1;32m    916\u001b[0m \u001b[0;34m\u001b[0m\u001b[0m\n",
      "\u001b[0;32m/anaconda3/lib/python3.7/site-packages/pandas/core/dtypes/common.py\u001b[0m in \u001b[0;36mis_object_dtype\u001b[0;34m(arr_or_dtype)\u001b[0m\n\u001b[1;32m    250\u001b[0m     \u001b[0;32mFalse\u001b[0m\u001b[0;34m\u001b[0m\u001b[0;34m\u001b[0m\u001b[0m\n\u001b[1;32m    251\u001b[0m     \"\"\"\n\u001b[0;32m--> 252\u001b[0;31m     \u001b[0;32mreturn\u001b[0m \u001b[0m_is_dtype_type\u001b[0m\u001b[0;34m(\u001b[0m\u001b[0marr_or_dtype\u001b[0m\u001b[0;34m,\u001b[0m \u001b[0mclasses\u001b[0m\u001b[0;34m(\u001b[0m\u001b[0mnp\u001b[0m\u001b[0;34m.\u001b[0m\u001b[0mobject_\u001b[0m\u001b[0;34m)\u001b[0m\u001b[0;34m)\u001b[0m\u001b[0;34m\u001b[0m\u001b[0;34m\u001b[0m\u001b[0m\n\u001b[0m\u001b[1;32m    253\u001b[0m \u001b[0;34m\u001b[0m\u001b[0m\n\u001b[1;32m    254\u001b[0m \u001b[0;34m\u001b[0m\u001b[0m\n",
      "\u001b[0;32m/anaconda3/lib/python3.7/site-packages/pandas/core/dtypes/common.py\u001b[0m in \u001b[0;36m_is_dtype_type\u001b[0;34m(arr_or_dtype, condition)\u001b[0m\n\u001b[1;32m   1911\u001b[0m \u001b[0;34m\u001b[0m\u001b[0m\n\u001b[1;32m   1912\u001b[0m     \u001b[0;31m# if we have an array-like\u001b[0m\u001b[0;34m\u001b[0m\u001b[0;34m\u001b[0m\u001b[0;34m\u001b[0m\u001b[0m\n\u001b[0;32m-> 1913\u001b[0;31m     \u001b[0;32mif\u001b[0m \u001b[0mhasattr\u001b[0m\u001b[0;34m(\u001b[0m\u001b[0marr_or_dtype\u001b[0m\u001b[0;34m,\u001b[0m \u001b[0;34m\"dtype\"\u001b[0m\u001b[0;34m)\u001b[0m\u001b[0;34m:\u001b[0m\u001b[0;34m\u001b[0m\u001b[0;34m\u001b[0m\u001b[0m\n\u001b[0m\u001b[1;32m   1914\u001b[0m         \u001b[0marr_or_dtype\u001b[0m \u001b[0;34m=\u001b[0m \u001b[0marr_or_dtype\u001b[0m\u001b[0;34m.\u001b[0m\u001b[0mdtype\u001b[0m\u001b[0;34m\u001b[0m\u001b[0;34m\u001b[0m\u001b[0m\n\u001b[1;32m   1915\u001b[0m \u001b[0;34m\u001b[0m\u001b[0m\n",
      "\u001b[0;31mKeyboardInterrupt\u001b[0m: "
     ]
    }
   ],
   "source": [
    "out = []\n",
    "for index, row in df_s.iterrows():\n",
    "        l = row.listings\n",
    "        check = l.isnumeric()\n",
    "        out.append(check)\n",
    "    "
   ]
  },
  {
   "cell_type": "code",
   "execution_count": 82,
   "metadata": {},
   "outputs": [],
   "source": [
    "df_s['listings_no_commas'] = df_s.listings.str.replace(',','')"
   ]
  },
  {
   "cell_type": "code",
   "execution_count": 84,
   "metadata": {},
   "outputs": [
    {
     "data": {
      "text/html": [
       "<div>\n",
       "<style scoped>\n",
       "    .dataframe tbody tr th:only-of-type {\n",
       "        vertical-align: middle;\n",
       "    }\n",
       "\n",
       "    .dataframe tbody tr th {\n",
       "        vertical-align: top;\n",
       "    }\n",
       "\n",
       "    .dataframe thead th {\n",
       "        text-align: right;\n",
       "    }\n",
       "</style>\n",
       "<table border=\"1\" class=\"dataframe\">\n",
       "  <thead>\n",
       "    <tr style=\"text-align: right;\">\n",
       "      <th></th>\n",
       "      <th>Unnamed: 0</th>\n",
       "      <th>date</th>\n",
       "      <th>page_path</th>\n",
       "      <th>listings</th>\n",
       "      <th>make</th>\n",
       "      <th>model</th>\n",
       "      <th>page_views</th>\n",
       "      <th>language</th>\n",
       "      <th>month</th>\n",
       "      <th>len</th>\n",
       "      <th>listings_no_commas</th>\n",
       "    </tr>\n",
       "  </thead>\n",
       "  <tbody>\n",
       "  </tbody>\n",
       "</table>\n",
       "</div>"
      ],
      "text/plain": [
       "Empty DataFrame\n",
       "Columns: [Unnamed: 0, date, page_path, listings, make, model, page_views, language, month, len, listings_no_commas]\n",
       "Index: []"
      ]
     },
     "execution_count": 84,
     "metadata": {},
     "output_type": "execute_result"
    }
   ],
   "source": [
    "df_s[~df_s.listings_no_commas.str.isnumeric()]"
   ]
  },
  {
   "cell_type": "code",
   "execution_count": null,
   "metadata": {},
   "outputs": [],
   "source": []
  }
 ],
 "metadata": {
  "kernelspec": {
   "display_name": "Python 3",
   "language": "python",
   "name": "python3"
  },
  "language_info": {
   "codemirror_mode": {
    "name": "ipython",
    "version": 3
   },
   "file_extension": ".py",
   "mimetype": "text/x-python",
   "name": "python",
   "nbconvert_exporter": "python",
   "pygments_lexer": "ipython3",
   "version": "3.7.5"
  }
 },
 "nbformat": 4,
 "nbformat_minor": 2
}
